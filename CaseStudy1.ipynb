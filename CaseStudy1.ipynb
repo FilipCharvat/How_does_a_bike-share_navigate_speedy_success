{
 "cells": [
  {
   "cell_type": "markdown",
   "id": "66cdcb79",
   "metadata": {},
   "source": [
    "<h2 style=\"text-align:center;\">How does a bike-share navigate speedy success.</h2><br>"
   ]
  },
  {
   "cell_type": "markdown",
   "id": "e3f518b7",
   "metadata": {},
   "source": [
    "## Import Python libraries"
   ]
  },
  {
   "cell_type": "code",
   "execution_count": 34,
   "id": "6ade066b-a89d-4f31-9982-281e9e768775",
   "metadata": {},
   "outputs": [],
   "source": [
    "import os\n",
    "import warnings\n",
    "from math import radians, cos, sin, asin, sqrt\n",
    "\n",
    "import pandas as pd\n",
    "import numpy as np\n",
    "import matplotlib.pyplot as plt\n",
    "import seaborn as sns\n",
    "from matplotlib.ticker import FormatStrFormatter\n",
    "import plotly.graph_objects as go"
   ]
  },
  {
   "cell_type": "markdown",
   "id": "c533bd73",
   "metadata": {},
   "source": [
    "## Define constants"
   ]
  },
  {
   "cell_type": "code",
   "execution_count": 35,
   "id": "55e0e264",
   "metadata": {},
   "outputs": [],
   "source": [
    "# Constants\n",
    "MAX_UNIQUE_VALUES = 5\n",
    "DATA_FOLDER = os.path.join(os.getcwd(), \"data\")\n",
    "FILE_2019_Q1 = \"Cyclistic_Trips_2019_Q1.csv\"\n",
    "FILE_2019_Q2 = \"Cyclistic_Trips_2019_Q2.csv\"\n",
    "FILE_2019_Q3 = \"Cyclistic_Trips_2019_Q3.csv\"\n",
    "FILE_2019_Q4 = \"Cyclistic_Trips_2019_Q4.csv\"\n",
    "FILE_2020_Q1 = \"Cyclistic_Trips_2020_Q1.csv\"\n",
    "DAY_ORDER = [\"Monday\", \"Tuesday\", \"Wednesday\", \"Thursday\", \"Friday\", \"Saturday\", \"Sunday\"]\n",
    "CURRENT_YEAR = 2025"
   ]
  },
  {
   "cell_type": "markdown",
   "id": "05b4de55",
   "metadata": {},
   "source": [
    "## Define support functions"
   ]
  },
  {
   "cell_type": "code",
   "execution_count": 36,
   "id": "2a67d19d",
   "metadata": {},
   "outputs": [],
   "source": [
    "def write_unique_values(df, max_unique_values=MAX_UNIQUE_VALUES):\n",
    "    unique_data = {}\n",
    "    for column in df.columns:\n",
    "        unique_num = df[column].nunique(dropna=False)\n",
    "        if unique_num < max_unique_values:\n",
    "            unique_data[column] = [df[column].unique().tolist()]\n",
    "        else:\n",
    "            unique_data[column] = [f\"{unique_num} values\"]\n",
    "    print(pd.DataFrame(unique_data).transpose())"
   ]
  },
  {
   "cell_type": "code",
   "execution_count": 37,
   "id": "cf997da4",
   "metadata": {},
   "outputs": [],
   "source": [
    "def write_data_info(df, name):\n",
    "    with pd.option_context(\"display.max_columns\", None):\n",
    "        print(f\"{name}:dtypes\\n\")\n",
    "        print(df.dtypes, end='')\n",
    "\n",
    "        print(f\"\\n\\n{name}:describe\\n\")\n",
    "        print(df.describe(include=\"all\"), end='')\n",
    "\n",
    "        print(f\"\\n\\n{name}:head\\n\")\n",
    "        print(df.head(10), end='')\n",
    "\n",
    "        print(f\"\\n\\n{name}:unique_values\\n\")\n",
    "        write_unique_values(df)"
   ]
  },
  {
   "cell_type": "code",
   "execution_count": 38,
   "id": "287aa681",
   "metadata": {},
   "outputs": [],
   "source": [
    "def convert_to_int(df, column_name):\n",
    "    df[column_name] = df[column_name].astype(str)\n",
    "\n",
    "    df[column_name] = df[column_name].str.split(\".\").str[0].str.replace(\",\", \"\", regex=False)\n",
    "\n",
    "    df[column_name] = pd.to_numeric(df[column_name], errors=\"coerce\").astype(\"Int64\")"
   ]
  },
  {
   "cell_type": "code",
   "execution_count": 39,
   "id": "b789510b",
   "metadata": {},
   "outputs": [],
   "source": [
    "def fix_dtypes(df):\n",
    "    if \"trip_id\" in df.columns:\n",
    "        df[\"trip_id\"] = df[\"trip_id\"].astype(str)\n",
    "    if \"start_time\" in df.columns:\n",
    "        df[\"start_time\"] = pd.to_datetime(df[\"start_time\"])\n",
    "    if \"end_time\" in df.columns:\n",
    "        df[\"end_time\"] = pd.to_datetime(df[\"end_time\"])\n",
    "    if \"tripduration\" in df.columns:\n",
    "        convert_to_int(df, \"tripduration\")\n",
    "    if \"from_station_id\" in df.columns:\n",
    "        convert_to_int(df, \"from_station_id\")\n",
    "    if \"from_station_name\" in df.columns:\n",
    "        df[\"from_station_name\"] = df[\"from_station_name\"].astype(str)\n",
    "    if \"to_station_id\" in df.columns:\n",
    "        convert_to_int(df, \"to_station_id\")\n",
    "    if \"to_station_name\" in df.columns:\n",
    "        df[\"to_station_name\"] = df[\"to_station_name\"].astype(str)\n",
    "    if \"usertype\" in df.columns:\n",
    "        df[\"usertype\"] = df[\"usertype\"].astype(str)\n",
    "    if \"gender\" in df.columns:\n",
    "        df[\"gender\"] = df[\"gender\"].astype(str)\n",
    "    if \"birthyear\" in df.columns:\n",
    "        convert_to_int(df, \"birthyear\")\n",
    "    if \"bikeid\" in df.columns:\n",
    "        convert_to_int(df, \"bikeid\")"
   ]
  },
  {
   "cell_type": "code",
   "execution_count": 40,
   "id": "5b8d481f",
   "metadata": {},
   "outputs": [],
   "source": [
    "def haversine(lat1, lon1, lat2, lon2):\n",
    "    R = 6371  # average Earth radius in km\n",
    "    dlat = radians(lat2 - lat1)\n",
    "    dlon = radians(lon2 - lon1)\n",
    "    a = sin(dlat/2)**2 + cos(radians(lat1)) * cos(radians(lat2)) * sin(dlon/2)**2\n",
    "    return 2 * R * asin(sqrt(a))"
   ]
  },
  {
   "cell_type": "markdown",
   "id": "21983c56",
   "metadata": {},
   "source": [
    "## Data Loading"
   ]
  },
  {
   "cell_type": "code",
   "execution_count": 41,
   "id": "7b79c460",
   "metadata": {},
   "outputs": [
    {
     "name": "stdout",
     "output_type": "stream",
     "text": [
      "Cyclistic_Trips_2019_Q1.csv:dtypes\n",
      "\n",
      "trip_id                int64\n",
      "start_time            object\n",
      "end_time              object\n",
      "bikeid                 int64\n",
      "tripduration          object\n",
      "from_station_id        int64\n",
      "from_station_name     object\n",
      "to_station_id          int64\n",
      "to_station_name       object\n",
      "usertype              object\n",
      "gender                object\n",
      "birthyear            float64\n",
      "dtype: object\n",
      "\n",
      "Cyclistic_Trips_2019_Q1.csv:describe\n",
      "\n",
      "             trip_id           start_time             end_time         bikeid tripduration  from_station_id             from_station_name  to_station_id               to_station_name    usertype  gender      birthyear\n",
      "count   3.650690e+05               365069               365069  365069.000000       365069    365069.000000                        365069  365069.000000                        365069      365069  345358  347046.000000\n",
      "unique           NaN               343022               338367            NaN         6666              NaN                           594            NaN                           600           2       2            NaN\n",
      "top              NaN  2019-03-27 17:27:33  2019-01-04 10:00:09            NaN        279.0              NaN  Clinton St & Washington Blvd            NaN  Clinton St & Washington Blvd  Subscriber    Male            NaN\n",
      "freq             NaN                    6                    8            NaN          586              NaN                          7699            NaN                          7699      341906  278440            NaN\n",
      "mean    2.196087e+07                  NaN                  NaN    3429.484607          NaN       198.088816                           NaN     198.581123                           NaN         NaN     NaN    1981.674297\n",
      "std     1.271750e+05                  NaN                  NaN    1923.321025          NaN       153.493553                           NaN     154.468304                           NaN         NaN     NaN      11.245683\n",
      "min     2.174244e+07                  NaN                  NaN       1.000000          NaN         2.000000                           NaN       2.000000                           NaN         NaN     NaN    1900.000000\n",
      "25%     2.184876e+07                  NaN                  NaN    1777.000000          NaN        76.000000                           NaN      76.000000                           NaN         NaN     NaN    1975.000000\n",
      "50%     2.196183e+07                  NaN                  NaN    3489.000000          NaN       170.000000                           NaN     168.000000                           NaN         NaN     NaN    1985.000000\n",
      "75%     2.207182e+07                  NaN                  NaN    5157.000000          NaN       287.000000                           NaN     287.000000                           NaN         NaN     NaN    1990.000000\n",
      "max     2.217853e+07                  NaN                  NaN    6471.000000          NaN       665.000000                           NaN     665.000000                           NaN         NaN     NaN    2003.000000\n",
      "\n",
      "Cyclistic_Trips_2019_Q1.csv:head\n",
      "\n",
      "    trip_id           start_time             end_time  bikeid tripduration  from_station_id                    from_station_name  to_station_id                 to_station_name    usertype  gender  birthyear\n",
      "0  21742443  2019-01-01 00:04:37  2019-01-01 00:11:07    2167        390.0              199               Wabash Ave & Grand Ave             84       Milwaukee Ave & Grand Ave  Subscriber    Male     1989.0\n",
      "1  21742444  2019-01-01 00:08:13  2019-01-01 00:15:34    4386        441.0               44               State St & Randolph St            624  Dearborn St & Van Buren St (*)  Subscriber  Female     1990.0\n",
      "2  21742445  2019-01-01 00:13:23  2019-01-01 00:27:12    1524        829.0               15                 Racine Ave & 18th St            644   Western Ave & Fillmore St (*)  Subscriber  Female     1994.0\n",
      "3  21742446  2019-01-01 00:13:45  2019-01-01 00:43:28     252      1,783.0              123       California Ave & Milwaukee Ave            176               Clark St & Elm St  Subscriber    Male     1993.0\n",
      "4  21742447  2019-01-01 00:14:52  2019-01-01 00:20:56    1170        364.0              173  Mies van der Rohe Way & Chicago Ave             35         Streeter Dr & Grand Ave  Subscriber    Male     1994.0\n",
      "5  21742448  2019-01-01 00:15:33  2019-01-01 00:19:09    2437        216.0               98           LaSalle St & Washington St             49         Dearborn St & Monroe St  Subscriber  Female     1983.0\n",
      "6  21742449  2019-01-01 00:16:06  2019-01-01 00:19:03    2708        177.0               98           LaSalle St & Washington St             49         Dearborn St & Monroe St  Subscriber    Male     1984.0\n",
      "7  21742450  2019-01-01 00:18:41  2019-01-01 00:20:21    2796        100.0              211               St. Clair St & Erie St            142            McClurg Ct & Erie St  Subscriber    Male     1990.0\n",
      "8  21742451  2019-01-01 00:18:43  2019-01-01 00:47:30    6205      1,727.0              150           Fort Dearborn Dr & 31st St            148              State St & 33rd St  Subscriber    Male     1995.0\n",
      "9  21742452  2019-01-01 00:19:18  2019-01-01 00:24:54    3939        336.0              268           Lake Shore Dr & North Blvd            141          Clark St & Lincoln Ave  Subscriber    Male     1996.0\n",
      "\n",
      "Cyclistic_Trips_2019_Q1.csv:unique_values\n",
      "\n",
      "                                        0\n",
      "trip_id                     365069 values\n",
      "start_time                  343022 values\n",
      "end_time                    338367 values\n",
      "bikeid                        4769 values\n",
      "tripduration                  6666 values\n",
      "from_station_id                594 values\n",
      "from_station_name              594 values\n",
      "to_station_id                  600 values\n",
      "to_station_name                600 values\n",
      "usertype           [Subscriber, Customer]\n",
      "gender                [Male, Female, nan]\n",
      "birthyear                       74 values\n"
     ]
    }
   ],
   "source": [
    "df_2019_Q1_raw = pd.read_csv(os.path.join(DATA_FOLDER, FILE_2019_Q1))\n",
    "pd.set_option('display.expand_frame_repr', False)\n",
    "write_data_info(df_2019_Q1_raw, FILE_2019_Q1)"
   ]
  },
  {
   "cell_type": "code",
   "execution_count": 42,
   "id": "984e9c5c",
   "metadata": {},
   "outputs": [
    {
     "name": "stdout",
     "output_type": "stream",
     "text": [
      "Cyclistic_Trips_2019_Q2.csv:dtypes\n",
      "\n",
      "01 - Rental Details Rental ID                         int64\n",
      "01 - Rental Details Local Start Time                 object\n",
      "01 - Rental Details Local End Time                   object\n",
      "01 - Rental Details Bike ID                           int64\n",
      "01 - Rental Details Duration In Seconds Uncapped     object\n",
      "03 - Rental Start Station ID                          int64\n",
      "03 - Rental Start Station Name                       object\n",
      "02 - Rental End Station ID                            int64\n",
      "02 - Rental End Station Name                         object\n",
      "User Type                                            object\n",
      "Member Gender                                        object\n",
      "05 - Member Details Member Birthday Year            float64\n",
      "dtype: object\n",
      "\n",
      "Cyclistic_Trips_2019_Q2.csv:describe\n",
      "\n",
      "        01 - Rental Details Rental ID 01 - Rental Details Local Start Time 01 - Rental Details Local End Time  01 - Rental Details Bike ID 01 - Rental Details Duration In Seconds Uncapped  03 - Rental Start Station ID 03 - Rental Start Station Name  02 - Rental End Station ID 02 - Rental End Station Name   User Type Member Gender  05 - Member Details Member Birthday Year\n",
      "count                    1.108163e+06                              1108163                            1108163                 1.108163e+06                                          1108163                  1.108163e+06                        1108163                1.108163e+06                      1108163     1108163        922609                             927210.000000\n",
      "unique                            NaN                               957330                             922638                          NaN                                            13769                           NaN                            610                         NaN                          612           2             2                                       NaN\n",
      "top                               NaN                  2019-06-14 18:03:21                2019-04-17 17:35:12                          NaN                                            376.0                           NaN        Streeter Dr & Grand Ave                         NaN      Streeter Dr & Grand Ave  Subscriber          Male                                       NaN\n",
      "freq                              NaN                                    8                                 20                          NaN                                             1139                           NaN                          19414                         NaN                        24852      848577        678568                                       NaN\n",
      "mean                     2.282986e+07                                  NaN                                NaN                 3.398800e+03                                              NaN                  2.003032e+02                            NaN                2.012671e+02                          NaN         NaN           NaN                               1983.939102\n",
      "std                      3.753977e+05                                  NaN                                NaN                 1.907732e+03                                              NaN                  1.548459e+02                            NaN                1.550123e+02                          NaN         NaN           NaN                                 10.798662\n",
      "min                      2.217853e+07                                  NaN                                NaN                 1.000000e+00                                              NaN                  1.000000e+00                            NaN                1.000000e+00                          NaN         NaN           NaN                               1759.000000\n",
      "25%                      2.250507e+07                                  NaN                                NaN                 1.738000e+03                                              NaN                  7.700000e+01                            NaN                7.700000e+01                          NaN         NaN           NaN                               1979.000000\n",
      "50%                      2.283116e+07                                  NaN                                NaN                 3.471000e+03                                              NaN                  1.740000e+02                            NaN                1.740000e+02                          NaN         NaN           NaN                               1987.000000\n",
      "75%                      2.315450e+07                                  NaN                                NaN                 5.080000e+03                                              NaN                  2.890000e+02                            NaN                2.900000e+02                          NaN         NaN           NaN                               1992.000000\n",
      "max                      2.347939e+07                                  NaN                                NaN                 6.471000e+03                                              NaN                  6.690000e+02                            NaN                6.690000e+02                          NaN         NaN           NaN                               2014.000000\n",
      "\n",
      "Cyclistic_Trips_2019_Q2.csv:head\n",
      "\n",
      "   01 - Rental Details Rental ID 01 - Rental Details Local Start Time 01 - Rental Details Local End Time  01 - Rental Details Bike ID 01 - Rental Details Duration In Seconds Uncapped  03 - Rental Start Station ID 03 - Rental Start Station Name  02 - Rental End Station ID     02 - Rental End Station Name   User Type Member Gender  05 - Member Details Member Birthday Year\n",
      "0                       22178529                  2019-04-01 00:02:22                2019-04-01 00:09:48                         6251                                            446.0                            81             Daley Center Plaza                          56        Desplaines St & Kinzie St  Subscriber          Male                                    1975.0\n",
      "1                       22178530                  2019-04-01 00:03:02                2019-04-01 00:20:30                         6226                                          1,048.0                           317            Wood St & Taylor St                          59        Wabash Ave & Roosevelt Rd  Subscriber        Female                                    1984.0\n",
      "2                       22178531                  2019-04-01 00:11:07                2019-04-01 00:15:19                         5649                                            252.0                           283      LaSalle St & Jackson Blvd                         174            Canal St & Madison St  Subscriber          Male                                    1990.0\n",
      "3                       22178532                  2019-04-01 00:13:01                2019-04-01 00:18:58                         4151                                            357.0                            26       McClurg Ct & Illinois St                         133         Kingsbury St & Kinzie St  Subscriber          Male                                    1993.0\n",
      "4                       22178533                  2019-04-01 00:19:26                2019-04-01 00:36:13                         3270                                          1,007.0                           202           Halsted St & 18th St                         129        Blue Island Ave & 18th St  Subscriber          Male                                    1992.0\n",
      "5                       22178534                  2019-04-01 00:19:39                2019-04-01 00:23:56                         3123                                            257.0                           420            Ellis Ave & 55th St                         426              Ellis Ave & 60th St  Subscriber          Male                                    1999.0\n",
      "6                       22178535                  2019-04-01 00:26:33                2019-04-01 00:35:41                         6418                                            548.0                           503      Drake Ave & Fullerton Ave                         500  Central Park Ave & Elbridge Ave  Subscriber          Male                                    1969.0\n",
      "7                       22178536                  2019-04-01 00:29:48                2019-04-01 00:36:11                         4513                                            383.0                           260     Kedzie Ave & Milwaukee Ave                         499                  Kosciuszko Park  Subscriber          Male                                    1991.0\n",
      "8                       22178537                  2019-04-01 00:32:07                2019-04-01 01:07:44                         3280                                          2,137.0                           211         St. Clair St & Erie St                         211           St. Clair St & Erie St    Customer           NaN                                       NaN\n",
      "9                       22178538                  2019-04-01 00:32:19                2019-04-01 01:07:39                         5534                                          2,120.0                           211         St. Clair St & Erie St                         211           St. Clair St & Erie St    Customer           NaN                                       NaN\n",
      "\n",
      "Cyclistic_Trips_2019_Q2.csv:unique_values\n",
      "\n",
      "                                                                       0\n",
      "01 - Rental Details Rental ID                             1108163 values\n",
      "01 - Rental Details Local Start Time                       957330 values\n",
      "01 - Rental Details Local End Time                         922638 values\n",
      "01 - Rental Details Bike ID                                  5764 values\n",
      "01 - Rental Details Duration In Seconds Uncapped            13769 values\n",
      "03 - Rental Start Station ID                                  610 values\n",
      "03 - Rental Start Station Name                                610 values\n",
      "02 - Rental End Station ID                                    612 values\n",
      "02 - Rental End Station Name                                  612 values\n",
      "User Type                                         [Subscriber, Customer]\n",
      "Member Gender                                        [Male, Female, nan]\n",
      "05 - Member Details Member Birthday Year                       85 values\n"
     ]
    }
   ],
   "source": [
    "df_2019_Q2_raw = pd.read_csv(os.path.join(DATA_FOLDER, FILE_2019_Q2))\n",
    "pd.set_option('display.expand_frame_repr', False)\n",
    "write_data_info(df_2019_Q2_raw, FILE_2019_Q2)"
   ]
  },
  {
   "cell_type": "code",
   "execution_count": 43,
   "id": "28416643",
   "metadata": {},
   "outputs": [
    {
     "name": "stdout",
     "output_type": "stream",
     "text": [
      "Cyclistic_Trips_2019_Q3.csv:dtypes\n",
      "\n",
      "trip_id                int64\n",
      "start_time            object\n",
      "end_time              object\n",
      "bikeid                 int64\n",
      "tripduration          object\n",
      "from_station_id        int64\n",
      "from_station_name     object\n",
      "to_station_id          int64\n",
      "to_station_name       object\n",
      "usertype              object\n",
      "gender                object\n",
      "birthyear            float64\n",
      "dtype: object\n",
      "\n",
      "Cyclistic_Trips_2019_Q3.csv:describe\n",
      "\n",
      "             trip_id           start_time             end_time        bikeid tripduration  from_station_id        from_station_name  to_station_id          to_station_name    usertype   gender     birthyear\n",
      "count   1.640718e+06              1640718              1640718  1.640718e+06      1640718     1.640718e+06                  1640718   1.640718e+06                  1640718     1640718  1353368  1.362624e+06\n",
      "unique           NaN              1372358              1344539           NaN        16676              NaN                      612            NaN                      613           2        2           NaN\n",
      "top              NaN  2019-08-29 17:22:03  2019-07-14 16:20:26           NaN        381.0              NaN  Streeter Dr & Grand Ave            NaN  Streeter Dr & Grand Ave  Subscriber     Male           NaN\n",
      "freq             NaN                    7                   19           NaN         1545              NaN                    39726            NaN                    45391     1149024   957353           NaN\n",
      "mean    2.436447e+07                  NaN                  NaN  3.349856e+03          NaN     2.023980e+02                      NaN   2.039011e+02                      NaN         NaN      NaN  1.984903e+03\n",
      "std     4.995484e+05                  NaN                  NaN  1.888878e+03          NaN     1.567226e+02                      NaN   1.566986e+02                      NaN         NaN      NaN  1.060596e+01\n",
      "min     2.347939e+07                  NaN                  NaN  1.000000e+00          NaN     2.000000e+00                      NaN   2.000000e+00                      NaN         NaN      NaN  1.888000e+03\n",
      "25%     2.393550e+07                  NaN                  NaN  1.713000e+03          NaN     7.700000e+01                      NaN   8.000000e+01                      NaN         NaN      NaN  1.980000e+03\n",
      "50%     2.436742e+07                  NaN                  NaN  3.419000e+03          NaN     1.740000e+02                      NaN   1.760000e+02                      NaN         NaN      NaN  1.988000e+03\n",
      "75%     2.479740e+07                  NaN                  NaN  4.997000e+03          NaN     2.890000e+02                      NaN   2.910000e+02                      NaN         NaN      NaN  1.992000e+03\n",
      "max     2.522364e+07                  NaN                  NaN  6.471000e+03          NaN     6.730000e+02                      NaN   6.730000e+02                      NaN         NaN      NaN  2.003000e+03\n",
      "\n",
      "Cyclistic_Trips_2019_Q3.csv:head\n",
      "\n",
      "    trip_id           start_time             end_time  bikeid tripduration  from_station_id              from_station_name  to_station_id                to_station_name    usertype gender  birthyear\n",
      "0  23479388  2019-07-01 00:00:27  2019-07-01 00:20:41    3591      1,214.0              117       Wilton Ave & Belmont Ave            497      Kimball Ave & Belmont Ave  Subscriber   Male     1992.0\n",
      "1  23479389  2019-07-01 00:01:16  2019-07-01 00:18:44    5353      1,048.0              381        Western Ave & Monroe St            203          Western Ave & 21st St    Customer    NaN        NaN\n",
      "2  23479390  2019-07-01 00:01:48  2019-07-01 00:27:42    6180      1,554.0              313  Lakeview Ave & Fullerton Pkwy            144      Larrabee St & Webster Ave    Customer    NaN        NaN\n",
      "3  23479391  2019-07-01 00:02:07  2019-07-01 00:27:10    5540      1,503.0              313  Lakeview Ave & Fullerton Pkwy            144      Larrabee St & Webster Ave    Customer    NaN        NaN\n",
      "4  23479392  2019-07-01 00:02:13  2019-07-01 00:22:26    6014      1,213.0              168         Michigan Ave & 14th St             62                McCormick Place    Customer    NaN        NaN\n",
      "5  23479393  2019-07-01 00:02:21  2019-07-01 00:07:31    4941        310.0              300           Broadway & Barry Ave            232  Pine Grove Ave & Waveland Ave  Subscriber   Male     1990.0\n",
      "6  23479394  2019-07-01 00:02:24  2019-07-01 00:23:12    3770      1,248.0              168         Michigan Ave & 14th St             62                McCormick Place    Customer    NaN        NaN\n",
      "7  23479395  2019-07-01 00:02:26  2019-07-01 00:28:16    5442      1,550.0              313  Lakeview Ave & Fullerton Pkwy            144      Larrabee St & Webster Ave    Customer    NaN        NaN\n",
      "8  23479396  2019-07-01 00:02:34  2019-07-01 00:28:57    2957      1,583.0               43   Michigan Ave & Washington St            195      Columbus Dr & Randolph St    Customer    NaN        NaN\n",
      "9  23479397  2019-07-01 00:02:45  2019-07-01 00:29:14    6091      1,589.0               43   Michigan Ave & Washington St            195      Columbus Dr & Randolph St    Customer    NaN        NaN\n",
      "\n",
      "Cyclistic_Trips_2019_Q3.csv:unique_values\n",
      "\n",
      "                                        0\n",
      "trip_id                    1640718 values\n",
      "start_time                 1372358 values\n",
      "end_time                   1344539 values\n",
      "bikeid                        5787 values\n",
      "tripduration                 16676 values\n",
      "from_station_id                612 values\n",
      "from_station_name              612 values\n",
      "to_station_id                  613 values\n",
      "to_station_name                613 values\n",
      "usertype           [Subscriber, Customer]\n",
      "gender                [Male, nan, Female]\n",
      "birthyear                       87 values\n"
     ]
    }
   ],
   "source": [
    "df_2019_Q3_raw = pd.read_csv(os.path.join(DATA_FOLDER, FILE_2019_Q3))\n",
    "pd.set_option('display.expand_frame_repr', False)\n",
    "write_data_info(df_2019_Q3_raw, FILE_2019_Q3)"
   ]
  },
  {
   "cell_type": "code",
   "execution_count": 44,
   "id": "2fec6ca1",
   "metadata": {},
   "outputs": [
    {
     "name": "stdout",
     "output_type": "stream",
     "text": [
      "Cyclistic_Trips_2019_Q4.csv:dtypes\n",
      "\n",
      "trip_id                int64\n",
      "start_time            object\n",
      "end_time              object\n",
      "bikeid                 int64\n",
      "tripduration          object\n",
      "from_station_id        int64\n",
      "from_station_name     object\n",
      "to_station_id          int64\n",
      "to_station_name       object\n",
      "usertype              object\n",
      "gender                object\n",
      "birthyear            float64\n",
      "dtype: object\n",
      "\n",
      "Cyclistic_Trips_2019_Q4.csv:describe\n",
      "\n",
      "             trip_id           start_time             end_time         bikeid tripduration  from_station_id    from_station_name  to_station_id      to_station_name    usertype  gender      birthyear\n",
      "count   7.040540e+05               704054               704054  704054.000000       704054    704054.000000               704054  704054.000000               704054      704054  637463  642373.000000\n",
      "unique           NaN               633380               632834            NaN        10401              NaN                  610            NaN                  608           2       2            NaN\n",
      "top              NaN  2019-10-01 17:18:33  2019-10-07 17:54:43            NaN        352.0              NaN  Canal St & Adams St            NaN  Canal St & Adams St  Subscriber    Male            NaN\n",
      "freq             NaN                    7                    6            NaN          975              NaN                12937            NaN                12812      597860  486459            NaN\n",
      "mean    2.559222e+07                  NaN                  NaN    3396.362711          NaN       203.959479                  NaN     203.946606                  NaN         NaN     NaN    1983.808776\n",
      "std     2.135697e+05                  NaN                  NaN    1913.953377          NaN       157.782842                  NaN     157.938449                  NaN         NaN     NaN      11.097284\n",
      "min     2.522364e+07                  NaN                  NaN       1.000000          NaN         2.000000                  NaN       2.000000                  NaN         NaN     NaN    1899.000000\n",
      "25%     2.540738e+07                  NaN                  NaN    1724.000000          NaN        77.000000                  NaN      77.000000                  NaN         NaN     NaN    1978.000000\n",
      "50%     2.559086e+07                  NaN                  NaN    3473.000000          NaN       174.000000                  NaN     174.000000                  NaN         NaN     NaN    1987.000000\n",
      "75%     2.577717e+07                  NaN                  NaN    5065.000000          NaN       291.000000                  NaN     291.000000                  NaN         NaN     NaN    1992.000000\n",
      "max     2.596290e+07                  NaN                  NaN    6946.000000          NaN       673.000000                  NaN     673.000000                  NaN         NaN     NaN    2003.000000\n",
      "\n",
      "Cyclistic_Trips_2019_Q4.csv:head\n",
      "\n",
      "    trip_id           start_time             end_time  bikeid tripduration  from_station_id               from_station_name  to_station_id              to_station_name    usertype  gender  birthyear\n",
      "0  25223640  2019-10-01 00:01:39  2019-10-01 00:17:20    2215        940.0               20    Sheffield Ave & Kingsbury St            309    Leavitt St & Armitage Ave  Subscriber    Male     1987.0\n",
      "1  25223641  2019-10-01 00:02:16  2019-10-01 00:06:34    6328        258.0               19  Throop (Loomis) St & Taylor St            241          Morgan St & Polk St  Subscriber    Male     1998.0\n",
      "2  25223642  2019-10-01 00:04:32  2019-10-01 00:18:43    3003        850.0               84       Milwaukee Ave & Grand Ave            199       Wabash Ave & Grand Ave  Subscriber  Female     1991.0\n",
      "3  25223643  2019-10-01 00:04:32  2019-10-01 00:43:43    3275      2,350.0              313   Lakeview Ave & Fullerton Pkwy            290       Kedzie Ave & Palmer Ct  Subscriber    Male     1990.0\n",
      "4  25223644  2019-10-01 00:04:34  2019-10-01 00:35:42    5294      1,867.0              210       Ashland Ave & Division St            382  Western Ave & Congress Pkwy  Subscriber    Male     1987.0\n",
      "5  25223645  2019-10-01 00:04:38  2019-10-01 00:10:51    1891        373.0              156       Clark St & Wellington Ave            226     Racine Ave & Belmont Ave  Subscriber  Female     1994.0\n",
      "6  25223646  2019-10-01 00:04:52  2019-10-01 00:22:45    1061      1,072.0               84       Milwaukee Ave & Grand Ave            142         McClurg Ct & Erie St  Subscriber  Female     1991.0\n",
      "7  25223647  2019-10-01 00:04:57  2019-10-01 00:29:16    1274      1,458.0              156       Clark St & Wellington Ave            463        Clark St & Berwyn Ave  Subscriber    Male     1995.0\n",
      "8  25223648  2019-10-01 00:05:20  2019-10-01 00:29:18    6011      1,437.0              156       Clark St & Wellington Ave            463        Clark St & Berwyn Ave  Subscriber  Female     1993.0\n",
      "9  25223649  2019-10-01 00:05:20  2019-10-01 02:23:46    2957      8,306.0              336     Cottage Grove Ave & 47th St            336  Cottage Grove Ave & 47th St    Customer     NaN        NaN\n",
      "\n",
      "Cyclistic_Trips_2019_Q4.csv:unique_values\n",
      "\n",
      "                                        0\n",
      "trip_id                     704054 values\n",
      "start_time                  633380 values\n",
      "end_time                    632834 values\n",
      "bikeid                        5670 values\n",
      "tripduration                 10401 values\n",
      "from_station_id                610 values\n",
      "from_station_name              610 values\n",
      "to_station_id                  608 values\n",
      "to_station_name                608 values\n",
      "usertype           [Subscriber, Customer]\n",
      "gender                [Male, Female, nan]\n",
      "birthyear                       78 values\n"
     ]
    }
   ],
   "source": [
    "df_2019_Q4_raw= pd.read_csv(os.path.join(DATA_FOLDER, FILE_2019_Q4))\n",
    "pd.set_option('display.expand_frame_repr', False)\n",
    "write_data_info(df_2019_Q4_raw, FILE_2019_Q4)"
   ]
  },
  {
   "cell_type": "code",
   "execution_count": 45,
   "id": "eda0020f-5605-4642-9c48-545b00dfd542",
   "metadata": {},
   "outputs": [
    {
     "name": "stdout",
     "output_type": "stream",
     "text": [
      "Cyclistic_Trips_2020_Q1.csv:dtypes\n",
      "\n",
      "ride_id                object\n",
      "rideable_type          object\n",
      "started_at             object\n",
      "ended_at               object\n",
      "start_station_name     object\n",
      "start_station_id        int64\n",
      "end_station_name       object\n",
      "end_station_id        float64\n",
      "start_lat             float64\n",
      "start_lng             float64\n",
      "end_lat               float64\n",
      "end_lng               float64\n",
      "member_casual          object\n",
      "dtype: object\n",
      "\n",
      "Cyclistic_Trips_2020_Q1.csv:describe\n",
      "\n",
      "                 ride_id rideable_type           started_at             ended_at   start_station_name  start_station_id     end_station_name  end_station_id      start_lat      start_lng        end_lat        end_lng member_casual\n",
      "count             426887        426887               426887               426887               426887     426887.000000               426886   426886.000000  426887.000000  426887.000000  426886.000000  426886.000000        426887\n",
      "unique            426887             1               399265               399532                  607               NaN                  602             NaN            NaN            NaN            NaN            NaN             2\n",
      "top     064EC7698E4FF9B3   docked_bike  2020-02-10 18:06:28  2020-01-06 08:11:40  Canal St & Adams St               NaN  Canal St & Adams St             NaN            NaN            NaN            NaN            NaN        member\n",
      "freq                   1        426887                    5                    5                 7813               NaN                 8323             NaN            NaN            NaN            NaN            NaN        378407\n",
      "mean                 NaN           NaN                  NaN                  NaN                  NaN        209.797799                  NaN      209.337947      41.897846     -87.644157      41.897998     -87.644254           NaN\n",
      "std                  NaN           NaN                  NaN                  NaN                  NaN        163.222889                  NaN      163.198129       0.038080       0.022666       0.038315       0.022662           NaN\n",
      "min                  NaN           NaN                  NaN                  NaN                  NaN          2.000000                  NaN        2.000000      41.736600     -87.774700      41.736600     -87.774700           NaN\n",
      "25%                  NaN           NaN                  NaN                  NaN                  NaN         77.000000                  NaN       77.000000      41.880300     -87.655000      41.880300     -87.655500           NaN\n",
      "50%                  NaN           NaN                  NaN                  NaN                  NaN        176.000000                  NaN      175.000000      41.890600     -87.639900      41.890600     -87.640800           NaN\n",
      "75%                  NaN           NaN                  NaN                  NaN                  NaN        298.000000                  NaN      297.000000      41.915700     -87.629500      41.916000     -87.629500           NaN\n",
      "max                  NaN           NaN                  NaN                  NaN                  NaN        675.000000                  NaN      675.000000      42.064900     -87.549400      42.064900     -87.549400           NaN\n",
      "\n",
      "Cyclistic_Trips_2020_Q1.csv:head\n",
      "\n",
      "            ride_id rideable_type           started_at             ended_at           start_station_name  start_station_id                     end_station_name  end_station_id  start_lat  start_lng  end_lat  end_lng member_casual\n",
      "0  EACB19130B0CDA4A   docked_bike  2020-01-21 20:06:59  2020-01-21 20:14:30     Western Ave & Leland Ave               239                Clark St & Leland Ave           326.0    41.9665   -87.6884  41.9671 -87.6674        member\n",
      "1  8FED874C809DC021   docked_bike  2020-01-30 14:22:39  2020-01-30 14:26:22      Clark St & Montrose Ave               234       Southport Ave & Irving Park Rd           318.0    41.9616   -87.6660  41.9542 -87.6644        member\n",
      "2  789F3C21E472CA96   docked_bike  2020-01-09 19:29:26  2020-01-09 19:32:17       Broadway & Belmont Ave               296             Wilton Ave & Belmont Ave           117.0    41.9401   -87.6455  41.9402 -87.6530        member\n",
      "3  C9A388DAC6ABF313   docked_bike  2020-01-06 16:17:07  2020-01-06 16:25:56       Clark St & Randolph St                51             Fairbanks Ct & Grand Ave            24.0    41.8846   -87.6319  41.8918 -87.6206        member\n",
      "4  943BC3CBECCFD662   docked_bike  2020-01-30 08:37:16  2020-01-30 08:42:48         Clinton St & Lake St                66                Wells St & Hubbard St           212.0    41.8856   -87.6418  41.8899 -87.6343        member\n",
      "5  6D9C8A6938165C11   docked_bike  2020-01-10 12:33:05  2020-01-10 12:37:54        Wells St & Hubbard St               212          Desplaines St & Randolph St            96.0    41.8899   -87.6343  41.8846 -87.6446        member\n",
      "6  31EB9B8F406D4C82   docked_bike  2020-01-10 13:07:35  2020-01-10 13:12:24  Desplaines St & Randolph St                96                Wells St & Hubbard St           212.0    41.8846   -87.6446  41.8899 -87.6343        member\n",
      "7  A2B24E3F9C9720E3   docked_bike  2020-01-10 07:24:53  2020-01-10 07:29:50  Desplaines St & Randolph St                96                Wells St & Hubbard St           212.0    41.8846   -87.6446  41.8899 -87.6343        member\n",
      "8  5E3F01E1441730B7   docked_bike  2020-01-31 16:37:16  2020-01-31 16:42:11        Wells St & Hubbard St               212          Desplaines St & Randolph St            96.0    41.8899   -87.6343  41.8846 -87.6446        member\n",
      "9  19DC57F7E3140131   docked_bike  2020-01-31 09:39:17  2020-01-31 09:42:40           Clark St & Lake St                38  Orleans St & Merchandise Mart Plaza           100.0    41.8860   -87.6309  41.8882 -87.6364        member\n",
      "\n",
      "Cyclistic_Trips_2020_Q1.csv:unique_values\n",
      "\n",
      "                                   0\n",
      "ride_id                426887 values\n",
      "rideable_type          [docked_bike]\n",
      "started_at             399265 values\n",
      "ended_at               399532 values\n",
      "start_station_name        607 values\n",
      "start_station_id          607 values\n",
      "end_station_name          603 values\n",
      "end_station_id            603 values\n",
      "start_lat                 518 values\n",
      "start_lng                 484 values\n",
      "end_lat                   515 values\n",
      "end_lng                   483 values\n",
      "member_casual       [member, casual]\n"
     ]
    }
   ],
   "source": [
    "df_2020_Q1_raw = pd.read_csv(os.path.join(DATA_FOLDER, FILE_2020_Q1))\n",
    "pd.set_option('display.expand_frame_repr', False)\n",
    "write_data_info(df_2020_Q1_raw, FILE_2020_Q1)"
   ]
  },
  {
   "cell_type": "markdown",
   "id": "87321906",
   "metadata": {},
   "source": [
    "## Data Cleaning"
   ]
  },
  {
   "cell_type": "markdown",
   "id": "3dc40417",
   "metadata": {},
   "source": [
    "### Cleaning df_2019_Q1 data"
   ]
  },
  {
   "cell_type": "code",
   "execution_count": 46,
   "id": "5e10e6df",
   "metadata": {},
   "outputs": [],
   "source": [
    "df_2019_Q1 = df_2019_Q1_raw.copy()\n",
    "\n",
    "#df_2019_Q1.drop(\"bikeid\", axis=1, inplace=True)\n",
    "df_2019_Q1[\"usertype\"] = df_2019_Q1[\"usertype\"].replace({\"Subscriber\": \"member\", \"Customer\": \"casual\"})\n",
    "df_2019_Q1.drop_duplicates(subset=[\"start_time\", \"end_time\", \"tripduration\", \"from_station_id\", \"to_station_id\"], inplace=True)\n",
    "\n",
    "fix_dtypes(df_2019_Q1)\n",
    "\n",
    "df_2019_Q1 = df_2019_Q1[df_2019_Q1[\"tripduration\"] > 0] \n",
    "\n",
    "df_2019_Q1_cleaned = df_2019_Q1.copy()"
   ]
  },
  {
   "cell_type": "markdown",
   "id": "26468f3c",
   "metadata": {},
   "source": [
    "### Cleaning df_2019_Q2 data"
   ]
  },
  {
   "cell_type": "code",
   "execution_count": 47,
   "id": "5ee10c36",
   "metadata": {},
   "outputs": [],
   "source": [
    "df_2019_Q2 = df_2019_Q2_raw.copy()\n",
    "\n",
    "df_2019_Q2.rename(columns={\n",
    "    \"01 - Rental Details Rental ID\": \"trip_id\",\n",
    "    \"01 - Rental Details Local Start Time\": \"start_time\",\n",
    "    \"01 - Rental Details Local End Time\": \"end_time\",\n",
    "    \"03 - Rental Start Station Name\": \"from_station_name\",\n",
    "    \"03 - Rental Start Station ID\": \"from_station_id\",\n",
    "    \"02 - Rental End Station Name\": \"to_station_name\",\n",
    "    \"02 - Rental End Station ID\": \"to_station_id\",\n",
    "    \"User Type\": \"usertype\",\n",
    "    \"01 - Rental Details Duration In Seconds Uncapped\": \"tripduration\",\n",
    "    \"Member Gender\": \"gender\",\n",
    "    \"05 - Member Details Member Birthday Year\": \"birthyear\",\n",
    "    \"01 - Rental Details Bike ID\": \"bikeid\"\n",
    "}, inplace=True)\n",
    "#df_2019_Q2.drop(\"01 - Rental Details Bike ID\", axis=1, inplace=True)\n",
    "df_2019_Q2[\"usertype\"] = df_2019_Q2[\"usertype\"].replace({\"Subscriber\": \"member\", \"Customer\": \"casual\"})\n",
    "df_2019_Q2.drop_duplicates(subset=[\"start_time\", \"end_time\", \"from_station_id\", \"to_station_id\"], inplace=True)\n",
    "\n",
    "fix_dtypes(df_2019_Q2)\n",
    "\n",
    "df_2019_Q2 = df_2019_Q2[df_2019_Q2[\"tripduration\"] > 0]\n",
    "\n",
    "df_2019_Q2_cleaned = df_2019_Q2.copy()"
   ]
  },
  {
   "cell_type": "markdown",
   "id": "656259ff",
   "metadata": {},
   "source": [
    "### Cleaning df_2019_Q3 data"
   ]
  },
  {
   "cell_type": "code",
   "execution_count": 48,
   "id": "8afe01ce",
   "metadata": {},
   "outputs": [],
   "source": [
    "df_2019_Q3 = df_2019_Q3_raw.copy()\n",
    "\n",
    "#df_2019_Q3.drop(\"bikeid\", axis=1, inplace=True)\n",
    "df_2019_Q3[\"usertype\"] = df_2019_Q3[\"usertype\"].replace({\"Subscriber\": \"member\", \"Customer\": \"casual\"})\n",
    "df_2019_Q3.drop_duplicates(subset=[\"start_time\", \"end_time\", \"from_station_id\", \"to_station_id\"], inplace=True)\n",
    "\n",
    "fix_dtypes(df_2019_Q3)\n",
    "\n",
    "df_2019_Q3 = df_2019_Q3[df_2019_Q3[\"tripduration\"] > 0]\n",
    "\n",
    "df_2019_Q3_cleaned = df_2019_Q3.copy()"
   ]
  },
  {
   "cell_type": "markdown",
   "id": "2f113568",
   "metadata": {},
   "source": [
    "### Cleaning df_2019_Q4 data"
   ]
  },
  {
   "cell_type": "code",
   "execution_count": 49,
   "id": "b0d3a192",
   "metadata": {},
   "outputs": [],
   "source": [
    "df_2019_Q4 = df_2019_Q4_raw.copy()\n",
    "\n",
    "#df_2019_Q4.drop(\"bikeid\", axis=1, inplace=True)\n",
    "df_2019_Q4[\"usertype\"] = df_2019_Q4[\"usertype\"].replace({\"Subscriber\": \"member\", \"Customer\": \"casual\"})\n",
    "df_2019_Q4.drop_duplicates(subset=[\"start_time\", \"end_time\", \"from_station_id\", \"to_station_id\"], inplace=True)\n",
    "\n",
    "fix_dtypes(df_2019_Q4)\n",
    "\n",
    "df_2019_Q4 = df_2019_Q4[df_2019_Q4[\"tripduration\"] > 0]\n",
    "\n",
    "df_2019_Q4_cleaned = df_2019_Q4.copy()"
   ]
  },
  {
   "cell_type": "markdown",
   "id": "942098fe",
   "metadata": {},
   "source": [
    "### Cleaning df_2020_Q1 data"
   ]
  },
  {
   "cell_type": "code",
   "execution_count": 50,
   "id": "cadf11bb",
   "metadata": {},
   "outputs": [],
   "source": [
    "df_2020_Q1 = df_2020_Q1_raw.copy()\n",
    "\n",
    "df_2020_Q1.drop([\"rideable_type\"], axis=1, inplace=True)\n",
    "df_2020_Q1.rename(columns={\n",
    "    \"ride_id\": \"trip_id\",\n",
    "    \"started_at\": \"start_time\",\n",
    "    \"ended_at\": \"end_time\",\n",
    "    \"start_station_name\": \"from_station_name\",\n",
    "    \"start_station_id\": \"from_station_id\",\n",
    "    \"end_station_name\": \"to_station_name\",\n",
    "    \"end_station_id\": \"to_station_id\",\n",
    "    \"member_casual\": \"usertype\"\n",
    "}, inplace=True)\n",
    "df_2020_Q1.drop_duplicates(subset=[\"start_time\", \"end_time\", \"from_station_id\", \"to_station_id\"], inplace=True)\n",
    "df_2020_Q1[\"tripduration\"] = (pd.to_datetime(df_2020_Q1[\"end_time\"]) - pd.to_datetime(df_2020_Q1[\"start_time\"])).dt.total_seconds().astype(int)\n",
    "\n",
    "fix_dtypes(df_2020_Q1)\n",
    "\n",
    "df_2020_Q1 = df_2020_Q1[df_2020_Q1[\"tripduration\"] > 0]\n",
    "\n",
    "df_2020_Q1_cleaned = df_2020_Q1.copy()"
   ]
  },
  {
   "cell_type": "markdown",
   "id": "e0a2840f",
   "metadata": {},
   "source": [
    "### Data merge"
   ]
  },
  {
   "cell_type": "code",
   "execution_count": 51,
   "id": "658c8381",
   "metadata": {},
   "outputs": [
    {
     "name": "stdout",
     "output_type": "stream",
     "text": [
      "cleaned_data:dtypes\n",
      "\n",
      "trip_id                      object\n",
      "start_time           datetime64[ns]\n",
      "end_time             datetime64[ns]\n",
      "bikeid                        Int64\n",
      "tripduration                  Int64\n",
      "from_station_id               Int64\n",
      "from_station_name            object\n",
      "to_station_id                 Int64\n",
      "to_station_name              object\n",
      "usertype                     object\n",
      "gender                       object\n",
      "birthyear                     Int64\n",
      "start_lat                   float64\n",
      "start_lng                   float64\n",
      "end_lat                     float64\n",
      "end_lng                     float64\n",
      "dtype: object\n",
      "\n",
      "cleaned_data:describe\n",
      "\n",
      "                 trip_id                     start_time                       end_time       bikeid  tripduration  from_station_id        from_station_name  to_station_id          to_station_name usertype   gender    birthyear      start_lat      start_lng        end_lat        end_lng\n",
      "count            4241242                        4241242                        4241242    3814615.0     4241242.0        4241242.0                  4241242      4241242.0                  4241242  4241242  3814615    3276141.0  426627.000000  426627.000000  426627.000000  426627.000000\n",
      "unique           4241242                            NaN                            NaN         <NA>          <NA>             <NA>                      643           <NA>                      644        2        3         <NA>            NaN            NaN            NaN            NaN\n",
      "top     064EC7698E4FF9B3                            NaN                            NaN         <NA>          <NA>             <NA>  Streeter Dr & Grand Ave           <NA>  Streeter Dr & Grand Ave   member     Male         <NA>            NaN            NaN            NaN            NaN\n",
      "freq                   1                            NaN                            NaN         <NA>          <NA>             <NA>                    70361           <NA>                    84424  3313162  2398955         <NA>            NaN            NaN            NaN            NaN\n",
      "mean                 NaN  2019-08-09 23:18:41.301991424  2019-08-09 23:42:39.678666752  3380.188086   1438.153637        202.44765                      NaN     203.266998                      NaN      NaN      NaN  1984.071511      41.897851     -87.644137      41.898003     -87.644234\n",
      "min                  NaN            2019-01-01 00:04:37            2019-01-01 00:11:07          1.0           1.0              1.0                      NaN            1.0                      NaN      NaN      NaN       1759.0      41.736600     -87.774700      41.736600     -87.774700\n",
      "25%                  NaN  2019-06-05 12:24:44.249999872  2019-06-05 12:48:14.249999872       1727.0         401.0             77.0                      NaN           77.0                      NaN      NaN      NaN       1979.0      41.880300     -87.655000      41.880300     -87.655100\n",
      "50%                  NaN     2019-08-05 13:07:41.500000            2019-08-05 13:42:21       3451.0         690.0            174.0                      NaN          174.0                      NaN      NaN      NaN       1987.0      41.890600     -87.639900      41.890600     -87.640600\n",
      "75%                  NaN  2019-10-06 09:33:00.750000128            2019-10-06 09:59:09       5046.0        1249.0            289.0                      NaN          291.0                      NaN      NaN      NaN       1992.0      41.916000     -87.629500      41.916000     -87.629500\n",
      "max                  NaN            2020-03-31 23:51:34            2020-05-19 20:10:34       6946.0    10628400.0            675.0                      NaN          675.0                      NaN      NaN      NaN       2014.0      42.064900     -87.549400      42.064900     -87.549400\n",
      "std                  NaN                            NaN                            NaN  1902.500147  30678.724909       156.794418                      NaN     156.925419                      NaN      NaN      NaN    10.870132       0.038090       0.022656       0.038326       0.022652\n",
      "\n",
      "cleaned_data:head\n",
      "\n",
      "    trip_id          start_time            end_time  bikeid  tripduration  from_station_id                    from_station_name  to_station_id                 to_station_name usertype  gender  birthyear  start_lat  start_lng  end_lat  end_lng\n",
      "0  21742443 2019-01-01 00:04:37 2019-01-01 00:11:07    2167           390              199               Wabash Ave & Grand Ave             84       Milwaukee Ave & Grand Ave   member    Male       1989        NaN        NaN      NaN      NaN\n",
      "1  21742444 2019-01-01 00:08:13 2019-01-01 00:15:34    4386           441               44               State St & Randolph St            624  Dearborn St & Van Buren St (*)   member  Female       1990        NaN        NaN      NaN      NaN\n",
      "2  21742445 2019-01-01 00:13:23 2019-01-01 00:27:12    1524           829               15                 Racine Ave & 18th St            644   Western Ave & Fillmore St (*)   member  Female       1994        NaN        NaN      NaN      NaN\n",
      "3  21742446 2019-01-01 00:13:45 2019-01-01 00:43:28     252          1783              123       California Ave & Milwaukee Ave            176               Clark St & Elm St   member    Male       1993        NaN        NaN      NaN      NaN\n",
      "4  21742447 2019-01-01 00:14:52 2019-01-01 00:20:56    1170           364              173  Mies van der Rohe Way & Chicago Ave             35         Streeter Dr & Grand Ave   member    Male       1994        NaN        NaN      NaN      NaN\n",
      "5  21742448 2019-01-01 00:15:33 2019-01-01 00:19:09    2437           216               98           LaSalle St & Washington St             49         Dearborn St & Monroe St   member  Female       1983        NaN        NaN      NaN      NaN\n",
      "6  21742449 2019-01-01 00:16:06 2019-01-01 00:19:03    2708           177               98           LaSalle St & Washington St             49         Dearborn St & Monroe St   member    Male       1984        NaN        NaN      NaN      NaN\n",
      "7  21742450 2019-01-01 00:18:41 2019-01-01 00:20:21    2796           100              211               St. Clair St & Erie St            142            McClurg Ct & Erie St   member    Male       1990        NaN        NaN      NaN      NaN\n",
      "8  21742451 2019-01-01 00:18:43 2019-01-01 00:47:30    6205          1727              150           Fort Dearborn Dr & 31st St            148              State St & 33rd St   member    Male       1995        NaN        NaN      NaN      NaN\n",
      "9  21742452 2019-01-01 00:19:18 2019-01-01 00:24:54    3939           336              268           Lake Shore Dr & North Blvd            141          Clark St & Lincoln Ave   member    Male       1996        NaN        NaN      NaN      NaN\n",
      "\n",
      "cleaned_data:unique_values\n",
      "\n",
      "                                          0\n",
      "trip_id                      4241242 values\n",
      "start_time                   3705171 values\n",
      "end_time                     3637693 values\n",
      "bikeid                          6018 values\n",
      "tripduration                   22662 values\n",
      "from_station_id                  618 values\n",
      "from_station_name                643 values\n",
      "to_station_id                    619 values\n",
      "to_station_name                  644 values\n",
      "usertype                   [member, casual]\n",
      "gender             [Male, Female, nan, nan]\n",
      "birthyear                         95 values\n",
      "start_lat                        519 values\n",
      "start_lng                        485 values\n",
      "end_lat                          515 values\n",
      "end_lng                          483 values\n"
     ]
    }
   ],
   "source": [
    "df_clean = pd.concat([df_2019_Q1_cleaned, df_2019_Q2_cleaned, df_2019_Q3_cleaned, df_2019_Q4_cleaned, df_2020_Q1_cleaned], ignore_index=True)\n",
    "write_data_info(df_clean, \"cleaned_data\")"
   ]
  },
  {
   "cell_type": "markdown",
   "id": "f3d02cd5",
   "metadata": {},
   "source": [
    "## Transforming data"
   ]
  },
  {
   "cell_type": "code",
   "execution_count": 52,
   "id": "fdc2b4fb",
   "metadata": {},
   "outputs": [],
   "source": [
    "# Getting unique stations and their positions\n",
    "from_stations = df_2020_Q1_cleaned[['from_station_id', 'start_lat', 'start_lng']].drop_duplicates()\n",
    "from_stations.columns = ['station_id', 'latitude', 'longitude']\n",
    "\n",
    "to_stations = df_2020_Q1_cleaned[['to_station_id', 'end_lat', 'end_lng']].drop_duplicates()\n",
    "to_stations.columns = ['station_id', 'latitude', 'longitude']\n",
    "\n",
    "df_stations_position = pd.concat([from_stations, to_stations], ignore_index=True).drop_duplicates(subset=['station_id'])\n",
    "\n",
    "#print(df_stations_position.head())\n",
    "#print(df_stations_position.info())"
   ]
  },
  {
   "cell_type": "code",
   "execution_count": 53,
   "id": "ca7ad559",
   "metadata": {},
   "outputs": [
    {
     "name": "stdout",
     "output_type": "stream",
     "text": [
      "    trip_id          start_time            end_time  bikeid  tripduration  from_station_id                    from_station_name  to_station_id                 to_station_name usertype  gender  birthyear  start_lat  start_lng  end_lat  end_lng\n",
      "0  21742443 2019-01-01 00:04:37 2019-01-01 00:11:07    2167           390              199               Wabash Ave & Grand Ave             84       Milwaukee Ave & Grand Ave   member    Male       1989    41.8915   -87.6268  41.8916 -87.6484\n",
      "1  21742444 2019-01-01 00:08:13 2019-01-01 00:15:34    4386           441               44               State St & Randolph St            624  Dearborn St & Van Buren St (*)   member  Female       1990    41.8847   -87.6277  41.8763 -87.6292\n",
      "2  21742445 2019-01-01 00:13:23 2019-01-01 00:27:12    1524           829               15                 Racine Ave & 18th St            644   Western Ave & Fillmore St (*)   member  Female       1994    41.8582   -87.6565  41.8686 -87.6862\n",
      "3  21742446 2019-01-01 00:13:45 2019-01-01 00:43:28     252          1783              123       California Ave & Milwaukee Ave            176               Clark St & Elm St   member    Male       1993    41.9227   -87.6972  41.9030 -87.6313\n",
      "4  21742447 2019-01-01 00:14:52 2019-01-01 00:20:56    1170           364              173  Mies van der Rohe Way & Chicago Ave             35         Streeter Dr & Grand Ave   member    Male       1994    41.8969   -87.6217  41.8923 -87.6120\n"
     ]
    }
   ],
   "source": [
    "df_transformed = df_clean.copy()\n",
    "\n",
    "df_transformed = df_transformed.merge(\n",
    "    df_stations_position,\n",
    "    how='left',\n",
    "    left_on='from_station_id',\n",
    "    right_on='station_id',\n",
    "    suffixes=('', '_from')\n",
    ")\n",
    "\n",
    "df_transformed.fillna({\"start_lat\": df_transformed['latitude']}, inplace=True)\n",
    "df_transformed.fillna({\"start_lng\": df_transformed['longitude']}, inplace=True)\n",
    "\n",
    "# Drop the temporary columns from the merge\n",
    "df_transformed.drop(['station_id', 'latitude', 'longitude'], axis=1, inplace=True)\n",
    "\n",
    "df_transformed = df_transformed.merge(\n",
    "    df_stations_position,\n",
    "    how='left',\n",
    "    left_on='to_station_id',\n",
    "    right_on='station_id',\n",
    "    suffixes=('', '_to')\n",
    ")\n",
    "\n",
    "df_transformed.fillna({\"end_lat\": df_transformed['latitude']}, inplace=True)\n",
    "df_transformed.fillna({\"end_lng\": df_transformed['longitude']}, inplace=True)\n",
    "\n",
    "df_transformed.drop(['station_id', 'latitude', 'longitude'], axis=1, inplace=True)\n",
    "\n",
    "print(df_transformed.head())"
   ]
  },
  {
   "cell_type": "code",
   "execution_count": 54,
   "id": "26080898",
   "metadata": {},
   "outputs": [
    {
     "name": "stdout",
     "output_type": "stream",
     "text": [
      "    trip_id          start_time            end_time  bikeid  tripduration  from_station_id                    from_station_name  to_station_id                 to_station_name usertype  ... start_lat  start_lng  end_lat  end_lng  start_hour  start_day  start_month  distance      speed  start_day_of_week\n",
      "0  21742443 2019-01-01 00:04:37 2019-01-01 00:11:07    2167           390              199               Wabash Ave & Grand Ave             84       Milwaukee Ave & Grand Ave   member  ...   41.8915   -87.6268  41.8916 -87.6484           0          1            1  1.787966  16.504305            Tuesday\n",
      "1  21742444 2019-01-01 00:08:13 2019-01-01 00:15:34    4386           441               44               State St & Randolph St            624  Dearborn St & Van Buren St (*)   member  ...   41.8847   -87.6277  41.8763 -87.6292           0          1            1  0.942257    7.69189            Tuesday\n",
      "2  21742445 2019-01-01 00:13:23 2019-01-01 00:27:12    1524           829               15                 Racine Ave & 18th St            644   Western Ave & Fillmore St (*)   member  ...   41.8582   -87.6565  41.8686 -87.6862           0          1            1  2.717795  11.802247            Tuesday\n",
      "3  21742446 2019-01-01 00:13:45 2019-01-01 00:43:28     252          1783              123       California Ave & Milwaukee Ave            176               Clark St & Elm St   member  ...   41.9227   -87.6972  41.9030 -87.6313           0          1            1  5.876562  11.865184            Tuesday\n",
      "4  21742447 2019-01-01 00:14:52 2019-01-01 00:20:56    1170           364              173  Mies van der Rohe Way & Chicago Ave             35         Streeter Dr & Grand Ave   member  ...   41.8969   -87.6217  41.8923 -87.6120           0          1            1  0.951965   9.415041            Tuesday\n",
      "\n",
      "[5 rows x 22 columns]\n"
     ]
    }
   ],
   "source": [
    "df_transformed[\"start_hour\"] = df_transformed[\"start_time\"].dt.hour.astype(\"Int64\")\n",
    "df_transformed[\"start_day\"] = df_transformed[\"start_time\"].dt.day.astype(\"Int64\")\n",
    "df_transformed[\"start_month\"] = df_transformed[\"start_time\"].dt.month.astype(\"Int64\")\n",
    "df_transformed[\"distance\"] = df_transformed.apply(lambda row: haversine(row['start_lat'], row['start_lng'], row['end_lat'], row['end_lng']), axis=1)\n",
    "df_transformed[\"speed\"] = df_transformed[\"distance\"] / (df_transformed[\"tripduration\"] / 3600)  # km/h\n",
    "df_transformed[\"start_day_of_week\"] = df_transformed[\"start_time\"].dt.day_name()\n",
    "\n",
    "print(df_transformed.head())"
   ]
  },
  {
   "cell_type": "code",
   "execution_count": 55,
   "id": "06c97305",
   "metadata": {},
   "outputs": [
    {
     "name": "stdout",
     "output_type": "stream",
     "text": [
      "count    3275968.0\n",
      "mean     40.923842\n",
      "std      10.851126\n",
      "min           11.0\n",
      "25%           33.0\n",
      "50%           38.0\n",
      "75%           46.0\n",
      "max          125.0\n",
      "Name: age, dtype: Float64\n"
     ]
    }
   ],
   "source": [
    "\n",
    "df_transformed[\"birthyear\"] = df_clean[\"birthyear\"]\n",
    "df_transformed.loc[(df_transformed[\"birthyear\"] < 1900) | (df_transformed[\"birthyear\"] > 2015), \"birthyear\"] = np.nan\n",
    "\n",
    "df_transformed[\"age\"] = CURRENT_YEAR - df_transformed[\"birthyear\"]\n",
    "\n",
    "df_transformed[\"age\"].head()\n",
    "print(df_transformed[\"age\"].describe())"
   ]
  },
  {
   "cell_type": "markdown",
   "id": "4c8e7bd0",
   "metadata": {},
   "source": [
    "## Exploratory Data Analysis"
   ]
  },
  {
   "cell_type": "code",
   "execution_count": 56,
   "id": "16e9a212",
   "metadata": {},
   "outputs": [
    {
     "data": {
      "image/png": "[encoded data removed]",
      "text/plain": [
       "<Figure size 1200x800 with 1 Axes>"
      ]
     },
     "metadata": {},
     "output_type": "display_data"
    }
   ],
   "source": [
    "plt.figure(figsize=(12, 8))\n",
    "ax = sns.countplot(data = df_transformed, x = \"start_day_of_week\", hue = \"usertype\", stat = \"percent\", order = DAY_ORDER)\n",
    "\n",
    "plt.title(\"Days of the Week Distribution by Usertype\")\n",
    "plt.xlabel(\"Days of the Week\")\n",
    "plt.ylabel(\"Proportion [%]\")\n",
    "plt.legend(title=\"Usertype\")\n",
    "plt.xticks(ticks=range(len(DAY_ORDER)), labels=[label[:3] for label in DAY_ORDER])\n",
    "\n",
    "ax.yaxis.set_major_formatter(FormatStrFormatter('%.0f'))\n",
    "for bars in ax.containers:\n",
    "    ax.bar_label(bars, fmt=\"%.1f\")\n",
    "\n",
    "plt.show()"
   ]
  },
  {
   "cell_type": "markdown",
   "id": "fd0c6b2a",
   "metadata": {},
   "source": [
    "The graph shows a clear distinction between user types, as the majority of members use the service mostly on weekdays, suggesting they are commuting to work. For casual users, there is an increase in usage on weekends, which suggests leisure activity. However, there is also a proportion of casual users on weekdays, which could include tourists or unconverted potential members."
   ]
  },
  {
   "cell_type": "code",
   "execution_count": 57,
   "id": "9887b360",
   "metadata": {},
   "outputs": [
    {
     "data": {
      "image/png": "[encoded data removed]",
      "text/plain": [
       "<Figure size 1200x600 with 1 Axes>"
      ]
     },
     "metadata": {},
     "output_type": "display_data"
    }
   ],
   "source": [
    "\n",
    "plt.figure(figsize=(12, 6))\n",
    "ax = sns.countplot(data = df_transformed, x = \"gender\", hue = \"usertype\", stat = \"percent\")\n",
    "\n",
    "plt.title(\"Gender Distribution by Usertype\")\n",
    "plt.xlabel(\"Gender\")\n",
    "plt.ylabel(\"Proportion [%]\")\n",
    "plt.legend(title=\"Usertype\")\n",
    "\n",
    "ax.yaxis.set_major_formatter(FormatStrFormatter('%.0f'))\n",
    "\n",
    "for bars in ax.containers:\n",
    "    ax.bar_label(bars, fmt=\"%.1f\")\n",
    "    \n",
    "plt.show()"
   ]
  },
  {
   "cell_type": "markdown",
   "id": "eabd0d4f",
   "metadata": {},
   "source": [
    "The service is used predominantly by male users. When the proportions of member vs. casual users for each gender are calculated, casual users make up 9.7% of the male population and 18% of the female population. This suggests that, although the majority of users are male, there is a higher proportion of unconverted casual users among females."
   ]
  },
  {
   "cell_type": "code",
   "execution_count": 58,
   "id": "5fa4ac2b",
   "metadata": {},
   "outputs": [
    {
     "data": {
      "image/png": "[encoded data removed]",
      "text/plain": [
       "<Figure size 1200x600 with 1 Axes>"
      ]
     },
     "metadata": {},
     "output_type": "display_data"
    }
   ],
   "source": [
    "bins = [0, 20, 30, 40, 50, 60, 70, 150]  # 150 is more that max 125 year user\n",
    "labels = [\"<20\", \"20-30\", \"30-40\", \"40-50\", \"50-60\", \"60-70\", \">70\"]\n",
    "\n",
    "df_transformed[\"birthyear_bins\"] = pd.cut(df_transformed[\"age\"], bins=bins, labels=labels, right=False)\n",
    "\n",
    "plt.figure(figsize=(12, 6))\n",
    "ax = sns.countplot(data = df_transformed, x = \"birthyear_bins\", hue = \"usertype\", stat = \"percent\")\n",
    "\n",
    "plt.title(\"Age Distribution by Usertype\")\n",
    "plt.xlabel(\"Age Groups [years]\")\n",
    "plt.ylabel(\"Proportion [%]\")\n",
    "plt.legend(title=\"Usertype\")\n",
    "\n",
    "ax.yaxis.set_major_formatter(FormatStrFormatter('%.0f'))\n",
    "\n",
    "for bars in ax.containers:\n",
    "    ax.bar_label(bars, fmt=\"%.1f\")\n",
    "    \n",
    "plt.show()"
   ]
  },
  {
   "cell_type": "markdown",
   "id": "4b30615c",
   "metadata": {},
   "source": [
    "The graph shows age distribution by user type. The largest user group is in the 30–40 year old range, which also contains the highest number of unconverted casual users."
   ]
  },
  {
   "cell_type": "code",
   "execution_count": 59,
   "id": "9f7b780a",
   "metadata": {},
   "outputs": [
    {
     "data": {
      "image/png": "[encoded data removed]",
      "text/plain": [
       "<Figure size 1200x600 with 1 Axes>"
      ]
     },
     "metadata": {},
     "output_type": "display_data"
    }
   ],
   "source": [
    "bins = [0, 5*60, 10*60, 30*60, 3600, 3*3600, 11000000]  # more tha the max tripduration 127 days = 11000000 seconds\n",
    "labels = [\"<5 min\", \"5-10 min\", \"10-30 min\", \"30-60 min\", \"1-3 h\", \">3 h\"]\n",
    "\n",
    "df_transformed[\"tripduration_bins\"] = pd.cut(df_transformed[\"tripduration\"], bins=bins, labels=labels, right=False)\n",
    "\n",
    "plt.figure(figsize=(12, 6))\n",
    "ax = sns.countplot(data = df_transformed, x = \"tripduration_bins\", hue = \"usertype\", stat = \"percent\")\n",
    "\n",
    "plt.title(\"Trip Time Duration Distribution by Usertype\")\n",
    "plt.xlabel(\"Time Duration Groups\")\n",
    "plt.ylabel(\"Proportion [%]\")\n",
    "plt.legend(title=\"Usertype\")\n",
    "\n",
    "ax.yaxis.set_major_formatter(FormatStrFormatter('%.0f'))\n",
    "\n",
    "for bars in ax.containers:\n",
    "    ax.bar_label(bars, fmt=\"%.1f\")\n",
    "\n",
    "plt.show()"
   ]
  },
  {
   "cell_type": "markdown",
   "id": "67c545d8",
   "metadata": {},
   "source": [
    "The graph shows the distribution of trip lengths by user type. The majority of members’ trips are under 30 minutes. In contrast, casual users tend to take longer trips, peaking in the 10–30 minute range, with some trips lasting up to 3 hours."
   ]
  },
  {
   "cell_type": "code",
   "execution_count": 60,
   "id": "0e9df5d6",
   "metadata": {},
   "outputs": [
    {
     "data": {
      "image/png": "[encoded data removed]",
      "text/plain": [
       "<Figure size 1200x600 with 1 Axes>"
      ]
     },
     "metadata": {},
     "output_type": "display_data"
    }
   ],
   "source": [
    "bins = [0, 6, 9, 12, 15, 18, 21, 24] \n",
    "labels = [\"<6am\", \"6-9am\", \"9am-12pm\", \"12-15pm\", \"15-18pm\", \"18-21pm\", \"9pm-12am\"]\n",
    "\n",
    "df_transformed[\"start_hour_bins\"] = pd.cut(df_transformed[\"start_hour\"], bins=bins, labels=labels, right=False)\n",
    "\n",
    "plt.figure(figsize=(12, 6))\n",
    "ax = sns.countplot(data = df_transformed, x = \"start_hour_bins\", hue = \"usertype\", stat = \"percent\")\n",
    "\n",
    "plt.title(\"Trip Start Time Distribution by Usertype\")\n",
    "\n",
    "ax.yaxis.set_major_formatter(FormatStrFormatter('%.0f'))\n",
    "\n",
    "plt.xlabel(\"Trip Start Groups\")\n",
    "plt.ylabel(\"Proportion [%]\")\n",
    "plt.legend(title=\"Usertype\")\n",
    "\n",
    "for bars in ax.containers:\n",
    "    ax.bar_label(bars, fmt=\"%.1f\")\n",
    "\n",
    "plt.show()"
   ]
  },
  {
   "cell_type": "markdown",
   "id": "0f82f290",
   "metadata": {},
   "source": [
    "The graph shows the distribution of trip start times by user type. Member users, previously identified as commuting, show peak usage in the morning and evening, reinforcing the commuting pattern. Casual users predominantly use the service in the afternoon, supporting the idea of leisure-oriented usage."
   ]
  },
  {
   "cell_type": "code",
   "execution_count": 61,
   "id": "fe6844a6",
   "metadata": {},
   "outputs": [
    {
     "data": {
      "image/png": "[encoded data removed]",
      "text/plain": [
       "<Figure size 1200x600 with 1 Axes>"
      ]
     },
     "metadata": {},
     "output_type": "display_data"
    }
   ],
   "source": [
    "plt.figure(figsize=(12, 6))\n",
    "ax = sns.countplot(data = df_transformed, x = \"start_month\", hue = \"usertype\", stat = \"percent\")\n",
    "\n",
    "ax.yaxis.set_major_formatter(FormatStrFormatter('%.0f'))\n",
    "\n",
    "plt.title(\"Trip Start Time Distribution by Usertype\")\n",
    "plt.xlabel(\"Trip Month Groups\")\n",
    "plt.ylabel(\"Proportion [%]\")\n",
    "plt.xticks(ticks=range(0, 12), labels=[\"Jan\", \"Feb\", \"Mar\", \"Apr\", \"May\", \"Jun\", \"Jul\", \"Aug\", \"Sep\", \"Oct\", \"Nov\", \"Dec\"])\n",
    "plt.legend(title=\"Usertype\")\n",
    "\n",
    "plt.show()"
   ]
  },
  {
   "cell_type": "markdown",
   "id": "617868ff",
   "metadata": {},
   "source": [
    "The graph shows the distribution of trips by month for different user types. Casual users show increased usage during the summer months, indicating a potential opportunity for targeted promotions during this period to convert them to members."
   ]
  },
  {
   "cell_type": "code",
   "execution_count": 62,
   "id": "e37a42e5",
   "metadata": {},
   "outputs": [
    {
     "data": {
      "image/png": "[encoded data removed]",
      "text/plain": [
       "<Figure size 1200x600 with 1 Axes>"
      ]
     },
     "metadata": {},
     "output_type": "display_data"
    }
   ],
   "source": [
    "n_top_stations = 10\n",
    "\n",
    "start_stations = (\n",
    "    df_transformed.groupby(['usertype', 'from_station_name'])\n",
    "    .size()\n",
    "    .reset_index(name='count')\n",
    "    .sort_values(['usertype', 'count'], ascending=[True, False])\n",
    ")\n",
    "\n",
    "total_trips_per_usertype = start_stations.groupby('usertype')['count'].sum().reset_index(name='total_count')\n",
    "\n",
    "start_stations = start_stations.merge(total_trips_per_usertype, on='usertype')\n",
    "start_stations['normalized_count'] = start_stations['count'] / start_stations['total_count'] * 100  # Convert to percentage\n",
    "\n",
    "top_start_stations = start_stations.groupby('usertype').head(n_top_stations).copy()\n",
    "\n",
    "custom_palette = {\"member\": \"#1f77b4\", \"casual\": \"#ff7f0e\"}\n",
    "plt.figure(figsize=(12, 6))\n",
    "sns.barplot(\n",
    "    data=top_start_stations,\n",
    "    x='normalized_count',\n",
    "    y='from_station_name',\n",
    "    hue='usertype',\n",
    "    palette=custom_palette,\n",
    "    dodge=True\n",
    ")\n",
    "plt.title(f\"Top {n_top_stations} Most Common Start Stations by Usertype\")\n",
    "plt.xlabel(\"Proportion [%]\")\n",
    "plt.ylabel(\"Start Station\")\n",
    "plt.legend(title=\"Usertype\")\n",
    "plt.show()"
   ]
  },
  {
   "cell_type": "markdown",
   "id": "3a086174",
   "metadata": {},
   "source": [
    "The graph of the most common start stations by user type shows a clear distinction between casual and member users. This suggests the possibility of promoting specific stations to encourage casual users to convert to membership."
   ]
  },
  {
   "cell_type": "code",
   "execution_count": 63,
   "id": "ce15b549",
   "metadata": {},
   "outputs": [
    {
     "data": {
      "image/png": "[encoded data removed]",
      "text/plain": [
       "<Figure size 1200x600 with 1 Axes>"
      ]
     },
     "metadata": {},
     "output_type": "display_data"
    }
   ],
   "source": [
    "n_top_stations = 10\n",
    "\n",
    "start_stations = (\n",
    "    df_transformed.groupby(['usertype', 'to_station_name'])\n",
    "    .size()\n",
    "    .reset_index(name='count')\n",
    "    .sort_values(['usertype', 'count'], ascending=[True, False])\n",
    ")\n",
    "\n",
    "total_trips_per_usertype = start_stations.groupby('usertype')['count'].sum().reset_index(name='total_count')\n",
    "\n",
    "start_stations = start_stations.merge(total_trips_per_usertype, on='usertype')\n",
    "start_stations['normalized_count'] = start_stations['count'] / start_stations['total_count'] * 100  # Convert to percentage\n",
    "\n",
    "top_start_stations = start_stations.groupby('usertype').head(n_top_stations).copy()\n",
    "\n",
    "custom_palette = {\"member\": \"#1f77b4\", \"casual\": \"#ff7f0e\"}\n",
    "plt.figure(figsize=(12, 6))\n",
    "sns.barplot(\n",
    "    data=top_start_stations,\n",
    "    x='normalized_count',\n",
    "    y='to_station_name',\n",
    "    hue='usertype',\n",
    "    palette=custom_palette,\n",
    "    dodge=True\n",
    ")\n",
    "plt.title(f\"Top {n_top_stations} Most Common End Stations by Usertype\")\n",
    "plt.xlabel(\"Proportion [%]\")\n",
    "plt.ylabel(\"End Station\")\n",
    "plt.legend(title=\"Usertype\")\n",
    "plt.show()"
   ]
  },
  {
   "cell_type": "markdown",
   "id": "7113ca83",
   "metadata": {},
   "source": [
    "Similarly to the start stations, the most common destinations show a clear distinction between user types. Moreover, many popular end stations for casual users are the same as their start stations, further supporting the idea of targeted promotions for these locations."
   ]
  },
  {
   "cell_type": "code",
   "execution_count": 64,
   "id": "b22566c9",
   "metadata": {},
   "outputs": [
    {
     "data": {
      "image/png": "[encoded data removed]",
      "text/plain": [
       "<Figure size 1200x800 with 1 Axes>"
      ]
     },
     "metadata": {},
     "output_type": "display_data"
    }
   ],
   "source": [
    "n_top_stations = 10\n",
    "\n",
    "df_transformed['normalized_route'] = df_transformed.apply(\n",
    "   lambda row: tuple(sorted([row['from_station_name'], row['to_station_name']])), axis=1\n",
    ")\n",
    "\n",
    "popular_routes = (\n",
    "    df_transformed.groupby(['usertype', \"normalized_route\"])\n",
    "    .size()\n",
    "    .reset_index(name='count')\n",
    "    .sort_values(['usertype', 'count'], ascending=[True, False])\n",
    ")\n",
    "\n",
    "popular_routes[['from_station_name', 'to_station_name']] = pd.DataFrame(\n",
    "   popular_routes['normalized_route'].tolist(), index=popular_routes.index\n",
    ")\n",
    "\n",
    "total_trips_per_usertype = popular_routes.groupby('usertype')['count'].sum().reset_index(name='total_count')\n",
    "\n",
    "popular_routes = popular_routes.merge(total_trips_per_usertype, on='usertype')\n",
    "popular_routes['normalized_count'] = popular_routes['count'] / popular_routes['total_count'] * 100  # Convert to percentage\n",
    "\n",
    "top_routes = popular_routes.groupby('usertype').head(n_top_stations).copy()\n",
    "\n",
    "top_routes['route'] = top_routes['from_station_name'] + \" <-> \" + top_routes['to_station_name']\n",
    "\n",
    "custom_palette = {\"member\": \"#1f77b4\", \"casual\": \"#ff7f0e\"}\n",
    "plt.figure(figsize=(12, 8))\n",
    "sns.barplot(\n",
    "    data=top_routes,\n",
    "    x='normalized_count',\n",
    "    y='route',\n",
    "    hue='usertype',\n",
    "    palette=custom_palette,\n",
    "    dodge=True\n",
    ")\n",
    "plt.title(f\"Top {n_top_stations} Most Popular Routes by Usertype\")\n",
    "plt.xlabel(\"Proportion [%]\")\n",
    "plt.ylabel(\"Route\")\n",
    "plt.legend(title=\"Usertype\")\n",
    "plt.show()"
   ]
  },
  {
   "cell_type": "markdown",
   "id": "b742ac38",
   "metadata": {},
   "source": [
    "The most popular routes also reveal commonly used paths among casual users."
   ]
  },
  {
   "cell_type": "code",
   "execution_count": 65,
   "id": "0f4d3fbd",
   "metadata": {},
   "outputs": [
    {
     "data": {
      "application/vnd.plotly.v1+json": {
       "config": {
        "plotlyServerURL": "https://plot.ly"
       },
       "data": [
        {
         "hoverinfo": "text",
         "lat": [
          41.881,
          41.8923
         ],
         "legendgroup": "casual",
         "line": {
          "color": "#ff7f0e",
          "width": 2
         },
         "lon": [
          -87.6167,
          -87.612
         ],
         "mode": "lines",
         "name": "casual Route",
         "showlegend": false,
         "text": "Route: Lake Shore Dr & Monroe St <-> Streeter Dr & Grand Ave",
         "type": "scattermapbox"
        },
        {
         "hoverinfo": "text",
         "lat": [
          41.881
         ],
         "legendgroup": "casual",
         "lon": [
          -87.6167
         ],
         "marker": {
          "color": "#ff7f0e",
          "size": 8
         },
         "mode": "markers",
         "name": "casual Start",
         "showlegend": false,
         "text": "Lake Shore Dr & Monroe St",
         "type": "scattermapbox"
        },
        {
         "hoverinfo": "text",
         "lat": [
          41.8923
         ],
         "legendgroup": "casual",
         "lon": [
          -87.612
         ],
         "marker": {
          "color": "#ff7f0e",
          "size": 8
         },
         "mode": "markers",
         "name": "casual End",
         "showlegend": false,
         "text": "Streeter Dr & Grand Ave",
         "type": "scattermapbox"
        },
        {
         "hoverinfo": "text",
         "lat": [
          41.8923,
          41.8923
         ],
         "legendgroup": "casual",
         "line": {
          "color": "#ff7f0e",
          "width": 2
         },
         "lon": [
          -87.612,
          -87.612
         ],
         "mode": "lines",
         "name": "casual Route",
         "showlegend": false,
         "text": "Route: Streeter Dr & Grand Ave <-> Streeter Dr & Grand Ave",
         "type": "scattermapbox"
        },
        {
         "hoverinfo": "text",
         "lat": [
          41.8923
         ],
         "legendgroup": "casual",
         "lon": [
          -87.612
         ],
         "marker": {
          "color": "#ff7f0e",
          "size": 8
         },
         "mode": "markers",
         "name": "casual Start",
         "showlegend": false,
         "text": "Streeter Dr & Grand Ave",
         "type": "scattermapbox"
        },
        {
         "hoverinfo": "text",
         "lat": [
          41.8923
         ],
         "legendgroup": "casual",
         "lon": [
          -87.612
         ],
         "marker": {
          "color": "#ff7f0e",
          "size": 8
         },
         "mode": "markers",
         "name": "casual End",
         "showlegend": false,
         "text": "Streeter Dr & Grand Ave",
         "type": "scattermapbox"
        },
        {
         "hoverinfo": "text",
         "lat": [
          41.881,
          41.881
         ],
         "legendgroup": "casual",
         "line": {
          "color": "#ff7f0e",
          "width": 2
         },
         "lon": [
          -87.6167,
          -87.6167
         ],
         "mode": "lines",
         "name": "casual Route",
         "showlegend": false,
         "text": "Route: Lake Shore Dr & Monroe St <-> Lake Shore Dr & Monroe St",
         "type": "scattermapbox"
        },
        {
         "hoverinfo": "text",
         "lat": [
          41.881
         ],
         "legendgroup": "casual",
         "lon": [
          -87.6167
         ],
         "marker": {
          "color": "#ff7f0e",
          "size": 8
         },
         "mode": "markers",
         "name": "casual Start",
         "showlegend": false,
         "text": "Lake Shore Dr & Monroe St",
         "type": "scattermapbox"
        },
        {
         "hoverinfo": "text",
         "lat": [
          41.881
         ],
         "legendgroup": "casual",
         "lon": [
          -87.6167
         ],
         "marker": {
          "color": "#ff7f0e",
          "size": 8
         },
         "mode": "markers",
         "name": "casual End",
         "showlegend": false,
         "text": "Lake Shore Dr & Monroe St",
         "type": "scattermapbox"
        },
        {
         "hoverinfo": "text",
         "lat": [
          41.901,
          41.901
         ],
         "legendgroup": "casual",
         "line": {
          "color": "#ff7f0e",
          "width": 2
         },
         "lon": [
          -87.6238,
          -87.6238
         ],
         "mode": "lines",
         "name": "casual Route",
         "showlegend": false,
         "text": "Route: Michigan Ave & Oak St <-> Michigan Ave & Oak St",
         "type": "scattermapbox"
        },
        {
         "hoverinfo": "text",
         "lat": [
          41.901
         ],
         "legendgroup": "casual",
         "lon": [
          -87.6238
         ],
         "marker": {
          "color": "#ff7f0e",
          "size": 8
         },
         "mode": "markers",
         "name": "casual Start",
         "showlegend": false,
         "text": "Michigan Ave & Oak St",
         "type": "scattermapbox"
        },
        {
         "hoverinfo": "text",
         "lat": [
          41.901
         ],
         "legendgroup": "casual",
         "lon": [
          -87.6238
         ],
         "marker": {
          "color": "#ff7f0e",
          "size": 8
         },
         "mode": "markers",
         "name": "casual End",
         "showlegend": false,
         "text": "Michigan Ave & Oak St",
         "type": "scattermapbox"
        },
        {
         "hoverinfo": "text",
         "lat": [
          41.8672,
          41.8923
         ],
         "legendgroup": "casual",
         "line": {
          "color": "#ff7f0e",
          "width": 2
         },
         "lon": [
          -87.6154,
          -87.612
         ],
         "mode": "lines",
         "name": "casual Route",
         "showlegend": false,
         "text": "Route: Shedd Aquarium <-> Streeter Dr & Grand Ave",
         "type": "scattermapbox"
        },
        {
         "hoverinfo": "text",
         "lat": [
          41.8672
         ],
         "legendgroup": "casual",
         "lon": [
          -87.6154
         ],
         "marker": {
          "color": "#ff7f0e",
          "size": 8
         },
         "mode": "markers",
         "name": "casual Start",
         "showlegend": false,
         "text": "Shedd Aquarium",
         "type": "scattermapbox"
        },
        {
         "hoverinfo": "text",
         "lat": [
          41.8923
         ],
         "legendgroup": "casual",
         "lon": [
          -87.612
         ],
         "marker": {
          "color": "#ff7f0e",
          "size": 8
         },
         "mode": "markers",
         "name": "casual End",
         "showlegend": false,
         "text": "Streeter Dr & Grand Ave",
         "type": "scattermapbox"
        },
        {
         "hoverinfo": "text",
         "lat": [
          41.8899,
          41.8899
         ],
         "legendgroup": "casual",
         "line": {
          "color": "#ff7f0e",
          "width": 2
         },
         "lon": [
          -87.6803,
          -87.6803
         ],
         "mode": "lines",
         "name": "casual Route",
         "showlegend": false,
         "text": "Route: HQ QR <-> HQ QR",
         "type": "scattermapbox"
        },
        {
         "hoverinfo": "text",
         "lat": [
          41.8899
         ],
         "legendgroup": "casual",
         "lon": [
          -87.6803
         ],
         "marker": {
          "color": "#ff7f0e",
          "size": 8
         },
         "mode": "markers",
         "name": "casual Start",
         "showlegend": false,
         "text": "HQ QR",
         "type": "scattermapbox"
        },
        {
         "hoverinfo": "text",
         "lat": [
          41.8899
         ],
         "legendgroup": "casual",
         "lon": [
          -87.6803
         ],
         "marker": {
          "color": "#ff7f0e",
          "size": 8
         },
         "mode": "markers",
         "name": "casual End",
         "showlegend": false,
         "text": "HQ QR",
         "type": "scattermapbox"
        },
        {
         "hoverinfo": "text",
         "lat": [
          41.8923,
          41.881
         ],
         "legendgroup": "casual",
         "line": {
          "color": "#ff7f0e",
          "width": 2
         },
         "lon": [
          -87.612,
          -87.6241
         ],
         "mode": "lines",
         "name": "casual Route",
         "showlegend": false,
         "text": "Route: Millennium Park <-> Streeter Dr & Grand Ave",
         "type": "scattermapbox"
        },
        {
         "hoverinfo": "text",
         "lat": [
          41.8923
         ],
         "legendgroup": "casual",
         "lon": [
          -87.612
         ],
         "marker": {
          "color": "#ff7f0e",
          "size": 8
         },
         "mode": "markers",
         "name": "casual Start",
         "showlegend": false,
         "text": "Millennium Park",
         "type": "scattermapbox"
        },
        {
         "hoverinfo": "text",
         "lat": [
          41.881
         ],
         "legendgroup": "casual",
         "lon": [
          -87.6241
         ],
         "marker": {
          "color": "#ff7f0e",
          "size": 8
         },
         "mode": "markers",
         "name": "casual End",
         "showlegend": false,
         "text": "Streeter Dr & Grand Ave",
         "type": "scattermapbox"
        },
        {
         "hoverinfo": "text",
         "lat": [
          41.881,
          41.881
         ],
         "legendgroup": "casual",
         "line": {
          "color": "#ff7f0e",
          "width": 2
         },
         "lon": [
          -87.6241,
          -87.6241
         ],
         "mode": "lines",
         "name": "casual Route",
         "showlegend": false,
         "text": "Route: Millennium Park <-> Millennium Park",
         "type": "scattermapbox"
        },
        {
         "hoverinfo": "text",
         "lat": [
          41.881
         ],
         "legendgroup": "casual",
         "lon": [
          -87.6241
         ],
         "marker": {
          "color": "#ff7f0e",
          "size": 8
         },
         "mode": "markers",
         "name": "casual Start",
         "showlegend": false,
         "text": "Millennium Park",
         "type": "scattermapbox"
        },
        {
         "hoverinfo": "text",
         "lat": [
          41.881
         ],
         "legendgroup": "casual",
         "lon": [
          -87.6241
         ],
         "marker": {
          "color": "#ff7f0e",
          "size": 8
         },
         "mode": "markers",
         "name": "casual End",
         "showlegend": false,
         "text": "Millennium Park",
         "type": "scattermapbox"
        },
        {
         "hoverinfo": "text",
         "lat": [
          41.8923,
          41.881
         ],
         "legendgroup": "casual",
         "line": {
          "color": "#ff7f0e",
          "width": 2
         },
         "lon": [
          -87.612,
          -87.6167
         ],
         "mode": "lines",
         "name": "casual Route",
         "showlegend": false,
         "text": "Route: Lake Shore Dr & Monroe St <-> Streeter Dr & Grand Ave",
         "type": "scattermapbox"
        },
        {
         "hoverinfo": "text",
         "lat": [
          41.8923
         ],
         "legendgroup": "casual",
         "lon": [
          -87.612
         ],
         "marker": {
          "color": "#ff7f0e",
          "size": 8
         },
         "mode": "markers",
         "name": "casual Start",
         "showlegend": false,
         "text": "Lake Shore Dr & Monroe St",
         "type": "scattermapbox"
        },
        {
         "hoverinfo": "text",
         "lat": [
          41.881
         ],
         "legendgroup": "casual",
         "lon": [
          -87.6167
         ],
         "marker": {
          "color": "#ff7f0e",
          "size": 8
         },
         "mode": "markers",
         "name": "casual End",
         "showlegend": false,
         "text": "Streeter Dr & Grand Ave",
         "type": "scattermapbox"
        },
        {
         "hoverinfo": "text",
         "lat": [
          41.881,
          41.8923
         ],
         "legendgroup": "casual",
         "line": {
          "color": "#ff7f0e",
          "width": 2
         },
         "lon": [
          -87.6241,
          -87.612
         ],
         "mode": "lines",
         "name": "casual Route",
         "showlegend": false,
         "text": "Route: Millennium Park <-> Streeter Dr & Grand Ave",
         "type": "scattermapbox"
        },
        {
         "hoverinfo": "text",
         "lat": [
          41.881
         ],
         "legendgroup": "casual",
         "lon": [
          -87.6241
         ],
         "marker": {
          "color": "#ff7f0e",
          "size": 8
         },
         "mode": "markers",
         "name": "casual Start",
         "showlegend": false,
         "text": "Millennium Park",
         "type": "scattermapbox"
        },
        {
         "hoverinfo": "text",
         "lat": [
          41.8923
         ],
         "legendgroup": "casual",
         "lon": [
          -87.612
         ],
         "marker": {
          "color": "#ff7f0e",
          "size": 8
         },
         "mode": "markers",
         "name": "casual End",
         "showlegend": false,
         "text": "Streeter Dr & Grand Ave",
         "type": "scattermapbox"
        },
        {
         "hoverinfo": "text",
         "lat": [
          41.964,
          41.964
         ],
         "legendgroup": "casual",
         "line": {
          "color": "#ff7f0e",
          "width": 2
         },
         "lon": [
          -87.6382,
          -87.6382
         ],
         "mode": "lines",
         "name": "casual Route",
         "showlegend": false,
         "text": "Route: Montrose Harbor <-> Montrose Harbor",
         "type": "scattermapbox"
        },
        {
         "hoverinfo": "text",
         "lat": [
          41.964
         ],
         "legendgroup": "casual",
         "lon": [
          -87.6382
         ],
         "marker": {
          "color": "#ff7f0e",
          "size": 8
         },
         "mode": "markers",
         "name": "casual Start",
         "showlegend": false,
         "text": "Montrose Harbor",
         "type": "scattermapbox"
        },
        {
         "hoverinfo": "text",
         "lat": [
          41.964
         ],
         "legendgroup": "casual",
         "lon": [
          -87.6382
         ],
         "marker": {
          "color": "#ff7f0e",
          "size": 8
         },
         "mode": "markers",
         "name": "casual End",
         "showlegend": false,
         "text": "Montrose Harbor",
         "type": "scattermapbox"
        },
        {
         "hoverinfo": "text",
         "lat": [
          41.887,
          41.8923
         ],
         "legendgroup": "casual",
         "line": {
          "color": "#ff7f0e",
          "width": 2
         },
         "lon": [
          -87.6128,
          -87.612
         ],
         "mode": "lines",
         "name": "casual Route",
         "showlegend": false,
         "text": "Route: Dusable Harbor <-> Streeter Dr & Grand Ave",
         "type": "scattermapbox"
        },
        {
         "hoverinfo": "text",
         "lat": [
          41.887
         ],
         "legendgroup": "casual",
         "lon": [
          -87.6128
         ],
         "marker": {
          "color": "#ff7f0e",
          "size": 8
         },
         "mode": "markers",
         "name": "casual Start",
         "showlegend": false,
         "text": "Dusable Harbor",
         "type": "scattermapbox"
        },
        {
         "hoverinfo": "text",
         "lat": [
          41.8923
         ],
         "legendgroup": "casual",
         "lon": [
          -87.612
         ],
         "marker": {
          "color": "#ff7f0e",
          "size": 8
         },
         "mode": "markers",
         "name": "casual End",
         "showlegend": false,
         "text": "Streeter Dr & Grand Ave",
         "type": "scattermapbox"
        },
        {
         "hoverinfo": "text",
         "lat": [
          41.8923,
          41.9117
         ],
         "legendgroup": "casual",
         "line": {
          "color": "#ff7f0e",
          "width": 2
         },
         "lon": [
          -87.612,
          -87.6268
         ],
         "mode": "lines",
         "name": "casual Route",
         "showlegend": false,
         "text": "Route: Lake Shore Dr & North Blvd <-> Streeter Dr & Grand Ave",
         "type": "scattermapbox"
        },
        {
         "hoverinfo": "text",
         "lat": [
          41.8923
         ],
         "legendgroup": "casual",
         "lon": [
          -87.612
         ],
         "marker": {
          "color": "#ff7f0e",
          "size": 8
         },
         "mode": "markers",
         "name": "casual Start",
         "showlegend": false,
         "text": "Lake Shore Dr & North Blvd",
         "type": "scattermapbox"
        },
        {
         "hoverinfo": "text",
         "lat": [
          41.9117
         ],
         "legendgroup": "casual",
         "lon": [
          -87.6268
         ],
         "marker": {
          "color": "#ff7f0e",
          "size": 8
         },
         "mode": "markers",
         "name": "casual End",
         "showlegend": false,
         "text": "Streeter Dr & Grand Ave",
         "type": "scattermapbox"
        },
        {
         "hoverinfo": "text",
         "lat": [
          41.8923,
          41.901
         ],
         "legendgroup": "casual",
         "line": {
          "color": "#ff7f0e",
          "width": 2
         },
         "lon": [
          -87.612,
          -87.6238
         ],
         "mode": "lines",
         "name": "casual Route",
         "showlegend": false,
         "text": "Route: Michigan Ave & Oak St <-> Streeter Dr & Grand Ave",
         "type": "scattermapbox"
        },
        {
         "hoverinfo": "text",
         "lat": [
          41.8923
         ],
         "legendgroup": "casual",
         "lon": [
          -87.612
         ],
         "marker": {
          "color": "#ff7f0e",
          "size": 8
         },
         "mode": "markers",
         "name": "casual Start",
         "showlegend": false,
         "text": "Michigan Ave & Oak St",
         "type": "scattermapbox"
        },
        {
         "hoverinfo": "text",
         "lat": [
          41.901
         ],
         "legendgroup": "casual",
         "lon": [
          -87.6238
         ],
         "marker": {
          "color": "#ff7f0e",
          "size": 8
         },
         "mode": "markers",
         "name": "casual End",
         "showlegend": false,
         "text": "Streeter Dr & Grand Ave",
         "type": "scattermapbox"
        },
        {
         "hoverinfo": "text",
         "lat": [
          41.8923,
          41.9263
         ],
         "legendgroup": "casual",
         "line": {
          "color": "#ff7f0e",
          "width": 2
         },
         "lon": [
          -87.612,
          -87.6308
         ],
         "mode": "lines",
         "name": "casual Route",
         "showlegend": false,
         "text": "Route: Streeter Dr & Grand Ave <-> Theater on the Lake",
         "type": "scattermapbox"
        },
        {
         "hoverinfo": "text",
         "lat": [
          41.8923
         ],
         "legendgroup": "casual",
         "lon": [
          -87.612
         ],
         "marker": {
          "color": "#ff7f0e",
          "size": 8
         },
         "mode": "markers",
         "name": "casual Start",
         "showlegend": false,
         "text": "Streeter Dr & Grand Ave",
         "type": "scattermapbox"
        },
        {
         "hoverinfo": "text",
         "lat": [
          41.9263
         ],
         "legendgroup": "casual",
         "lon": [
          -87.6308
         ],
         "marker": {
          "color": "#ff7f0e",
          "size": 8
         },
         "mode": "markers",
         "name": "casual End",
         "showlegend": false,
         "text": "Theater on the Lake",
         "type": "scattermapbox"
        },
        {
         "hoverinfo": "text",
         "lat": [
          41.881,
          41.8672
         ],
         "legendgroup": "casual",
         "line": {
          "color": "#ff7f0e",
          "width": 2
         },
         "lon": [
          -87.6167,
          -87.6154
         ],
         "mode": "lines",
         "name": "casual Route",
         "showlegend": false,
         "text": "Route: Lake Shore Dr & Monroe St <-> Shedd Aquarium",
         "type": "scattermapbox"
        },
        {
         "hoverinfo": "text",
         "lat": [
          41.881
         ],
         "legendgroup": "casual",
         "lon": [
          -87.6167
         ],
         "marker": {
          "color": "#ff7f0e",
          "size": 8
         },
         "mode": "markers",
         "name": "casual Start",
         "showlegend": false,
         "text": "Lake Shore Dr & Monroe St",
         "type": "scattermapbox"
        },
        {
         "hoverinfo": "text",
         "lat": [
          41.8672
         ],
         "legendgroup": "casual",
         "lon": [
          -87.6154
         ],
         "marker": {
          "color": "#ff7f0e",
          "size": 8
         },
         "mode": "markers",
         "name": "casual End",
         "showlegend": false,
         "text": "Shedd Aquarium",
         "type": "scattermapbox"
        },
        {
         "hoverinfo": "text",
         "lat": [
          41.9117,
          41.8923
         ],
         "legendgroup": "casual",
         "line": {
          "color": "#ff7f0e",
          "width": 2
         },
         "lon": [
          -87.6268,
          -87.612
         ],
         "mode": "lines",
         "name": "casual Route",
         "showlegend": false,
         "text": "Route: Lake Shore Dr & North Blvd <-> Streeter Dr & Grand Ave",
         "type": "scattermapbox"
        },
        {
         "hoverinfo": "text",
         "lat": [
          41.9117
         ],
         "legendgroup": "casual",
         "lon": [
          -87.6268
         ],
         "marker": {
          "color": "#ff7f0e",
          "size": 8
         },
         "mode": "markers",
         "name": "casual Start",
         "showlegend": false,
         "text": "Lake Shore Dr & North Blvd",
         "type": "scattermapbox"
        },
        {
         "hoverinfo": "text",
         "lat": [
          41.8923
         ],
         "legendgroup": "casual",
         "lon": [
          -87.612
         ],
         "marker": {
          "color": "#ff7f0e",
          "size": 8
         },
         "mode": "markers",
         "name": "casual End",
         "showlegend": false,
         "text": "Streeter Dr & Grand Ave",
         "type": "scattermapbox"
        },
        {
         "hoverinfo": "text",
         "lat": [
          41.9263,
          41.8923
         ],
         "legendgroup": "casual",
         "line": {
          "color": "#ff7f0e",
          "width": 2
         },
         "lon": [
          -87.6308,
          -87.612
         ],
         "mode": "lines",
         "name": "casual Route",
         "showlegend": false,
         "text": "Route: Streeter Dr & Grand Ave <-> Theater on the Lake",
         "type": "scattermapbox"
        },
        {
         "hoverinfo": "text",
         "lat": [
          41.9263
         ],
         "legendgroup": "casual",
         "lon": [
          -87.6308
         ],
         "marker": {
          "color": "#ff7f0e",
          "size": 8
         },
         "mode": "markers",
         "name": "casual Start",
         "showlegend": false,
         "text": "Streeter Dr & Grand Ave",
         "type": "scattermapbox"
        },
        {
         "hoverinfo": "text",
         "lat": [
          41.8923
         ],
         "legendgroup": "casual",
         "lon": [
          -87.612
         ],
         "marker": {
          "color": "#ff7f0e",
          "size": 8
         },
         "mode": "markers",
         "name": "casual End",
         "showlegend": false,
         "text": "Theater on the Lake",
         "type": "scattermapbox"
        },
        {
         "hoverinfo": "text",
         "lat": [
          41.9263,
          41.9263
         ],
         "legendgroup": "casual",
         "line": {
          "color": "#ff7f0e",
          "width": 2
         },
         "lon": [
          -87.6308,
          -87.6308
         ],
         "mode": "lines",
         "name": "casual Route",
         "showlegend": false,
         "text": "Route: Theater on the Lake <-> Theater on the Lake",
         "type": "scattermapbox"
        },
        {
         "hoverinfo": "text",
         "lat": [
          41.9263
         ],
         "legendgroup": "casual",
         "lon": [
          -87.6308
         ],
         "marker": {
          "color": "#ff7f0e",
          "size": 8
         },
         "mode": "markers",
         "name": "casual Start",
         "showlegend": false,
         "text": "Theater on the Lake",
         "type": "scattermapbox"
        },
        {
         "hoverinfo": "text",
         "lat": [
          41.9263
         ],
         "legendgroup": "casual",
         "lon": [
          -87.6308
         ],
         "marker": {
          "color": "#ff7f0e",
          "size": 8
         },
         "mode": "markers",
         "name": "casual End",
         "showlegend": false,
         "text": "Theater on the Lake",
         "type": "scattermapbox"
        },
        {
         "hoverinfo": "text",
         "lat": [
          41.8672,
          41.881
         ],
         "legendgroup": "casual",
         "line": {
          "color": "#ff7f0e",
          "width": 2
         },
         "lon": [
          -87.6154,
          -87.6241
         ],
         "mode": "lines",
         "name": "casual Route",
         "showlegend": false,
         "text": "Route: Millennium Park <-> Shedd Aquarium",
         "type": "scattermapbox"
        },
        {
         "hoverinfo": "text",
         "lat": [
          41.8672
         ],
         "legendgroup": "casual",
         "lon": [
          -87.6154
         ],
         "marker": {
          "color": "#ff7f0e",
          "size": 8
         },
         "mode": "markers",
         "name": "casual Start",
         "showlegend": false,
         "text": "Millennium Park",
         "type": "scattermapbox"
        },
        {
         "hoverinfo": "text",
         "lat": [
          41.881
         ],
         "legendgroup": "casual",
         "lon": [
          -87.6241
         ],
         "marker": {
          "color": "#ff7f0e",
          "size": 8
         },
         "mode": "markers",
         "name": "casual End",
         "showlegend": false,
         "text": "Shedd Aquarium",
         "type": "scattermapbox"
        },
        {
         "hoverinfo": "text",
         "lat": [
          41.901,
          41.8923
         ],
         "legendgroup": "casual",
         "line": {
          "color": "#ff7f0e",
          "width": 2
         },
         "lon": [
          -87.6238,
          -87.612
         ],
         "mode": "lines",
         "name": "casual Route",
         "showlegend": false,
         "text": "Route: Michigan Ave & Oak St <-> Streeter Dr & Grand Ave",
         "type": "scattermapbox"
        },
        {
         "hoverinfo": "text",
         "lat": [
          41.901
         ],
         "legendgroup": "casual",
         "lon": [
          -87.6238
         ],
         "marker": {
          "color": "#ff7f0e",
          "size": 8
         },
         "mode": "markers",
         "name": "casual Start",
         "showlegend": false,
         "text": "Michigan Ave & Oak St",
         "type": "scattermapbox"
        },
        {
         "hoverinfo": "text",
         "lat": [
          41.8923
         ],
         "legendgroup": "casual",
         "lon": [
          -87.612
         ],
         "marker": {
          "color": "#ff7f0e",
          "size": 8
         },
         "mode": "markers",
         "name": "casual End",
         "showlegend": false,
         "text": "Streeter Dr & Grand Ave",
         "type": "scattermapbox"
        },
        {
         "hoverinfo": "text",
         "lat": [
          41.9117,
          41.9117
         ],
         "legendgroup": "casual",
         "line": {
          "color": "#ff7f0e",
          "width": 2
         },
         "lon": [
          -87.6268,
          -87.6268
         ],
         "mode": "lines",
         "name": "casual Route",
         "showlegend": false,
         "text": "Route: Lake Shore Dr & North Blvd <-> Lake Shore Dr & North Blvd",
         "type": "scattermapbox"
        },
        {
         "hoverinfo": "text",
         "lat": [
          41.9117
         ],
         "legendgroup": "casual",
         "lon": [
          -87.6268
         ],
         "marker": {
          "color": "#ff7f0e",
          "size": 8
         },
         "mode": "markers",
         "name": "casual Start",
         "showlegend": false,
         "text": "Lake Shore Dr & North Blvd",
         "type": "scattermapbox"
        },
        {
         "hoverinfo": "text",
         "lat": [
          41.9117
         ],
         "legendgroup": "casual",
         "lon": [
          -87.6268
         ],
         "marker": {
          "color": "#ff7f0e",
          "size": 8
         },
         "mode": "markers",
         "name": "casual End",
         "showlegend": false,
         "text": "Lake Shore Dr & North Blvd",
         "type": "scattermapbox"
        },
        {
         "hoverinfo": "text",
         "lat": [
          41.8728,
          41.8728
         ],
         "legendgroup": "casual",
         "line": {
          "color": "#ff7f0e",
          "width": 2
         },
         "lon": [
          -87.624,
          -87.624
         ],
         "mode": "lines",
         "name": "casual Route",
         "showlegend": false,
         "text": "Route: Michigan Ave & 8th St <-> Michigan Ave & 8th St",
         "type": "scattermapbox"
        },
        {
         "hoverinfo": "text",
         "lat": [
          41.8728
         ],
         "legendgroup": "casual",
         "lon": [
          -87.624
         ],
         "marker": {
          "color": "#ff7f0e",
          "size": 8
         },
         "mode": "markers",
         "name": "casual Start",
         "showlegend": false,
         "text": "Michigan Ave & 8th St",
         "type": "scattermapbox"
        },
        {
         "hoverinfo": "text",
         "lat": [
          41.8728
         ],
         "legendgroup": "casual",
         "lon": [
          -87.624
         ],
         "marker": {
          "color": "#ff7f0e",
          "size": 8
         },
         "mode": "markers",
         "name": "casual End",
         "showlegend": false,
         "text": "Michigan Ave & 8th St",
         "type": "scattermapbox"
        },
        {
         "hoverinfo": "text",
         "lat": [
          41.8672,
          41.8672
         ],
         "legendgroup": "casual",
         "line": {
          "color": "#ff7f0e",
          "width": 2
         },
         "lon": [
          -87.6154,
          -87.6154
         ],
         "mode": "lines",
         "name": "casual Route",
         "showlegend": false,
         "text": "Route: Shedd Aquarium <-> Shedd Aquarium",
         "type": "scattermapbox"
        },
        {
         "hoverinfo": "text",
         "lat": [
          41.8672
         ],
         "legendgroup": "casual",
         "lon": [
          -87.6154
         ],
         "marker": {
          "color": "#ff7f0e",
          "size": 8
         },
         "mode": "markers",
         "name": "casual Start",
         "showlegend": false,
         "text": "Shedd Aquarium",
         "type": "scattermapbox"
        },
        {
         "hoverinfo": "text",
         "lat": [
          41.8672
         ],
         "legendgroup": "casual",
         "lon": [
          -87.6154
         ],
         "marker": {
          "color": "#ff7f0e",
          "size": 8
         },
         "mode": "markers",
         "name": "casual End",
         "showlegend": false,
         "text": "Shedd Aquarium",
         "type": "scattermapbox"
        },
        {
         "hoverinfo": "text",
         "lat": [
          41.8672,
          41.881
         ],
         "legendgroup": "casual",
         "line": {
          "color": "#ff7f0e",
          "width": 2
         },
         "lon": [
          -87.6154,
          -87.6167
         ],
         "mode": "lines",
         "name": "casual Route",
         "showlegend": false,
         "text": "Route: Lake Shore Dr & Monroe St <-> Shedd Aquarium",
         "type": "scattermapbox"
        },
        {
         "hoverinfo": "text",
         "lat": [
          41.8672
         ],
         "legendgroup": "casual",
         "lon": [
          -87.6154
         ],
         "marker": {
          "color": "#ff7f0e",
          "size": 8
         },
         "mode": "markers",
         "name": "casual Start",
         "showlegend": false,
         "text": "Lake Shore Dr & Monroe St",
         "type": "scattermapbox"
        },
        {
         "hoverinfo": "text",
         "lat": [
          41.881
         ],
         "legendgroup": "casual",
         "lon": [
          -87.6167
         ],
         "marker": {
          "color": "#ff7f0e",
          "size": 8
         },
         "mode": "markers",
         "name": "casual End",
         "showlegend": false,
         "text": "Shedd Aquarium",
         "type": "scattermapbox"
        },
        {
         "hoverinfo": "text",
         "lat": [
          41.8661,
          41.8923
         ],
         "legendgroup": "casual",
         "line": {
          "color": "#ff7f0e",
          "width": 2
         },
         "lon": [
          -87.6073,
          -87.612
         ],
         "mode": "lines",
         "name": "casual Route",
         "showlegend": false,
         "text": "Route: Adler Planetarium <-> Streeter Dr & Grand Ave",
         "type": "scattermapbox"
        },
        {
         "hoverinfo": "text",
         "lat": [
          41.8661
         ],
         "legendgroup": "casual",
         "lon": [
          -87.6073
         ],
         "marker": {
          "color": "#ff7f0e",
          "size": 8
         },
         "mode": "markers",
         "name": "casual Start",
         "showlegend": false,
         "text": "Adler Planetarium",
         "type": "scattermapbox"
        },
        {
         "hoverinfo": "text",
         "lat": [
          41.8923
         ],
         "legendgroup": "casual",
         "lon": [
          -87.612
         ],
         "marker": {
          "color": "#ff7f0e",
          "size": 8
         },
         "mode": "markers",
         "name": "casual End",
         "showlegend": false,
         "text": "Streeter Dr & Grand Ave",
         "type": "scattermapbox"
        },
        {
         "hoverinfo": "text",
         "lat": [
          41.8923,
          41.8672
         ],
         "legendgroup": "casual",
         "line": {
          "color": "#ff7f0e",
          "width": 2
         },
         "lon": [
          -87.612,
          -87.6154
         ],
         "mode": "lines",
         "name": "casual Route",
         "showlegend": false,
         "text": "Route: Shedd Aquarium <-> Streeter Dr & Grand Ave",
         "type": "scattermapbox"
        },
        {
         "hoverinfo": "text",
         "lat": [
          41.8923
         ],
         "legendgroup": "casual",
         "lon": [
          -87.612
         ],
         "marker": {
          "color": "#ff7f0e",
          "size": 8
         },
         "mode": "markers",
         "name": "casual Start",
         "showlegend": false,
         "text": "Shedd Aquarium",
         "type": "scattermapbox"
        },
        {
         "hoverinfo": "text",
         "lat": [
          41.8672
         ],
         "legendgroup": "casual",
         "lon": [
          -87.6154
         ],
         "marker": {
          "color": "#ff7f0e",
          "size": 8
         },
         "mode": "markers",
         "name": "casual End",
         "showlegend": false,
         "text": "Streeter Dr & Grand Ave",
         "type": "scattermapbox"
        },
        {
         "hoverinfo": "text",
         "lat": [
          41.887,
          41.887
         ],
         "legendgroup": "casual",
         "line": {
          "color": "#ff7f0e",
          "width": 2
         },
         "lon": [
          -87.6128,
          -87.6128
         ],
         "mode": "lines",
         "name": "casual Route",
         "showlegend": false,
         "text": "Route: Dusable Harbor <-> Dusable Harbor",
         "type": "scattermapbox"
        },
        {
         "hoverinfo": "text",
         "lat": [
          41.887
         ],
         "legendgroup": "casual",
         "lon": [
          -87.6128
         ],
         "marker": {
          "color": "#ff7f0e",
          "size": 8
         },
         "mode": "markers",
         "name": "casual Start",
         "showlegend": false,
         "text": "Dusable Harbor",
         "type": "scattermapbox"
        },
        {
         "hoverinfo": "text",
         "lat": [
          41.887
         ],
         "legendgroup": "casual",
         "lon": [
          -87.6128
         ],
         "marker": {
          "color": "#ff7f0e",
          "size": 8
         },
         "mode": "markers",
         "name": "casual End",
         "showlegend": false,
         "text": "Dusable Harbor",
         "type": "scattermapbox"
        },
        {
         "hoverinfo": "text",
         "lat": [
          41.884,
          41.884
         ],
         "legendgroup": "casual",
         "line": {
          "color": "#ff7f0e",
          "width": 2
         },
         "lon": [
          -87.6247,
          -87.6247
         ],
         "mode": "lines",
         "name": "casual Route",
         "showlegend": false,
         "text": "Route: Michigan Ave & Washington St <-> Michigan Ave & Washington St",
         "type": "scattermapbox"
        },
        {
         "hoverinfo": "text",
         "lat": [
          41.884
         ],
         "legendgroup": "casual",
         "lon": [
          -87.6247
         ],
         "marker": {
          "color": "#ff7f0e",
          "size": 8
         },
         "mode": "markers",
         "name": "casual Start",
         "showlegend": false,
         "text": "Michigan Ave & Washington St",
         "type": "scattermapbox"
        },
        {
         "hoverinfo": "text",
         "lat": [
          41.884
         ],
         "legendgroup": "casual",
         "lon": [
          -87.6247
         ],
         "marker": {
          "color": "#ff7f0e",
          "size": 8
         },
         "mode": "markers",
         "name": "casual End",
         "showlegend": false,
         "text": "Michigan Ave & Washington St",
         "type": "scattermapbox"
        },
        {
         "hoverinfo": "text",
         "lat": [
          41.8661,
          41.8661
         ],
         "legendgroup": "casual",
         "line": {
          "color": "#ff7f0e",
          "width": 2
         },
         "lon": [
          -87.6073,
          -87.6073
         ],
         "mode": "lines",
         "name": "casual Route",
         "showlegend": false,
         "text": "Route: Adler Planetarium <-> Adler Planetarium",
         "type": "scattermapbox"
        },
        {
         "hoverinfo": "text",
         "lat": [
          41.8661
         ],
         "legendgroup": "casual",
         "lon": [
          -87.6073
         ],
         "marker": {
          "color": "#ff7f0e",
          "size": 8
         },
         "mode": "markers",
         "name": "casual Start",
         "showlegend": false,
         "text": "Adler Planetarium",
         "type": "scattermapbox"
        },
        {
         "hoverinfo": "text",
         "lat": [
          41.8661
         ],
         "legendgroup": "casual",
         "lon": [
          -87.6073
         ],
         "marker": {
          "color": "#ff7f0e",
          "size": 8
         },
         "mode": "markers",
         "name": "casual End",
         "showlegend": false,
         "text": "Adler Planetarium",
         "type": "scattermapbox"
        },
        {
         "hoverinfo": "text",
         "lat": [
          41.8386,
          41.8386
         ],
         "legendgroup": "casual",
         "line": {
          "color": "#ff7f0e",
          "width": 2
         },
         "lon": [
          -87.6082,
          -87.6082
         ],
         "mode": "lines",
         "name": "casual Route",
         "showlegend": false,
         "text": "Route: Fort Dearborn Dr & 31st St <-> Fort Dearborn Dr & 31st St",
         "type": "scattermapbox"
        },
        {
         "hoverinfo": "text",
         "lat": [
          41.8386
         ],
         "legendgroup": "casual",
         "lon": [
          -87.6082
         ],
         "marker": {
          "color": "#ff7f0e",
          "size": 8
         },
         "mode": "markers",
         "name": "casual Start",
         "showlegend": false,
         "text": "Fort Dearborn Dr & 31st St",
         "type": "scattermapbox"
        },
        {
         "hoverinfo": "text",
         "lat": [
          41.8386
         ],
         "legendgroup": "casual",
         "lon": [
          -87.6082
         ],
         "marker": {
          "color": "#ff7f0e",
          "size": 8
         },
         "mode": "markers",
         "name": "casual End",
         "showlegend": false,
         "text": "Fort Dearborn Dr & 31st St",
         "type": "scattermapbox"
        },
        {
         "hoverinfo": "text",
         "lat": [
          41.884,
          41.8923
         ],
         "legendgroup": "casual",
         "line": {
          "color": "#ff7f0e",
          "width": 2
         },
         "lon": [
          -87.6247,
          -87.612
         ],
         "mode": "lines",
         "name": "casual Route",
         "showlegend": false,
         "text": "Route: Michigan Ave & Washington St <-> Streeter Dr & Grand Ave",
         "type": "scattermapbox"
        },
        {
         "hoverinfo": "text",
         "lat": [
          41.884
         ],
         "legendgroup": "casual",
         "lon": [
          -87.6247
         ],
         "marker": {
          "color": "#ff7f0e",
          "size": 8
         },
         "mode": "markers",
         "name": "casual Start",
         "showlegend": false,
         "text": "Michigan Ave & Washington St",
         "type": "scattermapbox"
        },
        {
         "hoverinfo": "text",
         "lat": [
          41.8923
         ],
         "legendgroup": "casual",
         "lon": [
          -87.612
         ],
         "marker": {
          "color": "#ff7f0e",
          "size": 8
         },
         "mode": "markers",
         "name": "casual End",
         "showlegend": false,
         "text": "Streeter Dr & Grand Ave",
         "type": "scattermapbox"
        },
        {
         "hoverinfo": "text",
         "lat": [
          41.8679,
          41.8679
         ],
         "legendgroup": "casual",
         "line": {
          "color": "#ff7f0e",
          "width": 2
         },
         "lon": [
          -87.623,
          -87.623
         ],
         "mode": "lines",
         "name": "casual Route",
         "showlegend": false,
         "text": "Route: Indiana Ave & Roosevelt Rd <-> Indiana Ave & Roosevelt Rd",
         "type": "scattermapbox"
        },
        {
         "hoverinfo": "text",
         "lat": [
          41.8679
         ],
         "legendgroup": "casual",
         "lon": [
          -87.623
         ],
         "marker": {
          "color": "#ff7f0e",
          "size": 8
         },
         "mode": "markers",
         "name": "casual Start",
         "showlegend": false,
         "text": "Indiana Ave & Roosevelt Rd",
         "type": "scattermapbox"
        },
        {
         "hoverinfo": "text",
         "lat": [
          41.8679
         ],
         "legendgroup": "casual",
         "lon": [
          -87.623
         ],
         "marker": {
          "color": "#ff7f0e",
          "size": 8
         },
         "mode": "markers",
         "name": "casual End",
         "showlegend": false,
         "text": "Indiana Ave & Roosevelt Rd",
         "type": "scattermapbox"
        },
        {
         "hoverinfo": "text",
         "lat": [
          41.881,
          41.9117
         ],
         "legendgroup": "casual",
         "line": {
          "color": "#ff7f0e",
          "width": 2
         },
         "lon": [
          -87.6167,
          -87.6268
         ],
         "mode": "lines",
         "name": "casual Route",
         "showlegend": false,
         "text": "Route: Lake Shore Dr & Monroe St <-> Lake Shore Dr & North Blvd",
         "type": "scattermapbox"
        },
        {
         "hoverinfo": "text",
         "lat": [
          41.881
         ],
         "legendgroup": "casual",
         "lon": [
          -87.6167
         ],
         "marker": {
          "color": "#ff7f0e",
          "size": 8
         },
         "mode": "markers",
         "name": "casual Start",
         "showlegend": false,
         "text": "Lake Shore Dr & Monroe St",
         "type": "scattermapbox"
        },
        {
         "hoverinfo": "text",
         "lat": [
          41.9117
         ],
         "legendgroup": "casual",
         "lon": [
          -87.6268
         ],
         "marker": {
          "color": "#ff7f0e",
          "size": 8
         },
         "mode": "markers",
         "name": "casual End",
         "showlegend": false,
         "text": "Lake Shore Dr & North Blvd",
         "type": "scattermapbox"
        },
        {
         "hoverinfo": "text",
         "lat": [
          41.881,
          41.8661
         ],
         "legendgroup": "casual",
         "line": {
          "color": "#ff7f0e",
          "width": 2
         },
         "lon": [
          -87.6167,
          -87.6073
         ],
         "mode": "lines",
         "name": "casual Route",
         "showlegend": false,
         "text": "Route: Adler Planetarium <-> Lake Shore Dr & Monroe St",
         "type": "scattermapbox"
        },
        {
         "hoverinfo": "text",
         "lat": [
          41.881
         ],
         "legendgroup": "casual",
         "lon": [
          -87.6167
         ],
         "marker": {
          "color": "#ff7f0e",
          "size": 8
         },
         "mode": "markers",
         "name": "casual Start",
         "showlegend": false,
         "text": "Adler Planetarium",
         "type": "scattermapbox"
        },
        {
         "hoverinfo": "text",
         "lat": [
          41.8661
         ],
         "legendgroup": "casual",
         "lon": [
          -87.6073
         ],
         "marker": {
          "color": "#ff7f0e",
          "size": 8
         },
         "mode": "markers",
         "name": "casual End",
         "showlegend": false,
         "text": "Lake Shore Dr & Monroe St",
         "type": "scattermapbox"
        },
        {
         "hoverinfo": "text",
         "lat": [
          41.881,
          41.887
         ],
         "legendgroup": "casual",
         "line": {
          "color": "#ff7f0e",
          "width": 2
         },
         "lon": [
          -87.6167,
          -87.6128
         ],
         "mode": "lines",
         "name": "casual Route",
         "showlegend": false,
         "text": "Route: Dusable Harbor <-> Lake Shore Dr & Monroe St",
         "type": "scattermapbox"
        },
        {
         "hoverinfo": "text",
         "lat": [
          41.881
         ],
         "legendgroup": "casual",
         "lon": [
          -87.6167
         ],
         "marker": {
          "color": "#ff7f0e",
          "size": 8
         },
         "mode": "markers",
         "name": "casual Start",
         "showlegend": false,
         "text": "Dusable Harbor",
         "type": "scattermapbox"
        },
        {
         "hoverinfo": "text",
         "lat": [
          41.887
         ],
         "legendgroup": "casual",
         "lon": [
          -87.6128
         ],
         "marker": {
          "color": "#ff7f0e",
          "size": 8
         },
         "mode": "markers",
         "name": "casual End",
         "showlegend": false,
         "text": "Lake Shore Dr & Monroe St",
         "type": "scattermapbox"
        },
        {
         "hoverinfo": "text",
         "lat": [
          41.984,
          41.984
         ],
         "legendgroup": "casual",
         "line": {
          "color": "#ff7f0e",
          "width": 2
         },
         "lon": [
          -87.6523,
          -87.6523
         ],
         "mode": "lines",
         "name": "casual Route",
         "showlegend": false,
         "text": "Route: Lakefront Trail & Bryn Mawr Ave <-> Lakefront Trail & Bryn Mawr Ave",
         "type": "scattermapbox"
        },
        {
         "hoverinfo": "text",
         "lat": [
          41.984
         ],
         "legendgroup": "casual",
         "lon": [
          -87.6523
         ],
         "marker": {
          "color": "#ff7f0e",
          "size": 8
         },
         "mode": "markers",
         "name": "casual Start",
         "showlegend": false,
         "text": "Lakefront Trail & Bryn Mawr Ave",
         "type": "scattermapbox"
        },
        {
         "hoverinfo": "text",
         "lat": [
          41.984
         ],
         "legendgroup": "casual",
         "lon": [
          -87.6523
         ],
         "marker": {
          "color": "#ff7f0e",
          "size": 8
         },
         "mode": "markers",
         "name": "casual End",
         "showlegend": false,
         "text": "Lakefront Trail & Bryn Mawr Ave",
         "type": "scattermapbox"
        },
        {
         "hoverinfo": "text",
         "lat": [
          41.8926,
          41.8926
         ],
         "legendgroup": "casual",
         "line": {
          "color": "#ff7f0e",
          "width": 2
         },
         "lon": [
          -87.6145,
          -87.6145
         ],
         "mode": "lines",
         "name": "casual Route",
         "showlegend": false,
         "text": "Route: Lake Shore Dr & Ohio St <-> Lake Shore Dr & Ohio St",
         "type": "scattermapbox"
        },
        {
         "hoverinfo": "text",
         "lat": [
          41.8926
         ],
         "legendgroup": "casual",
         "lon": [
          -87.6145
         ],
         "marker": {
          "color": "#ff7f0e",
          "size": 8
         },
         "mode": "markers",
         "name": "casual Start",
         "showlegend": false,
         "text": "Lake Shore Dr & Ohio St",
         "type": "scattermapbox"
        },
        {
         "hoverinfo": "text",
         "lat": [
          41.8926
         ],
         "legendgroup": "casual",
         "lon": [
          -87.6145
         ],
         "marker": {
          "color": "#ff7f0e",
          "size": 8
         },
         "mode": "markers",
         "name": "casual End",
         "showlegend": false,
         "text": "Lake Shore Dr & Ohio St",
         "type": "scattermapbox"
        },
        {
         "hoverinfo": "text",
         "lat": [
          41.901,
          41.9263
         ],
         "legendgroup": "casual",
         "line": {
          "color": "#ff7f0e",
          "width": 2
         },
         "lon": [
          -87.6238,
          -87.6308
         ],
         "mode": "lines",
         "name": "casual Route",
         "showlegend": false,
         "text": "Route: Michigan Ave & Oak St <-> Theater on the Lake",
         "type": "scattermapbox"
        },
        {
         "hoverinfo": "text",
         "lat": [
          41.901
         ],
         "legendgroup": "casual",
         "lon": [
          -87.6238
         ],
         "marker": {
          "color": "#ff7f0e",
          "size": 8
         },
         "mode": "markers",
         "name": "casual Start",
         "showlegend": false,
         "text": "Michigan Ave & Oak St",
         "type": "scattermapbox"
        },
        {
         "hoverinfo": "text",
         "lat": [
          41.9263
         ],
         "legendgroup": "casual",
         "lon": [
          -87.6308
         ],
         "marker": {
          "color": "#ff7f0e",
          "size": 8
         },
         "mode": "markers",
         "name": "casual End",
         "showlegend": false,
         "text": "Theater on the Lake",
         "type": "scattermapbox"
        },
        {
         "hoverinfo": "text",
         "lat": [
          41.881,
          41.901
         ],
         "legendgroup": "casual",
         "line": {
          "color": "#ff7f0e",
          "width": 2
         },
         "lon": [
          -87.6167,
          -87.6238
         ],
         "mode": "lines",
         "name": "casual Route",
         "showlegend": false,
         "text": "Route: Lake Shore Dr & Monroe St <-> Michigan Ave & Oak St",
         "type": "scattermapbox"
        },
        {
         "hoverinfo": "text",
         "lat": [
          41.881
         ],
         "legendgroup": "casual",
         "lon": [
          -87.6167
         ],
         "marker": {
          "color": "#ff7f0e",
          "size": 8
         },
         "mode": "markers",
         "name": "casual Start",
         "showlegend": false,
         "text": "Lake Shore Dr & Monroe St",
         "type": "scattermapbox"
        },
        {
         "hoverinfo": "text",
         "lat": [
          41.901
         ],
         "legendgroup": "casual",
         "lon": [
          -87.6238
         ],
         "marker": {
          "color": "#ff7f0e",
          "size": 8
         },
         "mode": "markers",
         "name": "casual End",
         "showlegend": false,
         "text": "Michigan Ave & Oak St",
         "type": "scattermapbox"
        },
        {
         "hoverinfo": "text",
         "lat": [
          41.881,
          41.881
         ],
         "legendgroup": "casual",
         "line": {
          "color": "#ff7f0e",
          "width": 2
         },
         "lon": [
          -87.6167,
          -87.6241
         ],
         "mode": "lines",
         "name": "casual Route",
         "showlegend": false,
         "text": "Route: Lake Shore Dr & Monroe St <-> Millennium Park",
         "type": "scattermapbox"
        },
        {
         "hoverinfo": "text",
         "lat": [
          41.881
         ],
         "legendgroup": "casual",
         "lon": [
          -87.6167
         ],
         "marker": {
          "color": "#ff7f0e",
          "size": 8
         },
         "mode": "markers",
         "name": "casual Start",
         "showlegend": false,
         "text": "Lake Shore Dr & Monroe St",
         "type": "scattermapbox"
        },
        {
         "hoverinfo": "text",
         "lat": [
          41.881
         ],
         "legendgroup": "casual",
         "lon": [
          -87.6241
         ],
         "marker": {
          "color": "#ff7f0e",
          "size": 8
         },
         "mode": "markers",
         "name": "casual End",
         "showlegend": false,
         "text": "Millennium Park",
         "type": "scattermapbox"
        },
        {
         "hoverinfo": "text",
         "lat": [
          41.881,
          41.881
         ],
         "legendgroup": "casual",
         "line": {
          "color": "#ff7f0e",
          "width": 2
         },
         "lon": [
          -87.6241,
          -87.6167
         ],
         "mode": "lines",
         "name": "casual Route",
         "showlegend": false,
         "text": "Route: Lake Shore Dr & Monroe St <-> Millennium Park",
         "type": "scattermapbox"
        },
        {
         "hoverinfo": "text",
         "lat": [
          41.881
         ],
         "legendgroup": "casual",
         "lon": [
          -87.6241
         ],
         "marker": {
          "color": "#ff7f0e",
          "size": 8
         },
         "mode": "markers",
         "name": "casual Start",
         "showlegend": false,
         "text": "Lake Shore Dr & Monroe St",
         "type": "scattermapbox"
        },
        {
         "hoverinfo": "text",
         "lat": [
          41.881
         ],
         "legendgroup": "casual",
         "lon": [
          -87.6167
         ],
         "marker": {
          "color": "#ff7f0e",
          "size": 8
         },
         "mode": "markers",
         "name": "casual End",
         "showlegend": false,
         "text": "Millennium Park",
         "type": "scattermapbox"
        },
        {
         "hoverinfo": "text",
         "lat": [
          41.8923,
          41.884
         ],
         "legendgroup": "casual",
         "line": {
          "color": "#ff7f0e",
          "width": 2
         },
         "lon": [
          -87.612,
          -87.6247
         ],
         "mode": "lines",
         "name": "casual Route",
         "showlegend": false,
         "text": "Route: Michigan Ave & Washington St <-> Streeter Dr & Grand Ave",
         "type": "scattermapbox"
        },
        {
         "hoverinfo": "text",
         "lat": [
          41.8923
         ],
         "legendgroup": "casual",
         "lon": [
          -87.612
         ],
         "marker": {
          "color": "#ff7f0e",
          "size": 8
         },
         "mode": "markers",
         "name": "casual Start",
         "showlegend": false,
         "text": "Michigan Ave & Washington St",
         "type": "scattermapbox"
        },
        {
         "hoverinfo": "text",
         "lat": [
          41.884
         ],
         "legendgroup": "casual",
         "lon": [
          -87.6247
         ],
         "marker": {
          "color": "#ff7f0e",
          "size": 8
         },
         "mode": "markers",
         "name": "casual End",
         "showlegend": false,
         "text": "Streeter Dr & Grand Ave",
         "type": "scattermapbox"
        },
        {
         "hoverinfo": "text",
         "lat": [
          41.881,
          41.8672
         ],
         "legendgroup": "casual",
         "line": {
          "color": "#ff7f0e",
          "width": 2
         },
         "lon": [
          -87.6241,
          -87.6154
         ],
         "mode": "lines",
         "name": "casual Route",
         "showlegend": false,
         "text": "Route: Millennium Park <-> Shedd Aquarium",
         "type": "scattermapbox"
        },
        {
         "hoverinfo": "text",
         "lat": [
          41.881
         ],
         "legendgroup": "casual",
         "lon": [
          -87.6241
         ],
         "marker": {
          "color": "#ff7f0e",
          "size": 8
         },
         "mode": "markers",
         "name": "casual Start",
         "showlegend": false,
         "text": "Millennium Park",
         "type": "scattermapbox"
        },
        {
         "hoverinfo": "text",
         "lat": [
          41.8672
         ],
         "legendgroup": "casual",
         "lon": [
          -87.6154
         ],
         "marker": {
          "color": "#ff7f0e",
          "size": 8
         },
         "mode": "markers",
         "name": "casual End",
         "showlegend": false,
         "text": "Shedd Aquarium",
         "type": "scattermapbox"
        },
        {
         "hoverinfo": "text",
         "lat": [
          41.8661,
          41.881
         ],
         "legendgroup": "casual",
         "line": {
          "color": "#ff7f0e",
          "width": 2
         },
         "lon": [
          -87.6073,
          -87.6241
         ],
         "mode": "lines",
         "name": "casual Route",
         "showlegend": false,
         "text": "Route: Adler Planetarium <-> Millennium Park",
         "type": "scattermapbox"
        },
        {
         "hoverinfo": "text",
         "lat": [
          41.8661
         ],
         "legendgroup": "casual",
         "lon": [
          -87.6073
         ],
         "marker": {
          "color": "#ff7f0e",
          "size": 8
         },
         "mode": "markers",
         "name": "casual Start",
         "showlegend": false,
         "text": "Adler Planetarium",
         "type": "scattermapbox"
        },
        {
         "hoverinfo": "text",
         "lat": [
          41.881
         ],
         "legendgroup": "casual",
         "lon": [
          -87.6241
         ],
         "marker": {
          "color": "#ff7f0e",
          "size": 8
         },
         "mode": "markers",
         "name": "casual End",
         "showlegend": false,
         "text": "Millennium Park",
         "type": "scattermapbox"
        },
        {
         "hoverinfo": "text",
         "lat": [
          41.8847,
          41.8923
         ],
         "legendgroup": "casual",
         "line": {
          "color": "#ff7f0e",
          "width": 2
         },
         "lon": [
          -87.6195,
          -87.612
         ],
         "mode": "lines",
         "name": "casual Route",
         "showlegend": false,
         "text": "Route: Columbus Dr & Randolph St <-> Streeter Dr & Grand Ave",
         "type": "scattermapbox"
        },
        {
         "hoverinfo": "text",
         "lat": [
          41.8847
         ],
         "legendgroup": "casual",
         "lon": [
          -87.6195
         ],
         "marker": {
          "color": "#ff7f0e",
          "size": 8
         },
         "mode": "markers",
         "name": "casual Start",
         "showlegend": false,
         "text": "Columbus Dr & Randolph St",
         "type": "scattermapbox"
        },
        {
         "hoverinfo": "text",
         "lat": [
          41.8923
         ],
         "legendgroup": "casual",
         "lon": [
          -87.612
         ],
         "marker": {
          "color": "#ff7f0e",
          "size": 8
         },
         "mode": "markers",
         "name": "casual End",
         "showlegend": false,
         "text": "Streeter Dr & Grand Ave",
         "type": "scattermapbox"
        },
        {
         "hoverinfo": "text",
         "lat": [
          41.8728,
          41.8923
         ],
         "legendgroup": "casual",
         "line": {
          "color": "#ff7f0e",
          "width": 2
         },
         "lon": [
          -87.624,
          -87.612
         ],
         "mode": "lines",
         "name": "casual Route",
         "showlegend": false,
         "text": "Route: Michigan Ave & 8th St <-> Streeter Dr & Grand Ave",
         "type": "scattermapbox"
        },
        {
         "hoverinfo": "text",
         "lat": [
          41.8728
         ],
         "legendgroup": "casual",
         "lon": [
          -87.624
         ],
         "marker": {
          "color": "#ff7f0e",
          "size": 8
         },
         "mode": "markers",
         "name": "casual Start",
         "showlegend": false,
         "text": "Michigan Ave & 8th St",
         "type": "scattermapbox"
        },
        {
         "hoverinfo": "text",
         "lat": [
          41.8923
         ],
         "legendgroup": "casual",
         "lon": [
          -87.612
         ],
         "marker": {
          "color": "#ff7f0e",
          "size": 8
         },
         "mode": "markers",
         "name": "casual End",
         "showlegend": false,
         "text": "Streeter Dr & Grand Ave",
         "type": "scattermapbox"
        },
        {
         "hoverinfo": "text",
         "lat": [
          41.8661,
          41.881
         ],
         "legendgroup": "casual",
         "line": {
          "color": "#ff7f0e",
          "width": 2
         },
         "lon": [
          -87.6073,
          -87.6167
         ],
         "mode": "lines",
         "name": "casual Route",
         "showlegend": false,
         "text": "Route: Adler Planetarium <-> Lake Shore Dr & Monroe St",
         "type": "scattermapbox"
        },
        {
         "hoverinfo": "text",
         "lat": [
          41.8661
         ],
         "legendgroup": "casual",
         "lon": [
          -87.6073
         ],
         "marker": {
          "color": "#ff7f0e",
          "size": 8
         },
         "mode": "markers",
         "name": "casual Start",
         "showlegend": false,
         "text": "Adler Planetarium",
         "type": "scattermapbox"
        },
        {
         "hoverinfo": "text",
         "lat": [
          41.881
         ],
         "legendgroup": "casual",
         "lon": [
          -87.6167
         ],
         "marker": {
          "color": "#ff7f0e",
          "size": 8
         },
         "mode": "markers",
         "name": "casual End",
         "showlegend": false,
         "text": "Lake Shore Dr & Monroe St",
         "type": "scattermapbox"
        },
        {
         "hoverinfo": "text",
         "lat": [
          41.887,
          41.881
         ],
         "legendgroup": "casual",
         "line": {
          "color": "#ff7f0e",
          "width": 2
         },
         "lon": [
          -87.6128,
          -87.6167
         ],
         "mode": "lines",
         "name": "casual Route",
         "showlegend": false,
         "text": "Route: Dusable Harbor <-> Lake Shore Dr & Monroe St",
         "type": "scattermapbox"
        },
        {
         "hoverinfo": "text",
         "lat": [
          41.887
         ],
         "legendgroup": "casual",
         "lon": [
          -87.6128
         ],
         "marker": {
          "color": "#ff7f0e",
          "size": 8
         },
         "mode": "markers",
         "name": "casual Start",
         "showlegend": false,
         "text": "Dusable Harbor",
         "type": "scattermapbox"
        },
        {
         "hoverinfo": "text",
         "lat": [
          41.881
         ],
         "legendgroup": "casual",
         "lon": [
          -87.6167
         ],
         "marker": {
          "color": "#ff7f0e",
          "size": 8
         },
         "mode": "markers",
         "name": "casual End",
         "showlegend": false,
         "text": "Lake Shore Dr & Monroe St",
         "type": "scattermapbox"
        },
        {
         "hoverinfo": "text",
         "lat": [
          41.881,
          41.9263
         ],
         "legendgroup": "casual",
         "line": {
          "color": "#ff7f0e",
          "width": 2
         },
         "lon": [
          -87.6167,
          -87.6308
         ],
         "mode": "lines",
         "name": "casual Route",
         "showlegend": false,
         "text": "Route: Lake Shore Dr & Monroe St <-> Theater on the Lake",
         "type": "scattermapbox"
        },
        {
         "hoverinfo": "text",
         "lat": [
          41.881
         ],
         "legendgroup": "casual",
         "lon": [
          -87.6167
         ],
         "marker": {
          "color": "#ff7f0e",
          "size": 8
         },
         "mode": "markers",
         "name": "casual Start",
         "showlegend": false,
         "text": "Lake Shore Dr & Monroe St",
         "type": "scattermapbox"
        },
        {
         "hoverinfo": "text",
         "lat": [
          41.9263
         ],
         "legendgroup": "casual",
         "lon": [
          -87.6308
         ],
         "marker": {
          "color": "#ff7f0e",
          "size": 8
         },
         "mode": "markers",
         "name": "casual End",
         "showlegend": false,
         "text": "Theater on the Lake",
         "type": "scattermapbox"
        },
        {
         "hoverinfo": "text",
         "lat": [
          41.8793,
          41.884
         ],
         "legendgroup": "member",
         "line": {
          "color": "#1f77b4",
          "width": 2
         },
         "lon": [
          -87.6399,
          -87.6247
         ],
         "mode": "lines",
         "name": "member Route",
         "showlegend": false,
         "text": "Route: Canal St & Adams St <-> Michigan Ave & Washington St",
         "type": "scattermapbox"
        },
        {
         "hoverinfo": "text",
         "lat": [
          41.8793
         ],
         "legendgroup": "member",
         "lon": [
          -87.6399
         ],
         "marker": {
          "color": "#1f77b4",
          "size": 8
         },
         "mode": "markers",
         "name": "member Start",
         "showlegend": false,
         "text": "Canal St & Adams St",
         "type": "scattermapbox"
        },
        {
         "hoverinfo": "text",
         "lat": [
          41.884
         ],
         "legendgroup": "member",
         "lon": [
          -87.6247
         ],
         "marker": {
          "color": "#1f77b4",
          "size": 8
         },
         "mode": "markers",
         "name": "member End",
         "showlegend": false,
         "text": "Michigan Ave & Washington St",
         "type": "scattermapbox"
        },
        {
         "hoverinfo": "text",
         "lat": [
          41.884,
          41.8834
         ],
         "legendgroup": "member",
         "line": {
          "color": "#1f77b4",
          "width": 2
         },
         "lon": [
          -87.6247,
          -87.6412
         ],
         "mode": "lines",
         "name": "member Route",
         "showlegend": false,
         "text": "Route: Clinton St & Washington Blvd <-> Michigan Ave & Washington St",
         "type": "scattermapbox"
        },
        {
         "hoverinfo": "text",
         "lat": [
          41.884
         ],
         "legendgroup": "member",
         "lon": [
          -87.6247
         ],
         "marker": {
          "color": "#1f77b4",
          "size": 8
         },
         "mode": "markers",
         "name": "member Start",
         "showlegend": false,
         "text": "Clinton St & Washington Blvd",
         "type": "scattermapbox"
        },
        {
         "hoverinfo": "text",
         "lat": [
          41.8834
         ],
         "legendgroup": "member",
         "lon": [
          -87.6412
         ],
         "marker": {
          "color": "#1f77b4",
          "size": 8
         },
         "mode": "markers",
         "name": "member End",
         "showlegend": false,
         "text": "Michigan Ave & Washington St",
         "type": "scattermapbox"
        },
        {
         "hoverinfo": "text",
         "lat": [
          41.8847,
          41.8834
         ],
         "legendgroup": "member",
         "line": {
          "color": "#1f77b4",
          "width": 2
         },
         "lon": [
          -87.6195,
          -87.6412
         ],
         "mode": "lines",
         "name": "member Route",
         "showlegend": false,
         "text": "Route: Clinton St & Washington Blvd <-> Columbus Dr & Randolph St",
         "type": "scattermapbox"
        },
        {
         "hoverinfo": "text",
         "lat": [
          41.8847
         ],
         "legendgroup": "member",
         "lon": [
          -87.6195
         ],
         "marker": {
          "color": "#1f77b4",
          "size": 8
         },
         "mode": "markers",
         "name": "member Start",
         "showlegend": false,
         "text": "Clinton St & Washington Blvd",
         "type": "scattermapbox"
        },
        {
         "hoverinfo": "text",
         "lat": [
          41.8834
         ],
         "legendgroup": "member",
         "lon": [
          -87.6412
         ],
         "marker": {
          "color": "#1f77b4",
          "size": 8
         },
         "mode": "markers",
         "name": "member End",
         "showlegend": false,
         "text": "Columbus Dr & Randolph St",
         "type": "scattermapbox"
        },
        {
         "hoverinfo": "text",
         "lat": [
          41.884,
          41.8793
         ],
         "legendgroup": "member",
         "line": {
          "color": "#1f77b4",
          "width": 2
         },
         "lon": [
          -87.6247,
          -87.6399
         ],
         "mode": "lines",
         "name": "member Route",
         "showlegend": false,
         "text": "Route: Canal St & Adams St <-> Michigan Ave & Washington St",
         "type": "scattermapbox"
        },
        {
         "hoverinfo": "text",
         "lat": [
          41.884
         ],
         "legendgroup": "member",
         "lon": [
          -87.6247
         ],
         "marker": {
          "color": "#1f77b4",
          "size": 8
         },
         "mode": "markers",
         "name": "member Start",
         "showlegend": false,
         "text": "Canal St & Adams St",
         "type": "scattermapbox"
        },
        {
         "hoverinfo": "text",
         "lat": [
          41.8793
         ],
         "legendgroup": "member",
         "lon": [
          -87.6399
         ],
         "marker": {
          "color": "#1f77b4",
          "size": 8
         },
         "mode": "markers",
         "name": "member End",
         "showlegend": false,
         "text": "Michigan Ave & Washington St",
         "type": "scattermapbox"
        },
        {
         "hoverinfo": "text",
         "lat": [
          41.8821,
          41.884
         ],
         "legendgroup": "member",
         "line": {
          "color": "#1f77b4",
          "width": 2
         },
         "lon": [
          -87.6398,
          -87.6247
         ],
         "mode": "lines",
         "name": "member Route",
         "showlegend": false,
         "text": "Route: Canal St & Madison St <-> Michigan Ave & Washington St",
         "type": "scattermapbox"
        },
        {
         "hoverinfo": "text",
         "lat": [
          41.8821
         ],
         "legendgroup": "member",
         "lon": [
          -87.6398
         ],
         "marker": {
          "color": "#1f77b4",
          "size": 8
         },
         "mode": "markers",
         "name": "member Start",
         "showlegend": false,
         "text": "Canal St & Madison St",
         "type": "scattermapbox"
        },
        {
         "hoverinfo": "text",
         "lat": [
          41.884
         ],
         "legendgroup": "member",
         "lon": [
          -87.6247
         ],
         "marker": {
          "color": "#1f77b4",
          "size": 8
         },
         "mode": "markers",
         "name": "member End",
         "showlegend": false,
         "text": "Michigan Ave & Washington St",
         "type": "scattermapbox"
        },
        {
         "hoverinfo": "text",
         "lat": [
          41.8834,
          41.884
         ],
         "legendgroup": "member",
         "line": {
          "color": "#1f77b4",
          "width": 2
         },
         "lon": [
          -87.6412,
          -87.6247
         ],
         "mode": "lines",
         "name": "member Route",
         "showlegend": false,
         "text": "Route: Clinton St & Washington Blvd <-> Michigan Ave & Washington St",
         "type": "scattermapbox"
        },
        {
         "hoverinfo": "text",
         "lat": [
          41.8834
         ],
         "legendgroup": "member",
         "lon": [
          -87.6412
         ],
         "marker": {
          "color": "#1f77b4",
          "size": 8
         },
         "mode": "markers",
         "name": "member Start",
         "showlegend": false,
         "text": "Clinton St & Washington Blvd",
         "type": "scattermapbox"
        },
        {
         "hoverinfo": "text",
         "lat": [
          41.884
         ],
         "legendgroup": "member",
         "lon": [
          -87.6247
         ],
         "marker": {
          "color": "#1f77b4",
          "size": 8
         },
         "mode": "markers",
         "name": "member End",
         "showlegend": false,
         "text": "Michigan Ave & Washington St",
         "type": "scattermapbox"
        },
        {
         "hoverinfo": "text",
         "lat": [
          41.8847,
          41.8847
         ],
         "legendgroup": "member",
         "line": {
          "color": "#1f77b4",
          "width": 2
         },
         "lon": [
          -87.6195,
          -87.6277
         ],
         "mode": "lines",
         "name": "member Route",
         "showlegend": false,
         "text": "Route: Columbus Dr & Randolph St <-> State St & Randolph St",
         "type": "scattermapbox"
        },
        {
         "hoverinfo": "text",
         "lat": [
          41.8847
         ],
         "legendgroup": "member",
         "lon": [
          -87.6195
         ],
         "marker": {
          "color": "#1f77b4",
          "size": 8
         },
         "mode": "markers",
         "name": "member Start",
         "showlegend": false,
         "text": "Columbus Dr & Randolph St",
         "type": "scattermapbox"
        },
        {
         "hoverinfo": "text",
         "lat": [
          41.8847
         ],
         "legendgroup": "member",
         "lon": [
          -87.6277
         ],
         "marker": {
          "color": "#1f77b4",
          "size": 8
         },
         "mode": "markers",
         "name": "member End",
         "showlegend": false,
         "text": "State St & Randolph St",
         "type": "scattermapbox"
        },
        {
         "hoverinfo": "text",
         "lat": [
          41.8847,
          41.8793
         ],
         "legendgroup": "member",
         "line": {
          "color": "#1f77b4",
          "width": 2
         },
         "lon": [
          -87.6195,
          -87.6399
         ],
         "mode": "lines",
         "name": "member Route",
         "showlegend": false,
         "text": "Route: Canal St & Adams St <-> Columbus Dr & Randolph St",
         "type": "scattermapbox"
        },
        {
         "hoverinfo": "text",
         "lat": [
          41.8847
         ],
         "legendgroup": "member",
         "lon": [
          -87.6195
         ],
         "marker": {
          "color": "#1f77b4",
          "size": 8
         },
         "mode": "markers",
         "name": "member Start",
         "showlegend": false,
         "text": "Canal St & Adams St",
         "type": "scattermapbox"
        },
        {
         "hoverinfo": "text",
         "lat": [
          41.8793
         ],
         "legendgroup": "member",
         "lon": [
          -87.6399
         ],
         "marker": {
          "color": "#1f77b4",
          "size": 8
         },
         "mode": "markers",
         "name": "member End",
         "showlegend": false,
         "text": "Columbus Dr & Randolph St",
         "type": "scattermapbox"
        },
        {
         "hoverinfo": "text",
         "lat": [
          41.8831,
          41.884
         ],
         "legendgroup": "member",
         "line": {
          "color": "#1f77b4",
          "width": 2
         },
         "lon": [
          -87.6373,
          -87.6247
         ],
         "mode": "lines",
         "name": "member Route",
         "showlegend": false,
         "text": "Route: Michigan Ave & Washington St <-> Wacker Dr & Washington St",
         "type": "scattermapbox"
        },
        {
         "hoverinfo": "text",
         "lat": [
          41.8831
         ],
         "legendgroup": "member",
         "lon": [
          -87.6373
         ],
         "marker": {
          "color": "#1f77b4",
          "size": 8
         },
         "mode": "markers",
         "name": "member Start",
         "showlegend": false,
         "text": "Michigan Ave & Washington St",
         "type": "scattermapbox"
        },
        {
         "hoverinfo": "text",
         "lat": [
          41.884
         ],
         "legendgroup": "member",
         "lon": [
          -87.6247
         ],
         "marker": {
          "color": "#1f77b4",
          "size": 8
         },
         "mode": "markers",
         "name": "member End",
         "showlegend": false,
         "text": "Wacker Dr & Washington St",
         "type": "scattermapbox"
        },
        {
         "hoverinfo": "text",
         "lat": [
          41.8822,
          41.8782
         ],
         "legendgroup": "member",
         "line": {
          "color": "#1f77b4",
          "width": 2
         },
         "lon": [
          -87.6411,
          -87.6319
         ],
         "mode": "lines",
         "name": "member Route",
         "showlegend": false,
         "text": "Route: Clinton St & Madison St <-> LaSalle St & Jackson Blvd",
         "type": "scattermapbox"
        },
        {
         "hoverinfo": "text",
         "lat": [
          41.8822
         ],
         "legendgroup": "member",
         "lon": [
          -87.6411
         ],
         "marker": {
          "color": "#1f77b4",
          "size": 8
         },
         "mode": "markers",
         "name": "member Start",
         "showlegend": false,
         "text": "Clinton St & Madison St",
         "type": "scattermapbox"
        },
        {
         "hoverinfo": "text",
         "lat": [
          41.8782
         ],
         "legendgroup": "member",
         "lon": [
          -87.6319
         ],
         "marker": {
          "color": "#1f77b4",
          "size": 8
         },
         "mode": "markers",
         "name": "member End",
         "showlegend": false,
         "text": "LaSalle St & Jackson Blvd",
         "type": "scattermapbox"
        },
        {
         "hoverinfo": "text",
         "lat": [
          41.8421,
          41.8347
         ],
         "legendgroup": "member",
         "line": {
          "color": "#1f77b4",
          "width": 2
         },
         "lon": [
          -87.617,
          -87.6258
         ],
         "mode": "lines",
         "name": "member Route",
         "showlegend": false,
         "text": "Route: MLK Jr Dr & 29th St <-> State St & 33rd St",
         "type": "scattermapbox"
        },
        {
         "hoverinfo": "text",
         "lat": [
          41.8421
         ],
         "legendgroup": "member",
         "lon": [
          -87.617
         ],
         "marker": {
          "color": "#1f77b4",
          "size": 8
         },
         "mode": "markers",
         "name": "member Start",
         "showlegend": false,
         "text": "MLK Jr Dr & 29th St",
         "type": "scattermapbox"
        },
        {
         "hoverinfo": "text",
         "lat": [
          41.8347
         ],
         "legendgroup": "member",
         "lon": [
          -87.6258
         ],
         "marker": {
          "color": "#1f77b4",
          "size": 8
         },
         "mode": "markers",
         "name": "member End",
         "showlegend": false,
         "text": "State St & 33rd St",
         "type": "scattermapbox"
        },
        {
         "hoverinfo": "text",
         "lat": [
          41.8722,
          41.8717
         ],
         "legendgroup": "member",
         "line": {
          "color": "#1f77b4",
          "width": 2
         },
         "lon": [
          -87.6615,
          -87.651
         ],
         "mode": "lines",
         "name": "member Route",
         "showlegend": false,
         "text": "Route: Loomis St & Lexington St <-> Morgan St & Polk St",
         "type": "scattermapbox"
        },
        {
         "hoverinfo": "text",
         "lat": [
          41.8722
         ],
         "legendgroup": "member",
         "lon": [
          -87.6615
         ],
         "marker": {
          "color": "#1f77b4",
          "size": 8
         },
         "mode": "markers",
         "name": "member Start",
         "showlegend": false,
         "text": "Loomis St & Lexington St",
         "type": "scattermapbox"
        },
        {
         "hoverinfo": "text",
         "lat": [
          41.8717
         ],
         "legendgroup": "member",
         "lon": [
          -87.651
         ],
         "marker": {
          "color": "#1f77b4",
          "size": 8
         },
         "mode": "markers",
         "name": "member End",
         "showlegend": false,
         "text": "Morgan St & Polk St",
         "type": "scattermapbox"
        },
        {
         "hoverinfo": "text",
         "lat": [
          41.886,
          41.8793
         ],
         "legendgroup": "member",
         "line": {
          "color": "#1f77b4",
          "width": 2
         },
         "lon": [
          -87.6241,
          -87.6399
         ],
         "mode": "lines",
         "name": "member Route",
         "showlegend": false,
         "text": "Route: Canal St & Adams St <-> Michigan Ave & Lake St",
         "type": "scattermapbox"
        },
        {
         "hoverinfo": "text",
         "lat": [
          41.886
         ],
         "legendgroup": "member",
         "lon": [
          -87.6241
         ],
         "marker": {
          "color": "#1f77b4",
          "size": 8
         },
         "mode": "markers",
         "name": "member Start",
         "showlegend": false,
         "text": "Canal St & Adams St",
         "type": "scattermapbox"
        },
        {
         "hoverinfo": "text",
         "lat": [
          41.8793
         ],
         "legendgroup": "member",
         "lon": [
          -87.6399
         ],
         "marker": {
          "color": "#1f77b4",
          "size": 8
         },
         "mode": "markers",
         "name": "member End",
         "showlegend": false,
         "text": "Michigan Ave & Lake St",
         "type": "scattermapbox"
        },
        {
         "hoverinfo": "text",
         "lat": [
          41.7915,
          41.7996
         ],
         "legendgroup": "member",
         "line": {
          "color": "#1f77b4",
          "width": 2
         },
         "lon": [
          -87.5999,
          -87.5947
         ],
         "mode": "lines",
         "name": "member Route",
         "showlegend": false,
         "text": "Route: Kimbark Ave & 53rd St <-> University Ave & 57th St",
         "type": "scattermapbox"
        },
        {
         "hoverinfo": "text",
         "lat": [
          41.7915
         ],
         "legendgroup": "member",
         "lon": [
          -87.5999
         ],
         "marker": {
          "color": "#1f77b4",
          "size": 8
         },
         "mode": "markers",
         "name": "member Start",
         "showlegend": false,
         "text": "Kimbark Ave & 53rd St",
         "type": "scattermapbox"
        },
        {
         "hoverinfo": "text",
         "lat": [
          41.7996
         ],
         "legendgroup": "member",
         "lon": [
          -87.5947
         ],
         "marker": {
          "color": "#1f77b4",
          "size": 8
         },
         "mode": "markers",
         "name": "member End",
         "showlegend": false,
         "text": "University Ave & 57th St",
         "type": "scattermapbox"
        },
        {
         "hoverinfo": "text",
         "lat": [
          41.8822,
          41.884
         ],
         "legendgroup": "member",
         "line": {
          "color": "#1f77b4",
          "width": 2
         },
         "lon": [
          -87.6411,
          -87.6247
         ],
         "mode": "lines",
         "name": "member Route",
         "showlegend": false,
         "text": "Route: Clinton St & Madison St <-> Michigan Ave & Washington St",
         "type": "scattermapbox"
        },
        {
         "hoverinfo": "text",
         "lat": [
          41.8822
         ],
         "legendgroup": "member",
         "lon": [
          -87.6411
         ],
         "marker": {
          "color": "#1f77b4",
          "size": 8
         },
         "mode": "markers",
         "name": "member Start",
         "showlegend": false,
         "text": "Clinton St & Madison St",
         "type": "scattermapbox"
        },
        {
         "hoverinfo": "text",
         "lat": [
          41.884
         ],
         "legendgroup": "member",
         "lon": [
          -87.6247
         ],
         "marker": {
          "color": "#1f77b4",
          "size": 8
         },
         "mode": "markers",
         "name": "member End",
         "showlegend": false,
         "text": "Michigan Ave & Washington St",
         "type": "scattermapbox"
        },
        {
         "hoverinfo": "text",
         "lat": [
          41.8717,
          41.8722
         ],
         "legendgroup": "member",
         "line": {
          "color": "#1f77b4",
          "width": 2
         },
         "lon": [
          -87.651,
          -87.6615
         ],
         "mode": "lines",
         "name": "member Route",
         "showlegend": false,
         "text": "Route: Loomis St & Lexington St <-> Morgan St & Polk St",
         "type": "scattermapbox"
        },
        {
         "hoverinfo": "text",
         "lat": [
          41.8717
         ],
         "legendgroup": "member",
         "lon": [
          -87.651
         ],
         "marker": {
          "color": "#1f77b4",
          "size": 8
         },
         "mode": "markers",
         "name": "member Start",
         "showlegend": false,
         "text": "Loomis St & Lexington St",
         "type": "scattermapbox"
        },
        {
         "hoverinfo": "text",
         "lat": [
          41.8722
         ],
         "legendgroup": "member",
         "lon": [
          -87.6615
         ],
         "marker": {
          "color": "#1f77b4",
          "size": 8
         },
         "mode": "markers",
         "name": "member End",
         "showlegend": false,
         "text": "Morgan St & Polk St",
         "type": "scattermapbox"
        },
        {
         "hoverinfo": "text",
         "lat": [
          41.7932,
          41.7915
         ],
         "legendgroup": "member",
         "line": {
          "color": "#1f77b4",
          "width": 2
         },
         "lon": [
          -87.5878,
          -87.5999
         ],
         "mode": "lines",
         "name": "member Route",
         "showlegend": false,
         "text": "Route: Lake Park Ave & 56th St <-> University Ave & 57th St",
         "type": "scattermapbox"
        },
        {
         "hoverinfo": "text",
         "lat": [
          41.7932
         ],
         "legendgroup": "member",
         "lon": [
          -87.5878
         ],
         "marker": {
          "color": "#1f77b4",
          "size": 8
         },
         "mode": "markers",
         "name": "member Start",
         "showlegend": false,
         "text": "Lake Park Ave & 56th St",
         "type": "scattermapbox"
        },
        {
         "hoverinfo": "text",
         "lat": [
          41.7915
         ],
         "legendgroup": "member",
         "lon": [
          -87.5999
         ],
         "marker": {
          "color": "#1f77b4",
          "size": 8
         },
         "mode": "markers",
         "name": "member End",
         "showlegend": false,
         "text": "University Ave & 57th St",
         "type": "scattermapbox"
        },
        {
         "hoverinfo": "text",
         "lat": [
          41.7851,
          41.7943
         ],
         "legendgroup": "member",
         "line": {
          "color": "#1f77b4",
          "width": 2
         },
         "lon": [
          -87.6011,
          -87.6015
         ],
         "mode": "lines",
         "name": "member Route",
         "showlegend": false,
         "text": "Route: Ellis Ave & 55th St <-> Ellis Ave & 60th St",
         "type": "scattermapbox"
        },
        {
         "hoverinfo": "text",
         "lat": [
          41.7851
         ],
         "legendgroup": "member",
         "lon": [
          -87.6011
         ],
         "marker": {
          "color": "#1f77b4",
          "size": 8
         },
         "mode": "markers",
         "name": "member Start",
         "showlegend": false,
         "text": "Ellis Ave & 55th St",
         "type": "scattermapbox"
        },
        {
         "hoverinfo": "text",
         "lat": [
          41.7943
         ],
         "legendgroup": "member",
         "lon": [
          -87.6015
         ],
         "marker": {
          "color": "#1f77b4",
          "size": 8
         },
         "mode": "markers",
         "name": "member End",
         "showlegend": false,
         "text": "Ellis Ave & 60th St",
         "type": "scattermapbox"
        },
        {
         "hoverinfo": "text",
         "lat": [
          41.7943,
          41.7851
         ],
         "legendgroup": "member",
         "line": {
          "color": "#1f77b4",
          "width": 2
         },
         "lon": [
          -87.6015,
          -87.6011
         ],
         "mode": "lines",
         "name": "member Route",
         "showlegend": false,
         "text": "Route: Ellis Ave & 55th St <-> Ellis Ave & 60th St",
         "type": "scattermapbox"
        },
        {
         "hoverinfo": "text",
         "lat": [
          41.7943
         ],
         "legendgroup": "member",
         "lon": [
          -87.6015
         ],
         "marker": {
          "color": "#1f77b4",
          "size": 8
         },
         "mode": "markers",
         "name": "member Start",
         "showlegend": false,
         "text": "Ellis Ave & 55th St",
         "type": "scattermapbox"
        },
        {
         "hoverinfo": "text",
         "lat": [
          41.7851
         ],
         "legendgroup": "member",
         "lon": [
          -87.6011
         ],
         "marker": {
          "color": "#1f77b4",
          "size": 8
         },
         "mode": "markers",
         "name": "member End",
         "showlegend": false,
         "text": "Ellis Ave & 60th St",
         "type": "scattermapbox"
        },
        {
         "hoverinfo": "text",
         "lat": [
          41.8793,
          41.8978
         ],
         "legendgroup": "member",
         "line": {
          "color": "#1f77b4",
          "width": 2
         },
         "lon": [
          -87.6399,
          -87.6429
         ],
         "mode": "lines",
         "name": "member Route",
         "showlegend": false,
         "text": "Route: Canal St & Adams St <-> Larrabee St & Kingsbury St",
         "type": "scattermapbox"
        },
        {
         "hoverinfo": "text",
         "lat": [
          41.8793
         ],
         "legendgroup": "member",
         "lon": [
          -87.6399
         ],
         "marker": {
          "color": "#1f77b4",
          "size": 8
         },
         "mode": "markers",
         "name": "member Start",
         "showlegend": false,
         "text": "Canal St & Adams St",
         "type": "scattermapbox"
        },
        {
         "hoverinfo": "text",
         "lat": [
          41.8978
         ],
         "legendgroup": "member",
         "lon": [
          -87.6429
         ],
         "marker": {
          "color": "#1f77b4",
          "size": 8
         },
         "mode": "markers",
         "name": "member End",
         "showlegend": false,
         "text": "Larrabee St & Kingsbury St",
         "type": "scattermapbox"
        },
        {
         "hoverinfo": "text",
         "lat": [
          41.8847,
          41.8821
         ],
         "legendgroup": "member",
         "line": {
          "color": "#1f77b4",
          "width": 2
         },
         "lon": [
          -87.6195,
          -87.6398
         ],
         "mode": "lines",
         "name": "member Route",
         "showlegend": false,
         "text": "Route: Canal St & Madison St <-> Columbus Dr & Randolph St",
         "type": "scattermapbox"
        },
        {
         "hoverinfo": "text",
         "lat": [
          41.8847
         ],
         "legendgroup": "member",
         "lon": [
          -87.6195
         ],
         "marker": {
          "color": "#1f77b4",
          "size": 8
         },
         "mode": "markers",
         "name": "member Start",
         "showlegend": false,
         "text": "Canal St & Madison St",
         "type": "scattermapbox"
        },
        {
         "hoverinfo": "text",
         "lat": [
          41.8821
         ],
         "legendgroup": "member",
         "lon": [
          -87.6398
         ],
         "marker": {
          "color": "#1f77b4",
          "size": 8
         },
         "mode": "markers",
         "name": "member End",
         "showlegend": false,
         "text": "Columbus Dr & Randolph St",
         "type": "scattermapbox"
        },
        {
         "hoverinfo": "text",
         "lat": [
          41.7915,
          41.7932
         ],
         "legendgroup": "member",
         "line": {
          "color": "#1f77b4",
          "width": 2
         },
         "lon": [
          -87.5999,
          -87.5878
         ],
         "mode": "lines",
         "name": "member Route",
         "showlegend": false,
         "text": "Route: Lake Park Ave & 56th St <-> University Ave & 57th St",
         "type": "scattermapbox"
        },
        {
         "hoverinfo": "text",
         "lat": [
          41.7915
         ],
         "legendgroup": "member",
         "lon": [
          -87.5999
         ],
         "marker": {
          "color": "#1f77b4",
          "size": 8
         },
         "mode": "markers",
         "name": "member Start",
         "showlegend": false,
         "text": "Lake Park Ave & 56th St",
         "type": "scattermapbox"
        },
        {
         "hoverinfo": "text",
         "lat": [
          41.7932
         ],
         "legendgroup": "member",
         "lon": [
          -87.5878
         ],
         "marker": {
          "color": "#1f77b4",
          "size": 8
         },
         "mode": "markers",
         "name": "member End",
         "showlegend": false,
         "text": "University Ave & 57th St",
         "type": "scattermapbox"
        },
        {
         "hoverinfo": "text",
         "lat": [
          41.8672,
          41.8604
         ],
         "legendgroup": "member",
         "line": {
          "color": "#1f77b4",
          "width": 2
         },
         "lon": [
          -87.626,
          -87.6258
         ],
         "mode": "lines",
         "name": "member Route",
         "showlegend": false,
         "text": "Route: Wabash Ave & 16th St <-> Wabash Ave & Roosevelt Rd",
         "type": "scattermapbox"
        },
        {
         "hoverinfo": "text",
         "lat": [
          41.8672
         ],
         "legendgroup": "member",
         "lon": [
          -87.626
         ],
         "marker": {
          "color": "#1f77b4",
          "size": 8
         },
         "mode": "markers",
         "name": "member Start",
         "showlegend": false,
         "text": "Wabash Ave & 16th St",
         "type": "scattermapbox"
        },
        {
         "hoverinfo": "text",
         "lat": [
          41.8604
         ],
         "legendgroup": "member",
         "lon": [
          -87.6258
         ],
         "marker": {
          "color": "#1f77b4",
          "size": 8
         },
         "mode": "markers",
         "name": "member End",
         "showlegend": false,
         "text": "Wabash Ave & Roosevelt Rd",
         "type": "scattermapbox"
        },
        {
         "hoverinfo": "text",
         "lat": [
          41.8793,
          41.8847
         ],
         "legendgroup": "member",
         "line": {
          "color": "#1f77b4",
          "width": 2
         },
         "lon": [
          -87.6399,
          -87.6195
         ],
         "mode": "lines",
         "name": "member Route",
         "showlegend": false,
         "text": "Route: Canal St & Adams St <-> Columbus Dr & Randolph St",
         "type": "scattermapbox"
        },
        {
         "hoverinfo": "text",
         "lat": [
          41.8793
         ],
         "legendgroup": "member",
         "lon": [
          -87.6399
         ],
         "marker": {
          "color": "#1f77b4",
          "size": 8
         },
         "mode": "markers",
         "name": "member Start",
         "showlegend": false,
         "text": "Canal St & Adams St",
         "type": "scattermapbox"
        },
        {
         "hoverinfo": "text",
         "lat": [
          41.8847
         ],
         "legendgroup": "member",
         "lon": [
          -87.6195
         ],
         "marker": {
          "color": "#1f77b4",
          "size": 8
         },
         "mode": "markers",
         "name": "member End",
         "showlegend": false,
         "text": "Columbus Dr & Randolph St",
         "type": "scattermapbox"
        },
        {
         "hoverinfo": "text",
         "lat": [
          41.7851,
          41.7915
         ],
         "legendgroup": "member",
         "line": {
          "color": "#1f77b4",
          "width": 2
         },
         "lon": [
          -87.6011,
          -87.5999
         ],
         "mode": "lines",
         "name": "member Route",
         "showlegend": false,
         "text": "Route: Ellis Ave & 60th St <-> University Ave & 57th St",
         "type": "scattermapbox"
        },
        {
         "hoverinfo": "text",
         "lat": [
          41.7851
         ],
         "legendgroup": "member",
         "lon": [
          -87.6011
         ],
         "marker": {
          "color": "#1f77b4",
          "size": 8
         },
         "mode": "markers",
         "name": "member Start",
         "showlegend": false,
         "text": "Ellis Ave & 60th St",
         "type": "scattermapbox"
        },
        {
         "hoverinfo": "text",
         "lat": [
          41.7915
         ],
         "legendgroup": "member",
         "lon": [
          -87.5999
         ],
         "marker": {
          "color": "#1f77b4",
          "size": 8
         },
         "mode": "markers",
         "name": "member End",
         "showlegend": false,
         "text": "University Ave & 57th St",
         "type": "scattermapbox"
        },
        {
         "hoverinfo": "text",
         "lat": [
          41.9357,
          41.9363
         ],
         "legendgroup": "member",
         "line": {
          "color": "#1f77b4",
          "width": 2
         },
         "lon": [
          -87.6636,
          -87.6527
         ],
         "mode": "lines",
         "name": "member Route",
         "showlegend": false,
         "text": "Route: Sheffield Ave & Wellington Ave <-> Southport Ave & Wellington Ave",
         "type": "scattermapbox"
        },
        {
         "hoverinfo": "text",
         "lat": [
          41.9357
         ],
         "legendgroup": "member",
         "lon": [
          -87.6636
         ],
         "marker": {
          "color": "#1f77b4",
          "size": 8
         },
         "mode": "markers",
         "name": "member Start",
         "showlegend": false,
         "text": "Sheffield Ave & Wellington Ave",
         "type": "scattermapbox"
        },
        {
         "hoverinfo": "text",
         "lat": [
          41.9363
         ],
         "legendgroup": "member",
         "lon": [
          -87.6527
         ],
         "marker": {
          "color": "#1f77b4",
          "size": 8
         },
         "mode": "markers",
         "name": "member End",
         "showlegend": false,
         "text": "Southport Ave & Wellington Ave",
         "type": "scattermapbox"
        },
        {
         "hoverinfo": "text",
         "lat": [
          41.8978,
          41.8793
         ],
         "legendgroup": "member",
         "line": {
          "color": "#1f77b4",
          "width": 2
         },
         "lon": [
          -87.6429,
          -87.6399
         ],
         "mode": "lines",
         "name": "member Route",
         "showlegend": false,
         "text": "Route: Canal St & Adams St <-> Larrabee St & Kingsbury St",
         "type": "scattermapbox"
        },
        {
         "hoverinfo": "text",
         "lat": [
          41.8978
         ],
         "legendgroup": "member",
         "lon": [
          -87.6429
         ],
         "marker": {
          "color": "#1f77b4",
          "size": 8
         },
         "mode": "markers",
         "name": "member Start",
         "showlegend": false,
         "text": "Canal St & Adams St",
         "type": "scattermapbox"
        },
        {
         "hoverinfo": "text",
         "lat": [
          41.8793
         ],
         "legendgroup": "member",
         "lon": [
          -87.6399
         ],
         "marker": {
          "color": "#1f77b4",
          "size": 8
         },
         "mode": "markers",
         "name": "member End",
         "showlegend": false,
         "text": "Larrabee St & Kingsbury St",
         "type": "scattermapbox"
        },
        {
         "hoverinfo": "text",
         "lat": [
          41.8782,
          41.8821
         ],
         "legendgroup": "member",
         "line": {
          "color": "#1f77b4",
          "width": 2
         },
         "lon": [
          -87.6319,
          -87.6398
         ],
         "mode": "lines",
         "name": "member Route",
         "showlegend": false,
         "text": "Route: Canal St & Madison St <-> LaSalle St & Jackson Blvd",
         "type": "scattermapbox"
        },
        {
         "hoverinfo": "text",
         "lat": [
          41.8782
         ],
         "legendgroup": "member",
         "lon": [
          -87.6319
         ],
         "marker": {
          "color": "#1f77b4",
          "size": 8
         },
         "mode": "markers",
         "name": "member Start",
         "showlegend": false,
         "text": "Canal St & Madison St",
         "type": "scattermapbox"
        },
        {
         "hoverinfo": "text",
         "lat": [
          41.8821
         ],
         "legendgroup": "member",
         "lon": [
          -87.6398
         ],
         "marker": {
          "color": "#1f77b4",
          "size": 8
         },
         "mode": "markers",
         "name": "member End",
         "showlegend": false,
         "text": "LaSalle St & Jackson Blvd",
         "type": "scattermapbox"
        },
        {
         "hoverinfo": "text",
         "lat": [
          41.8347,
          41.8421
         ],
         "legendgroup": "member",
         "line": {
          "color": "#1f77b4",
          "width": 2
         },
         "lon": [
          -87.6258,
          -87.617
         ],
         "mode": "lines",
         "name": "member Route",
         "showlegend": false,
         "text": "Route: MLK Jr Dr & 29th St <-> State St & 33rd St",
         "type": "scattermapbox"
        },
        {
         "hoverinfo": "text",
         "lat": [
          41.8347
         ],
         "legendgroup": "member",
         "lon": [
          -87.6258
         ],
         "marker": {
          "color": "#1f77b4",
          "size": 8
         },
         "mode": "markers",
         "name": "member Start",
         "showlegend": false,
         "text": "MLK Jr Dr & 29th St",
         "type": "scattermapbox"
        },
        {
         "hoverinfo": "text",
         "lat": [
          41.8421
         ],
         "legendgroup": "member",
         "lon": [
          -87.617
         ],
         "marker": {
          "color": "#1f77b4",
          "size": 8
         },
         "mode": "markers",
         "name": "member End",
         "showlegend": false,
         "text": "State St & 33rd St",
         "type": "scattermapbox"
        },
        {
         "hoverinfo": "text",
         "lat": [
          41.886,
          41.8834
         ],
         "legendgroup": "member",
         "line": {
          "color": "#1f77b4",
          "width": 2
         },
         "lon": [
          -87.6241,
          -87.6412
         ],
         "mode": "lines",
         "name": "member Route",
         "showlegend": false,
         "text": "Route: Clinton St & Washington Blvd <-> Michigan Ave & Lake St",
         "type": "scattermapbox"
        },
        {
         "hoverinfo": "text",
         "lat": [
          41.886
         ],
         "legendgroup": "member",
         "lon": [
          -87.6241
         ],
         "marker": {
          "color": "#1f77b4",
          "size": 8
         },
         "mode": "markers",
         "name": "member Start",
         "showlegend": false,
         "text": "Clinton St & Washington Blvd",
         "type": "scattermapbox"
        },
        {
         "hoverinfo": "text",
         "lat": [
          41.8834
         ],
         "legendgroup": "member",
         "lon": [
          -87.6412
         ],
         "marker": {
          "color": "#1f77b4",
          "size": 8
         },
         "mode": "markers",
         "name": "member End",
         "showlegend": false,
         "text": "Michigan Ave & Lake St",
         "type": "scattermapbox"
        },
        {
         "hoverinfo": "text",
         "lat": [
          41.9256,
          41.9288
         ],
         "legendgroup": "member",
         "line": {
          "color": "#1f77b4",
          "width": 2
         },
         "lon": [
          -87.6537,
          -87.6639
         ],
         "mode": "lines",
         "name": "member Route",
         "showlegend": false,
         "text": "Route: Sheffield Ave & Fullerton Ave <-> Southport Ave & Wrightwood Ave",
         "type": "scattermapbox"
        },
        {
         "hoverinfo": "text",
         "lat": [
          41.9256
         ],
         "legendgroup": "member",
         "lon": [
          -87.6537
         ],
         "marker": {
          "color": "#1f77b4",
          "size": 8
         },
         "mode": "markers",
         "name": "member Start",
         "showlegend": false,
         "text": "Sheffield Ave & Fullerton Ave",
         "type": "scattermapbox"
        },
        {
         "hoverinfo": "text",
         "lat": [
          41.9288
         ],
         "legendgroup": "member",
         "lon": [
          -87.6639
         ],
         "marker": {
          "color": "#1f77b4",
          "size": 8
         },
         "mode": "markers",
         "name": "member End",
         "showlegend": false,
         "text": "Southport Ave & Wrightwood Ave",
         "type": "scattermapbox"
        },
        {
         "hoverinfo": "text",
         "lat": [
          41.8938,
          41.8892
         ],
         "legendgroup": "member",
         "line": {
          "color": "#1f77b4",
          "width": 2
         },
         "lon": [
          -87.6417,
          -87.6385
         ],
         "mode": "lines",
         "name": "member Route",
         "showlegend": false,
         "text": "Route: Kingsbury St & Erie St <-> Kingsbury St & Kinzie St",
         "type": "scattermapbox"
        },
        {
         "hoverinfo": "text",
         "lat": [
          41.8938
         ],
         "legendgroup": "member",
         "lon": [
          -87.6417
         ],
         "marker": {
          "color": "#1f77b4",
          "size": 8
         },
         "mode": "markers",
         "name": "member Start",
         "showlegend": false,
         "text": "Kingsbury St & Erie St",
         "type": "scattermapbox"
        },
        {
         "hoverinfo": "text",
         "lat": [
          41.8892
         ],
         "legendgroup": "member",
         "lon": [
          -87.6385
         ],
         "marker": {
          "color": "#1f77b4",
          "size": 8
         },
         "mode": "markers",
         "name": "member End",
         "showlegend": false,
         "text": "Kingsbury St & Kinzie St",
         "type": "scattermapbox"
        },
        {
         "hoverinfo": "text",
         "lat": [
          41.884,
          41.8821
         ],
         "legendgroup": "member",
         "line": {
          "color": "#1f77b4",
          "width": 2
         },
         "lon": [
          -87.6247,
          -87.6398
         ],
         "mode": "lines",
         "name": "member Route",
         "showlegend": false,
         "text": "Route: Canal St & Madison St <-> Michigan Ave & Washington St",
         "type": "scattermapbox"
        },
        {
         "hoverinfo": "text",
         "lat": [
          41.884
         ],
         "legendgroup": "member",
         "lon": [
          -87.6247
         ],
         "marker": {
          "color": "#1f77b4",
          "size": 8
         },
         "mode": "markers",
         "name": "member Start",
         "showlegend": false,
         "text": "Canal St & Madison St",
         "type": "scattermapbox"
        },
        {
         "hoverinfo": "text",
         "lat": [
          41.8821
         ],
         "legendgroup": "member",
         "lon": [
          -87.6398
         ],
         "marker": {
          "color": "#1f77b4",
          "size": 8
         },
         "mode": "markers",
         "name": "member End",
         "showlegend": false,
         "text": "Michigan Ave & Washington St",
         "type": "scattermapbox"
        },
        {
         "hoverinfo": "text",
         "lat": [
          41.7915,
          41.7851
         ],
         "legendgroup": "member",
         "line": {
          "color": "#1f77b4",
          "width": 2
         },
         "lon": [
          -87.5999,
          -87.6011
         ],
         "mode": "lines",
         "name": "member Route",
         "showlegend": false,
         "text": "Route: Ellis Ave & 60th St <-> University Ave & 57th St",
         "type": "scattermapbox"
        },
        {
         "hoverinfo": "text",
         "lat": [
          41.7915
         ],
         "legendgroup": "member",
         "lon": [
          -87.5999
         ],
         "marker": {
          "color": "#1f77b4",
          "size": 8
         },
         "mode": "markers",
         "name": "member Start",
         "showlegend": false,
         "text": "Ellis Ave & 60th St",
         "type": "scattermapbox"
        },
        {
         "hoverinfo": "text",
         "lat": [
          41.7851
         ],
         "legendgroup": "member",
         "lon": [
          -87.6011
         ],
         "marker": {
          "color": "#1f77b4",
          "size": 8
         },
         "mode": "markers",
         "name": "member End",
         "showlegend": false,
         "text": "University Ave & 57th St",
         "type": "scattermapbox"
        },
        {
         "hoverinfo": "text",
         "lat": [
          41.9288,
          41.9256
         ],
         "legendgroup": "member",
         "line": {
          "color": "#1f77b4",
          "width": 2
         },
         "lon": [
          -87.6639,
          -87.6537
         ],
         "mode": "lines",
         "name": "member Route",
         "showlegend": false,
         "text": "Route: Sheffield Ave & Fullerton Ave <-> Southport Ave & Wrightwood Ave",
         "type": "scattermapbox"
        },
        {
         "hoverinfo": "text",
         "lat": [
          41.9288
         ],
         "legendgroup": "member",
         "lon": [
          -87.6639
         ],
         "marker": {
          "color": "#1f77b4",
          "size": 8
         },
         "mode": "markers",
         "name": "member Start",
         "showlegend": false,
         "text": "Sheffield Ave & Fullerton Ave",
         "type": "scattermapbox"
        },
        {
         "hoverinfo": "text",
         "lat": [
          41.9256
         ],
         "legendgroup": "member",
         "lon": [
          -87.6537
         ],
         "marker": {
          "color": "#1f77b4",
          "size": 8
         },
         "mode": "markers",
         "name": "member End",
         "showlegend": false,
         "text": "Southport Ave & Wrightwood Ave",
         "type": "scattermapbox"
        },
        {
         "hoverinfo": "text",
         "lat": [
          41.9401,
          41.9402
         ],
         "legendgroup": "member",
         "line": {
          "color": "#1f77b4",
          "width": 2
         },
         "lon": [
          -87.6455,
          -87.653
         ],
         "mode": "lines",
         "name": "member Route",
         "showlegend": false,
         "text": "Route: Broadway & Belmont Ave <-> Wilton Ave & Belmont Ave",
         "type": "scattermapbox"
        },
        {
         "hoverinfo": "text",
         "lat": [
          41.9401
         ],
         "legendgroup": "member",
         "lon": [
          -87.6455
         ],
         "marker": {
          "color": "#1f77b4",
          "size": 8
         },
         "mode": "markers",
         "name": "member Start",
         "showlegend": false,
         "text": "Broadway & Belmont Ave",
         "type": "scattermapbox"
        },
        {
         "hoverinfo": "text",
         "lat": [
          41.9402
         ],
         "legendgroup": "member",
         "lon": [
          -87.653
         ],
         "marker": {
          "color": "#1f77b4",
          "size": 8
         },
         "mode": "markers",
         "name": "member End",
         "showlegend": false,
         "text": "Wilton Ave & Belmont Ave",
         "type": "scattermapbox"
        },
        {
         "hoverinfo": "text",
         "lat": [
          41.8892,
          41.8793
         ],
         "legendgroup": "member",
         "line": {
          "color": "#1f77b4",
          "width": 2
         },
         "lon": [
          -87.6385,
          -87.6399
         ],
         "mode": "lines",
         "name": "member Route",
         "showlegend": false,
         "text": "Route: Canal St & Adams St <-> Kingsbury St & Kinzie St",
         "type": "scattermapbox"
        },
        {
         "hoverinfo": "text",
         "lat": [
          41.8892
         ],
         "legendgroup": "member",
         "lon": [
          -87.6385
         ],
         "marker": {
          "color": "#1f77b4",
          "size": 8
         },
         "mode": "markers",
         "name": "member Start",
         "showlegend": false,
         "text": "Canal St & Adams St",
         "type": "scattermapbox"
        },
        {
         "hoverinfo": "text",
         "lat": [
          41.8793
         ],
         "legendgroup": "member",
         "lon": [
          -87.6399
         ],
         "marker": {
          "color": "#1f77b4",
          "size": 8
         },
         "mode": "markers",
         "name": "member End",
         "showlegend": false,
         "text": "Kingsbury St & Kinzie St",
         "type": "scattermapbox"
        },
        {
         "hoverinfo": "text",
         "lat": [
          41.8834,
          41.8782
         ],
         "legendgroup": "member",
         "line": {
          "color": "#1f77b4",
          "width": 2
         },
         "lon": [
          -87.6412,
          -87.6319
         ],
         "mode": "lines",
         "name": "member Route",
         "showlegend": false,
         "text": "Route: Clinton St & Washington Blvd <-> LaSalle St & Jackson Blvd",
         "type": "scattermapbox"
        },
        {
         "hoverinfo": "text",
         "lat": [
          41.8834
         ],
         "legendgroup": "member",
         "lon": [
          -87.6412
         ],
         "marker": {
          "color": "#1f77b4",
          "size": 8
         },
         "mode": "markers",
         "name": "member Start",
         "showlegend": false,
         "text": "Clinton St & Washington Blvd",
         "type": "scattermapbox"
        },
        {
         "hoverinfo": "text",
         "lat": [
          41.8782
         ],
         "legendgroup": "member",
         "lon": [
          -87.6319
         ],
         "marker": {
          "color": "#1f77b4",
          "size": 8
         },
         "mode": "markers",
         "name": "member End",
         "showlegend": false,
         "text": "LaSalle St & Jackson Blvd",
         "type": "scattermapbox"
        },
        {
         "hoverinfo": "text",
         "lat": [
          41.8349,
          41.8347
         ],
         "legendgroup": "member",
         "line": {
          "color": "#1f77b4",
          "width": 2
         },
         "lon": [
          -87.6179,
          -87.6258
         ],
         "mode": "lines",
         "name": "member Route",
         "showlegend": false,
         "text": "Route: Calumet Ave & 33rd St <-> State St & 33rd St",
         "type": "scattermapbox"
        },
        {
         "hoverinfo": "text",
         "lat": [
          41.8349
         ],
         "legendgroup": "member",
         "lon": [
          -87.6179
         ],
         "marker": {
          "color": "#1f77b4",
          "size": 8
         },
         "mode": "markers",
         "name": "member Start",
         "showlegend": false,
         "text": "Calumet Ave & 33rd St",
         "type": "scattermapbox"
        },
        {
         "hoverinfo": "text",
         "lat": [
          41.8347
         ],
         "legendgroup": "member",
         "lon": [
          -87.6258
         ],
         "marker": {
          "color": "#1f77b4",
          "size": 8
         },
         "mode": "markers",
         "name": "member End",
         "showlegend": false,
         "text": "State St & 33rd St",
         "type": "scattermapbox"
        },
        {
         "hoverinfo": "text",
         "lat": [
          41.7943,
          41.7996
         ],
         "legendgroup": "member",
         "line": {
          "color": "#1f77b4",
          "width": 2
         },
         "lon": [
          -87.6015,
          -87.5947
         ],
         "mode": "lines",
         "name": "member Route",
         "showlegend": false,
         "text": "Route: Ellis Ave & 55th St <-> Kimbark Ave & 53rd St",
         "type": "scattermapbox"
        },
        {
         "hoverinfo": "text",
         "lat": [
          41.7943
         ],
         "legendgroup": "member",
         "lon": [
          -87.6015
         ],
         "marker": {
          "color": "#1f77b4",
          "size": 8
         },
         "mode": "markers",
         "name": "member Start",
         "showlegend": false,
         "text": "Ellis Ave & 55th St",
         "type": "scattermapbox"
        },
        {
         "hoverinfo": "text",
         "lat": [
          41.7996
         ],
         "legendgroup": "member",
         "lon": [
          -87.5947
         ],
         "marker": {
          "color": "#1f77b4",
          "size": 8
         },
         "mode": "markers",
         "name": "member End",
         "showlegend": false,
         "text": "Kimbark Ave & 53rd St",
         "type": "scattermapbox"
        },
        {
         "hoverinfo": "text",
         "lat": [
          41.8672,
          41.8578
         ],
         "legendgroup": "member",
         "line": {
          "color": "#1f77b4",
          "width": 2
         },
         "lon": [
          -87.626,
          -87.6246
         ],
         "mode": "lines",
         "name": "member Route",
         "showlegend": false,
         "text": "Route: Michigan Ave & 18th St <-> Wabash Ave & Roosevelt Rd",
         "type": "scattermapbox"
        },
        {
         "hoverinfo": "text",
         "lat": [
          41.8672
         ],
         "legendgroup": "member",
         "lon": [
          -87.626
         ],
         "marker": {
          "color": "#1f77b4",
          "size": 8
         },
         "mode": "markers",
         "name": "member Start",
         "showlegend": false,
         "text": "Michigan Ave & 18th St",
         "type": "scattermapbox"
        },
        {
         "hoverinfo": "text",
         "lat": [
          41.8578
         ],
         "legendgroup": "member",
         "lon": [
          -87.6246
         ],
         "marker": {
          "color": "#1f77b4",
          "size": 8
         },
         "mode": "markers",
         "name": "member End",
         "showlegend": false,
         "text": "Wabash Ave & Roosevelt Rd",
         "type": "scattermapbox"
        },
        {
         "hoverinfo": "text",
         "lat": [
          41.9295,
          41.9324
         ],
         "legendgroup": "member",
         "line": {
          "color": "#1f77b4",
          "width": 2
         },
         "lon": [
          -87.6431,
          -87.6527
         ],
         "mode": "lines",
         "name": "member Route",
         "showlegend": false,
         "text": "Route: Clark St & Wrightwood Ave <-> Wilton Ave & Diversey Pkwy",
         "type": "scattermapbox"
        },
        {
         "hoverinfo": "text",
         "lat": [
          41.9295
         ],
         "legendgroup": "member",
         "lon": [
          -87.6431
         ],
         "marker": {
          "color": "#1f77b4",
          "size": 8
         },
         "mode": "markers",
         "name": "member Start",
         "showlegend": false,
         "text": "Clark St & Wrightwood Ave",
         "type": "scattermapbox"
        },
        {
         "hoverinfo": "text",
         "lat": [
          41.9324
         ],
         "legendgroup": "member",
         "lon": [
          -87.6527
         ],
         "marker": {
          "color": "#1f77b4",
          "size": 8
         },
         "mode": "markers",
         "name": "member End",
         "showlegend": false,
         "text": "Wilton Ave & Diversey Pkwy",
         "type": "scattermapbox"
        },
        {
         "hoverinfo": "text",
         "lat": [
          41.9691,
          41.9733
         ],
         "legendgroup": "member",
         "line": {
          "color": "#1f77b4",
          "width": 2
         },
         "lon": [
          -87.6742,
          -87.6678
         ],
         "mode": "lines",
         "name": "member Route",
         "showlegend": false,
         "text": "Route: Clark St & Winnemac Ave <-> Ravenswood Ave & Lawrence Ave",
         "type": "scattermapbox"
        },
        {
         "hoverinfo": "text",
         "lat": [
          41.9691
         ],
         "legendgroup": "member",
         "lon": [
          -87.6742
         ],
         "marker": {
          "color": "#1f77b4",
          "size": 8
         },
         "mode": "markers",
         "name": "member Start",
         "showlegend": false,
         "text": "Clark St & Winnemac Ave",
         "type": "scattermapbox"
        },
        {
         "hoverinfo": "text",
         "lat": [
          41.9733
         ],
         "legendgroup": "member",
         "lon": [
          -87.6678
         ],
         "marker": {
          "color": "#1f77b4",
          "size": 8
         },
         "mode": "markers",
         "name": "member End",
         "showlegend": false,
         "text": "Ravenswood Ave & Lawrence Ave",
         "type": "scattermapbox"
        },
        {
         "hoverinfo": "text",
         "lat": [
          41.7996,
          41.7915
         ],
         "legendgroup": "member",
         "line": {
          "color": "#1f77b4",
          "width": 2
         },
         "lon": [
          -87.5947,
          -87.5999
         ],
         "mode": "lines",
         "name": "member Route",
         "showlegend": false,
         "text": "Route: Kimbark Ave & 53rd St <-> University Ave & 57th St",
         "type": "scattermapbox"
        },
        {
         "hoverinfo": "text",
         "lat": [
          41.7996
         ],
         "legendgroup": "member",
         "lon": [
          -87.5947
         ],
         "marker": {
          "color": "#1f77b4",
          "size": 8
         },
         "mode": "markers",
         "name": "member Start",
         "showlegend": false,
         "text": "Kimbark Ave & 53rd St",
         "type": "scattermapbox"
        },
        {
         "hoverinfo": "text",
         "lat": [
          41.7915
         ],
         "legendgroup": "member",
         "lon": [
          -87.5999
         ],
         "marker": {
          "color": "#1f77b4",
          "size": 8
         },
         "mode": "markers",
         "name": "member End",
         "showlegend": false,
         "text": "University Ave & 57th St",
         "type": "scattermapbox"
        },
        {
         "hoverinfo": "text",
         "lat": [
          41.9784,
          41.978
         ],
         "legendgroup": "member",
         "line": {
          "color": "#1f77b4",
          "width": 2
         },
         "lon": [
          -87.6598,
          -87.668
         ],
         "mode": "lines",
         "name": "member Route",
         "showlegend": false,
         "text": "Route: Broadway & Berwyn Ave <-> Clark St & Berwyn Ave",
         "type": "scattermapbox"
        },
        {
         "hoverinfo": "text",
         "lat": [
          41.9784
         ],
         "legendgroup": "member",
         "lon": [
          -87.6598
         ],
         "marker": {
          "color": "#1f77b4",
          "size": 8
         },
         "mode": "markers",
         "name": "member Start",
         "showlegend": false,
         "text": "Broadway & Berwyn Ave",
         "type": "scattermapbox"
        },
        {
         "hoverinfo": "text",
         "lat": [
          41.978
         ],
         "legendgroup": "member",
         "lon": [
          -87.668
         ],
         "marker": {
          "color": "#1f77b4",
          "size": 8
         },
         "mode": "markers",
         "name": "member End",
         "showlegend": false,
         "text": "Clark St & Berwyn Ave",
         "type": "scattermapbox"
        },
        {
         "hoverinfo": "text",
         "lat": [
          41.9256,
          41.9253
         ],
         "legendgroup": "member",
         "line": {
          "color": "#1f77b4",
          "width": 2
         },
         "lon": [
          -87.6537,
          -87.6658
         ],
         "mode": "lines",
         "name": "member Route",
         "showlegend": false,
         "text": "Route: Greenview Ave & Fullerton Ave <-> Sheffield Ave & Fullerton Ave",
         "type": "scattermapbox"
        },
        {
         "hoverinfo": "text",
         "lat": [
          41.9256
         ],
         "legendgroup": "member",
         "lon": [
          -87.6537
         ],
         "marker": {
          "color": "#1f77b4",
          "size": 8
         },
         "mode": "markers",
         "name": "member Start",
         "showlegend": false,
         "text": "Greenview Ave & Fullerton Ave",
         "type": "scattermapbox"
        },
        {
         "hoverinfo": "text",
         "lat": [
          41.9253
         ],
         "legendgroup": "member",
         "lon": [
          -87.6658
         ],
         "marker": {
          "color": "#1f77b4",
          "size": 8
         },
         "mode": "markers",
         "name": "member End",
         "showlegend": false,
         "text": "Sheffield Ave & Fullerton Ave",
         "type": "scattermapbox"
        },
        {
         "hoverinfo": "text",
         "lat": [
          41.8347,
          41.8349
         ],
         "legendgroup": "member",
         "line": {
          "color": "#1f77b4",
          "width": 2
         },
         "lon": [
          -87.6258,
          -87.6179
         ],
         "mode": "lines",
         "name": "member Route",
         "showlegend": false,
         "text": "Route: Calumet Ave & 33rd St <-> State St & 33rd St",
         "type": "scattermapbox"
        },
        {
         "hoverinfo": "text",
         "lat": [
          41.8347
         ],
         "legendgroup": "member",
         "lon": [
          -87.6258
         ],
         "marker": {
          "color": "#1f77b4",
          "size": 8
         },
         "mode": "markers",
         "name": "member Start",
         "showlegend": false,
         "text": "Calumet Ave & 33rd St",
         "type": "scattermapbox"
        },
        {
         "hoverinfo": "text",
         "lat": [
          41.8349
         ],
         "legendgroup": "member",
         "lon": [
          -87.6179
         ],
         "marker": {
          "color": "#1f77b4",
          "size": 8
         },
         "mode": "markers",
         "name": "member End",
         "showlegend": false,
         "text": "State St & 33rd St",
         "type": "scattermapbox"
        },
        {
         "hoverinfo": "text",
         "lat": [
          41.978,
          41.9784
         ],
         "legendgroup": "member",
         "line": {
          "color": "#1f77b4",
          "width": 2
         },
         "lon": [
          -87.668,
          -87.6598
         ],
         "mode": "lines",
         "name": "member Route",
         "showlegend": false,
         "text": "Route: Broadway & Berwyn Ave <-> Clark St & Berwyn Ave",
         "type": "scattermapbox"
        },
        {
         "hoverinfo": "text",
         "lat": [
          41.978
         ],
         "legendgroup": "member",
         "lon": [
          -87.668
         ],
         "marker": {
          "color": "#1f77b4",
          "size": 8
         },
         "mode": "markers",
         "name": "member Start",
         "showlegend": false,
         "text": "Broadway & Berwyn Ave",
         "type": "scattermapbox"
        },
        {
         "hoverinfo": "text",
         "lat": [
          41.9784
         ],
         "legendgroup": "member",
         "lon": [
          -87.6598
         ],
         "marker": {
          "color": "#1f77b4",
          "size": 8
         },
         "mode": "markers",
         "name": "member End",
         "showlegend": false,
         "text": "Clark St & Berwyn Ave",
         "type": "scattermapbox"
        },
        {
         "hoverinfo": "text",
         "lat": [
          41.7996,
          41.7943
         ],
         "legendgroup": "member",
         "line": {
          "color": "#1f77b4",
          "width": 2
         },
         "lon": [
          -87.5947,
          -87.6015
         ],
         "mode": "lines",
         "name": "member Route",
         "showlegend": false,
         "text": "Route: Ellis Ave & 55th St <-> Kimbark Ave & 53rd St",
         "type": "scattermapbox"
        },
        {
         "hoverinfo": "text",
         "lat": [
          41.7996
         ],
         "legendgroup": "member",
         "lon": [
          -87.5947
         ],
         "marker": {
          "color": "#1f77b4",
          "size": 8
         },
         "mode": "markers",
         "name": "member Start",
         "showlegend": false,
         "text": "Ellis Ave & 55th St",
         "type": "scattermapbox"
        },
        {
         "hoverinfo": "text",
         "lat": [
          41.7943
         ],
         "legendgroup": "member",
         "lon": [
          -87.6015
         ],
         "marker": {
          "color": "#1f77b4",
          "size": 8
         },
         "mode": "markers",
         "name": "member End",
         "showlegend": false,
         "text": "Kimbark Ave & 53rd St",
         "type": "scattermapbox"
        },
        {
         "hoverinfo": "text",
         "lat": [
          41.9324,
          41.9295
         ],
         "legendgroup": "member",
         "line": {
          "color": "#1f77b4",
          "width": 2
         },
         "lon": [
          -87.6527,
          -87.6431
         ],
         "mode": "lines",
         "name": "member Route",
         "showlegend": false,
         "text": "Route: Clark St & Wrightwood Ave <-> Wilton Ave & Diversey Pkwy",
         "type": "scattermapbox"
        },
        {
         "hoverinfo": "text",
         "lat": [
          41.9324
         ],
         "legendgroup": "member",
         "lon": [
          -87.6527
         ],
         "marker": {
          "color": "#1f77b4",
          "size": 8
         },
         "mode": "markers",
         "name": "member Start",
         "showlegend": false,
         "text": "Clark St & Wrightwood Ave",
         "type": "scattermapbox"
        },
        {
         "hoverinfo": "text",
         "lat": [
          41.9295
         ],
         "legendgroup": "member",
         "lon": [
          -87.6431
         ],
         "marker": {
          "color": "#1f77b4",
          "size": 8
         },
         "mode": "markers",
         "name": "member End",
         "showlegend": false,
         "text": "Wilton Ave & Diversey Pkwy",
         "type": "scattermapbox"
        },
        {
         "lat": [
          null
         ],
         "legendgroup": "member",
         "lon": [
          null
         ],
         "marker": {
          "color": "#1f77b4",
          "size": 8
         },
         "mode": "markers",
         "name": "Member",
         "showlegend": true,
         "type": "scattermapbox"
        },
        {
         "lat": [
          null
         ],
         "legendgroup": "casual",
         "lon": [
          null
         ],
         "marker": {
          "color": "#ff7f0e",
          "size": 8
         },
         "mode": "markers",
         "name": "Casual",
         "showlegend": true,
         "type": "scattermapbox"
        }
       ],
       "layout": {
        "autosize": true,
        "mapbox": {
         "center": {
          "lat": 41.880495999999994,
          "lon": -87.625199
         },
         "style": "open-street-map",
         "zoom": 10
        },
        "margin": {
         "b": 0,
         "l": 0,
         "r": 0,
         "t": 0
        },
        "template": {
         "data": {
          "bar": [
           {
            "error_x": {
             "color": "#2a3f5f"
            },
            "error_y": {
             "color": "#2a3f5f"
            },
            "marker": {
             "line": {
              "color": "#E5ECF6",
              "width": 0.5
             },
             "pattern": {
              "fillmode": "overlay",
              "size": 10,
              "solidity": 0.2
             }
            },
            "type": "bar"
           }
          ],
          "barpolar": [
           {
            "marker": {
             "line": {
              "color": "#E5ECF6",
              "width": 0.5
             },
             "pattern": {
              "fillmode": "overlay",
              "size": 10,
              "solidity": 0.2
             }
            },
            "type": "barpolar"
           }
          ],
          "carpet": [
           {
            "aaxis": {
             "endlinecolor": "#2a3f5f",
             "gridcolor": "white",
             "linecolor": "white",
             "minorgridcolor": "white",
             "startlinecolor": "#2a3f5f"
            },
            "baxis": {
             "endlinecolor": "#2a3f5f",
             "gridcolor": "white",
             "linecolor": "white",
             "minorgridcolor": "white",
             "startlinecolor": "#2a3f5f"
            },
            "type": "carpet"
           }
          ],
          "choropleth": [
           {
            "colorbar": {
             "outlinewidth": 0,
             "ticks": ""
            },
            "type": "choropleth"
           }
          ],
          "contour": [
           {
            "colorbar": {
             "outlinewidth": 0,
             "ticks": ""
            },
            "colorscale": [
             [
              0,
              "#0d0887"
             ],
             [
              0.1111111111111111,
              "#46039f"
             ],
             [
              0.2222222222222222,
              "#7201a8"
             ],
             [
              0.3333333333333333,
              "#9c179e"
             ],
             [
              0.4444444444444444,
              "#bd3786"
             ],
             [
              0.5555555555555556,
              "#d8576b"
             ],
             [
              0.6666666666666666,
              "#ed7953"
             ],
             [
              0.7777777777777778,
              "#fb9f3a"
             ],
             [
              0.8888888888888888,
              "#fdca26"
             ],
             [
              1,
              "#f0f921"
             ]
            ],
            "type": "contour"
           }
          ],
          "contourcarpet": [
           {
            "colorbar": {
             "outlinewidth": 0,
             "ticks": ""
            },
            "type": "contourcarpet"
           }
          ],
          "heatmap": [
           {
            "colorbar": {
             "outlinewidth": 0,
             "ticks": ""
            },
            "colorscale": [
             [
              0,
              "#0d0887"
             ],
             [
              0.1111111111111111,
              "#46039f"
             ],
             [
              0.2222222222222222,
              "#7201a8"
             ],
             [
              0.3333333333333333,
              "#9c179e"
             ],
             [
              0.4444444444444444,
              "#bd3786"
             ],
             [
              0.5555555555555556,
              "#d8576b"
             ],
             [
              0.6666666666666666,
              "#ed7953"
             ],
             [
              0.7777777777777778,
              "#fb9f3a"
             ],
             [
              0.8888888888888888,
              "#fdca26"
             ],
             [
              1,
              "#f0f921"
             ]
            ],
            "type": "heatmap"
           }
          ],
          "histogram": [
           {
            "marker": {
             "pattern": {
              "fillmode": "overlay",
              "size": 10,
              "solidity": 0.2
             }
            },
            "type": "histogram"
           }
          ],
          "histogram2d": [
           {
            "colorbar": {
             "outlinewidth": 0,
             "ticks": ""
            },
            "colorscale": [
             [
              0,
              "#0d0887"
             ],
             [
              0.1111111111111111,
              "#46039f"
             ],
             [
              0.2222222222222222,
              "#7201a8"
             ],
             [
              0.3333333333333333,
              "#9c179e"
             ],
             [
              0.4444444444444444,
              "#bd3786"
             ],
             [
              0.5555555555555556,
              "#d8576b"
             ],
             [
              0.6666666666666666,
              "#ed7953"
             ],
             [
              0.7777777777777778,
              "#fb9f3a"
             ],
             [
              0.8888888888888888,
              "#fdca26"
             ],
             [
              1,
              "#f0f921"
             ]
            ],
            "type": "histogram2d"
           }
          ],
          "histogram2dcontour": [
           {
            "colorbar": {
             "outlinewidth": 0,
             "ticks": ""
            },
            "colorscale": [
             [
              0,
              "#0d0887"
             ],
             [
              0.1111111111111111,
              "#46039f"
             ],
             [
              0.2222222222222222,
              "#7201a8"
             ],
             [
              0.3333333333333333,
              "#9c179e"
             ],
             [
              0.4444444444444444,
              "#bd3786"
             ],
             [
              0.5555555555555556,
              "#d8576b"
             ],
             [
              0.6666666666666666,
              "#ed7953"
             ],
             [
              0.7777777777777778,
              "#fb9f3a"
             ],
             [
              0.8888888888888888,
              "#fdca26"
             ],
             [
              1,
              "#f0f921"
             ]
            ],
            "type": "histogram2dcontour"
           }
          ],
          "mesh3d": [
           {
            "colorbar": {
             "outlinewidth": 0,
             "ticks": ""
            },
            "type": "mesh3d"
           }
          ],
          "parcoords": [
           {
            "line": {
             "colorbar": {
              "outlinewidth": 0,
              "ticks": ""
             }
            },
            "type": "parcoords"
           }
          ],
          "pie": [
           {
            "automargin": true,
            "type": "pie"
           }
          ],
          "scatter": [
           {
            "fillpattern": {
             "fillmode": "overlay",
             "size": 10,
             "solidity": 0.2
            },
            "type": "scatter"
           }
          ],
          "scatter3d": [
           {
            "line": {
             "colorbar": {
              "outlinewidth": 0,
              "ticks": ""
             }
            },
            "marker": {
             "colorbar": {
              "outlinewidth": 0,
              "ticks": ""
             }
            },
            "type": "scatter3d"
           }
          ],
          "scattercarpet": [
           {
            "marker": {
             "colorbar": {
              "outlinewidth": 0,
              "ticks": ""
             }
            },
            "type": "scattercarpet"
           }
          ],
          "scattergeo": [
           {
            "marker": {
             "colorbar": {
              "outlinewidth": 0,
              "ticks": ""
             }
            },
            "type": "scattergeo"
           }
          ],
          "scattergl": [
           {
            "marker": {
             "colorbar": {
              "outlinewidth": 0,
              "ticks": ""
             }
            },
            "type": "scattergl"
           }
          ],
          "scattermap": [
           {
            "marker": {
             "colorbar": {
              "outlinewidth": 0,
              "ticks": ""
             }
            },
            "type": "scattermap"
           }
          ],
          "scattermapbox": [
           {
            "marker": {
             "colorbar": {
              "outlinewidth": 0,
              "ticks": ""
             }
            },
            "type": "scattermapbox"
           }
          ],
          "scatterpolar": [
           {
            "marker": {
             "colorbar": {
              "outlinewidth": 0,
              "ticks": ""
             }
            },
            "type": "scatterpolar"
           }
          ],
          "scatterpolargl": [
           {
            "marker": {
             "colorbar": {
              "outlinewidth": 0,
              "ticks": ""
             }
            },
            "type": "scatterpolargl"
           }
          ],
          "scatterternary": [
           {
            "marker": {
             "colorbar": {
              "outlinewidth": 0,
              "ticks": ""
             }
            },
            "type": "scatterternary"
           }
          ],
          "surface": [
           {
            "colorbar": {
             "outlinewidth": 0,
             "ticks": ""
            },
            "colorscale": [
             [
              0,
              "#0d0887"
             ],
             [
              0.1111111111111111,
              "#46039f"
             ],
             [
              0.2222222222222222,
              "#7201a8"
             ],
             [
              0.3333333333333333,
              "#9c179e"
             ],
             [
              0.4444444444444444,
              "#bd3786"
             ],
             [
              0.5555555555555556,
              "#d8576b"
             ],
             [
              0.6666666666666666,
              "#ed7953"
             ],
             [
              0.7777777777777778,
              "#fb9f3a"
             ],
             [
              0.8888888888888888,
              "#fdca26"
             ],
             [
              1,
              "#f0f921"
             ]
            ],
            "type": "surface"
           }
          ],
          "table": [
           {
            "cells": {
             "fill": {
              "color": "#EBF0F8"
             },
             "line": {
              "color": "white"
             }
            },
            "header": {
             "fill": {
              "color": "#C8D4E3"
             },
             "line": {
              "color": "white"
             }
            },
            "type": "table"
           }
          ]
         },
         "layout": {
          "annotationdefaults": {
           "arrowcolor": "#2a3f5f",
           "arrowhead": 0,
           "arrowwidth": 1
          },
          "autotypenumbers": "strict",
          "coloraxis": {
           "colorbar": {
            "outlinewidth": 0,
            "ticks": ""
           }
          },
          "colorscale": {
           "diverging": [
            [
             0,
             "#8e0152"
            ],
            [
             0.1,
             "#c51b7d"
            ],
            [
             0.2,
             "#de77ae"
            ],
            [
             0.3,
             "#f1b6da"
            ],
            [
             0.4,
             "#fde0ef"
            ],
            [
             0.5,
             "#f7f7f7"
            ],
            [
             0.6,
             "#e6f5d0"
            ],
            [
             0.7,
             "#b8e186"
            ],
            [
             0.8,
             "#7fbc41"
            ],
            [
             0.9,
             "#4d9221"
            ],
            [
             1,
             "#276419"
            ]
           ],
           "sequential": [
            [
             0,
             "#0d0887"
            ],
            [
             0.1111111111111111,
             "#46039f"
            ],
            [
             0.2222222222222222,
             "#7201a8"
            ],
            [
             0.3333333333333333,
             "#9c179e"
            ],
            [
             0.4444444444444444,
             "#bd3786"
            ],
            [
             0.5555555555555556,
             "#d8576b"
            ],
            [
             0.6666666666666666,
             "#ed7953"
            ],
            [
             0.7777777777777778,
             "#fb9f3a"
            ],
            [
             0.8888888888888888,
             "#fdca26"
            ],
            [
             1,
             "#f0f921"
            ]
           ],
           "sequentialminus": [
            [
             0,
             "#0d0887"
            ],
            [
             0.1111111111111111,
             "#46039f"
            ],
            [
             0.2222222222222222,
             "#7201a8"
            ],
            [
             0.3333333333333333,
             "#9c179e"
            ],
            [
             0.4444444444444444,
             "#bd3786"
            ],
            [
             0.5555555555555556,
             "#d8576b"
            ],
            [
             0.6666666666666666,
             "#ed7953"
            ],
            [
             0.7777777777777778,
             "#fb9f3a"
            ],
            [
             0.8888888888888888,
             "#fdca26"
            ],
            [
             1,
             "#f0f921"
            ]
           ]
          },
          "colorway": [
           "#636efa",
           "#EF553B",
           "#00cc96",
           "#ab63fa",
           "#FFA15A",
           "#19d3f3",
           "#FF6692",
           "#B6E880",
           "#FF97FF",
           "#FECB52"
          ],
          "font": {
           "color": "#2a3f5f"
          },
          "geo": {
           "bgcolor": "white",
           "lakecolor": "white",
           "landcolor": "#E5ECF6",
           "showlakes": true,
           "showland": true,
           "subunitcolor": "white"
          },
          "hoverlabel": {
           "align": "left"
          },
          "hovermode": "closest",
          "mapbox": {
           "style": "light"
          },
          "paper_bgcolor": "white",
          "plot_bgcolor": "#E5ECF6",
          "polar": {
           "angularaxis": {
            "gridcolor": "white",
            "linecolor": "white",
            "ticks": ""
           },
           "bgcolor": "#E5ECF6",
           "radialaxis": {
            "gridcolor": "white",
            "linecolor": "white",
            "ticks": ""
           }
          },
          "scene": {
           "xaxis": {
            "backgroundcolor": "#E5ECF6",
            "gridcolor": "white",
            "gridwidth": 2,
            "linecolor": "white",
            "showbackground": true,
            "ticks": "",
            "zerolinecolor": "white"
           },
           "yaxis": {
            "backgroundcolor": "#E5ECF6",
            "gridcolor": "white",
            "gridwidth": 2,
            "linecolor": "white",
            "showbackground": true,
            "ticks": "",
            "zerolinecolor": "white"
           },
           "zaxis": {
            "backgroundcolor": "#E5ECF6",
            "gridcolor": "white",
            "gridwidth": 2,
            "linecolor": "white",
            "showbackground": true,
            "ticks": "",
            "zerolinecolor": "white"
           }
          },
          "shapedefaults": {
           "line": {
            "color": "#2a3f5f"
           }
          },
          "ternary": {
           "aaxis": {
            "gridcolor": "white",
            "linecolor": "white",
            "ticks": ""
           },
           "baxis": {
            "gridcolor": "white",
            "linecolor": "white",
            "ticks": ""
           },
           "bgcolor": "#E5ECF6",
           "caxis": {
            "gridcolor": "white",
            "linecolor": "white",
            "ticks": ""
           }
          },
          "title": {
           "x": 0.05
          },
          "xaxis": {
           "automargin": true,
           "gridcolor": "white",
           "linecolor": "white",
           "ticks": "",
           "title": {
            "standoff": 15
           },
           "zerolinecolor": "white",
           "zerolinewidth": 2
          },
          "yaxis": {
           "automargin": true,
           "gridcolor": "white",
           "linecolor": "white",
           "ticks": "",
           "title": {
            "standoff": 15
           },
           "zerolinecolor": "white",
           "zerolinewidth": 2
          }
         }
        }
       }
      }
     },
     "metadata": {},
     "output_type": "display_data"
    }
   ],
   "source": [
    "# To silence deprecated warning because of usage of Scattermapbox, for better control over the map, as Scatermap has some issues with zoom and mapcentering\n",
    "warnings.filterwarnings(\"ignore\", category=DeprecationWarning)\n",
    "\n",
    "n_top_stations = 50\n",
    "\n",
    "top_routes_map = pd.DataFrame()\n",
    "top_routes_map.drop(top_routes_map.index, inplace=True)\n",
    "top_routes_map = (\n",
    "    df_transformed.groupby(['usertype', 'normalized_route', 'start_lat', 'start_lng', 'end_lat', 'end_lng'])\n",
    "    .size()\n",
    "    .reset_index(name='count')\n",
    "    .sort_values(['usertype', 'count'], ascending=[True, False])\n",
    ")\n",
    "\n",
    "top_routes_map[['from_station_name', 'to_station_name']] = pd.DataFrame(\n",
    "   top_routes_map['normalized_route'].tolist(), index=top_routes_map.index\n",
    ")\n",
    "\n",
    "total_trips_per_usertype = top_routes_map.groupby('usertype')['count'].sum().reset_index(name='total_count')\n",
    "\n",
    "top_routes_map = top_routes_map.merge(total_trips_per_usertype, on='usertype')\n",
    "top_routes_map['normalized_count'] = top_routes_map['count'] / top_routes_map['total_count'] * 100  # Convert to percentage\n",
    "\n",
    "top_routes_map_selected = top_routes_map.groupby('usertype').head(n_top_stations).copy()\n",
    "\n",
    "usertype_colors = {\n",
    "    'member': \"#1f77b4\",\n",
    "    'casual': \"#ff7f0e\"\n",
    "}\n",
    "\n",
    "plotly_data = []\n",
    "\n",
    "for _, row in top_routes_map_selected.iterrows():\n",
    "    color = usertype_colors.get(row['usertype'], 'black')\n",
    "\n",
    "    # Lines between start and end points\n",
    "    plotly_data.append(\n",
    "        go.Scattermapbox(\n",
    "            lat=[row['start_lat'], row['end_lat']],\n",
    "            lon=[row['start_lng'], row['end_lng']],\n",
    "            mode='lines',\n",
    "            line=dict(width=2, color=color),\n",
    "            name=f\"{row['usertype']} Route\",\n",
    "            legendgroup=row['usertype'],\n",
    "            showlegend=False,\n",
    "            hoverinfo='text',\n",
    "            text=f\"Route: {row['from_station_name']} <-> {row['to_station_name']}\"\n",
    "        )\n",
    "    )\n",
    "\n",
    "    # start point marker\n",
    "    plotly_data.append(\n",
    "        go.Scattermapbox(\n",
    "            lat=[row['start_lat']],\n",
    "            lon=[row['start_lng']],\n",
    "            mode='markers',\n",
    "            marker=dict(size=8, color=color),\n",
    "            name=f\"{row['usertype']} Start\",\n",
    "            legendgroup=row['usertype'],\n",
    "            showlegend=False,\n",
    "            text=f\"{row['from_station_name']}\",\n",
    "            hoverinfo='text'\n",
    "        )\n",
    "    )\n",
    "\n",
    "    # end point marker\n",
    "    plotly_data.append(\n",
    "        go.Scattermapbox(\n",
    "            lat=[row['end_lat']],\n",
    "            lon=[row['end_lng']],\n",
    "            mode='markers',\n",
    "            marker=dict(size=8, color=color),\n",
    "            name=f\"{row['usertype']} End\",\n",
    "            legendgroup=row['usertype'],\n",
    "            showlegend=False,\n",
    "            text=f\"{row['to_station_name']}\",\n",
    "            hoverinfo='text'\n",
    "        )\n",
    "    )\n",
    "# dummy points for legend\n",
    "for usertype, color in usertype_colors.items():\n",
    "    plotly_data.append(\n",
    "        go.Scattermapbox(\n",
    "            lat=[None],\n",
    "            lon=[None],\n",
    "            mode='markers',\n",
    "            marker=dict(size=8, color=color),\n",
    "            name=usertype.capitalize(),\n",
    "            legendgroup=usertype,\n",
    "            showlegend=True\n",
    "        )\n",
    "    )\n",
    "\n",
    "\n",
    "fig = go.Figure(data=plotly_data)\n",
    "fig.update_layout(\n",
    "    mapbox=dict(\n",
    "        style=\"open-street-map\",\n",
    "        center=dict(lat=top_routes_map_selected['start_lat'].mean(), lon=top_routes_map_selected['start_lng'].mean()),\n",
    "        zoom=10,\n",
    "    ),\n",
    "    margin={\"r\": 0, \"t\": 0, \"l\": 0, \"b\": 0},\n",
    "    autosize=True\n",
    ")\n",
    "\n",
    "fig.show()\n"
   ]
  },
  {
   "cell_type": "markdown",
   "id": "ace6b2d2",
   "metadata": {},
   "source": [
    "The map shows the top routes taken by different user types. Casual users primarily operate in the lakeside area, which could be a potential target for promotional efforts."
   ]
  },
  {
   "cell_type": "markdown",
   "id": "4b525185",
   "metadata": {},
   "source": [
    "## Conclusion"
   ]
  },
  {
   "cell_type": "markdown",
   "id": "c867c03f",
   "metadata": {},
   "source": [
    "The analysis of the data reveals distinct usage patterns between **_member_** and **_casual_** users of the service. **_Member_** usage is concentrated on **weekdays**, with peak hours aligning with typical **commuting** times, indicating that _members_ primarily use the service for work-related travel. In contrast, **_casual_** users show increased activity on weekends and in the afternoons, pointing to a **predominantly leisure-oriented** usage pattern. \n",
    "\n",
    "Demographically, the service is **used predominantly by males**; however, a **higher percentage** of **female users remain unconverted** _casual_ users, highlighting a potential area for targeted conversion strategies. Age-wise, the **30–40 year old** demographic constitutes the **largest user segment**, including a **significant proportion** of unconverted **_casual_** users.\n",
    "\n",
    "Trip duration further differentiates user types, with **_members_** favoring **shorter trips** (under 30 minutes) and **_casual_** users engaging in **longer rides**, often **exceeding 30 minutes**. Seasonal usage trends indicate that **_casual_** user activity rises **during summer** months, suggesting an opportunity for seasonal promotions aimed at conversion.\n",
    "\n",
    "Spatial data on start and end stations, as well as popular routes, show distinct preferences between user types. **_Casual_ users are heavily concentrated around lakeside areas**, indicating these zones as high-potential targets for marketing and conversion efforts. Promotions focused on **popular _casual_ user stations and routes**, particularly during **peak leisure times and summer months**, could support **increased conversion** to membership."
   ]
  }
 ],
 "metadata": {
  "kernelspec": {
   "display_name": "Python 3",
   "language": "python",
   "name": "python3"
  },
  "language_info": {
   "codemirror_mode": {
    "name": "ipython",
    "version": 3
   },
   "file_extension": ".py",
   "mimetype": "text/x-python",
   "name": "python",
   "nbconvert_exporter": "python",
   "pygments_lexer": "ipython3",
   "version": "3.13.2"
  }
 },
 "nbformat": 4,
 "nbformat_minor": 5
}
